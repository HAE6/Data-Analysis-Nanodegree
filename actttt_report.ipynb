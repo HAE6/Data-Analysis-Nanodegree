<!DOCTYPE html>
<html>
<head><meta charset="utf-8" />

<title>act_report</title>

<script src="https://cdnjs.cloudflare.com/ajax/libs/require.js/2.1.10/require.min.js"></script>
<script src="https://cdnjs.cloudflare.com/ajax/libs/jquery/2.0.3/jquery.min.js"></script>



<style type="text/css">
    /*!
*
* Twitter Bootstrap
*
*/
/*!
 * Bootstrap v3.3.7 (http://getbootstrap.com)
 * Copyright 2011-2016 Twitter, Inc.
 * Licensed under MIT (https://github.com/twbs/bootstrap/blob/master/LICENSE)
 */
/*! normalize.css v3.0.3 | MIT License | github.com/necolas/normalize.css */
html {
  font-family: sans-serif;
  -ms-text-size-adjust: 100%;
  -webkit-text-size-adjust: 100%;
}
body {
  margin: 0;
}
article,
aside,
details,
figcaption,
figure,
footer,
header,
hgroup,
main,
menu,
nav,
section,
summary {
  display: block;
}
audio,
canvas,
progress,
video {
  display: inline-block;
  vertical-align: baseline;
}
audio:not([controls]) {
  display: none;
  height: 0;
}
[hidden],
template {
  display: none;
}
a {
  background-color: transparent;
}
a:active,
a:hover {
  outline: 0;
}
abbr[title] {
  border-bottom: 1px dotted;
}
b,
strong {
  font-weight: bold;
}
dfn {
  font-style: italic;
}
h1 {
  font-size: 2em;
  margin: 0.67em 0;
}
mark {
  background: #ff0;
  color: #000;
}
small {
  font-size: 80%;
}
sub,
sup {
  font-size: 75%;
  line-height: 0;
  position: relative;
  vertical-align: baseline;
}
sup {
  top: -0.5em;
}
sub {
  bottom: -0.25em;
}
img {
  border: 0;
}
svg:not(:root) {
  overflow: hidden;
}
figure {
  margin: 1em 40px;
}
hr {
  box-sizing: content-box;
  height: 0;
}
pre {
  overflow: auto;
}
code,
kbd,
pre,
samp {
  font-family: monospace, monospace;
  font-size: 1em;
}
button,
input,
optgroup,
select,
textarea {
  color: inherit;
  font: inherit;
  margin: 0;
}
button {
  overflow: visible;
}
button,
select {
  text-transform: none;
}
button,
html input[type="button"],
input[type="reset"],
input[type="submit"] {
  -webkit-appearance: button;
  cursor: pointer;
}
button[disabled],
html input[disabled] {
  cursor: default;
}
button::-moz-focus-inner,
input::-moz-focus-inner {
  border: 0;
  padding: 0;
}
input {
  line-height: normal;
}
input[type="checkbox"],
input[type="radio"] {
  box-sizing: border-box;
  padding: 0;
}
input[type="number"]::-webkit-inner-spin-button,
input[type="number"]::-webkit-outer-spin-button {
  height: auto;
}
input[type="search"] {
  -webkit-appearance: textfield;
  box-sizing: content-box;
}
input[type="search"]::-webkit-search-cancel-button,
input[type="search"]::-webkit-search-decoration {
  -webkit-appearance: none;
}
fieldset {
  border: 1px solid #c0c0c0;
  margin: 0 2px;
  padding: 0.35em 0.625em 0.75em;
}
legend {
  border: 0;
  padding: 0;
}
textarea {
  overflow: auto;
}
optgroup {
  font-weight: bold;
}
table {
  border-collapse: collapse;
  border-spacing: 0;
}
td,
th {
  padding: 0;
}
/*! Source: https://github.com/h5bp/html5-boilerplate/blob/master/src/css/main.css */
@media print {
  *,
  *:before,
  *:after {
    background: transparent !important;
    box-shadow: none !important;
    text-shadow: none !important;
  }
  a,
  a:visited {
    text-decoration: underline;
  }
  a[href]:after {
    content: " (" attr(href) ")";
  }
  abbr[title]:after {
    content: " (" attr(title) ")";
  }
  a[href^="#"]:after,
  a[href^="javascript:"]:after {
    content: "";
  }
  pre,
  blockquote {
    border: 1px solid #999;
    page-break-inside: avoid;
  }
  thead {
    display: table-header-group;
  }
  tr,
  img {
    page-break-inside: avoid;
  }
  img {
    max-width: 100% !important;
  }
  p,
  h2,
  h3 {
    orphans: 3;
    widows: 3;
  }
  h2,
  h3 {
    page-break-after: avoid;
  }
  .navbar {
    display: none;
  }
  .btn > .caret,
  .dropup > .btn > .caret {
    border-top-color: #000 !important;
  }
  .label {
    border: 1px solid #000;
  }
  .table {
    border-collapse: collapse !important;
  }
  .table td,
  .table th {
    background-color: #fff !important;
  }
  .table-bordered th,
  .table-bordered td {
    border: 1px solid #ddd !important;
  }
}
@font-face {
  font-family: 'Glyphicons Halflings';
  src: url('../components/bootstrap/fonts/glyphicons-halflings-regular.eot');
  src: url('../components/bootstrap/fonts/glyphicons-halflings-regular.eot?#iefix') format('embedded-opentype'), url('../components/bootstrap/fonts/glyphicons-halflings-regular.woff2') format('woff2'), url('../components/bootstrap/fonts/glyphicons-halflings-regular.woff') format('woff'), url('../components/bootstrap/fonts/glyphicons-halflings-regular.ttf') format('truetype'), url('../components/bootstrap/fonts/glyphicons-halflings-regular.svg#glyphicons_halflingsregular') format('svg');
}
.glyphicon {
  position: relative;
  top: 1px;
  display: inline-block;
  font-family: 'Glyphicons Halflings';
  font-style: normal;
  font-weight: normal;
  line-height: 1;
  -webkit-font-smoothing: antialiased;
  -moz-osx-font-smoothing: grayscale;
}
.glyphicon-asterisk:before {
  content: "\002a";
}
.glyphicon-plus:before {
  content: "\002b";
}
.glyphicon-euro:before,
.glyphicon-eur:before {
  content: "\20ac";
}
.glyphicon-minus:before {
  content: "\2212";
}
.glyphicon-cloud:before {
  content: "\2601";
}
.glyphicon-envelope:before {
  content: "\2709";
}
.glyphicon-pencil:before {
  content: "\270f";
}
.glyphicon-glass:before {
  content: "\e001";
}
.glyphicon-music:before {
  content: "\e002";
}
.glyphicon-search:before {
  content: "\e003";
}
.glyphicon-heart:before {
  content: "\e005";
}
.glyphicon-star:before {
  content: "\e006";
}
.glyphicon-star-empty:before {
  content: "\e007";
}
.glyphicon-user:before {
  content: "\e008";
}
.glyphicon-film:before {
  content: "\e009";
}
.glyphicon-th-large:before {
  content: "\e010";
}
.glyphicon-th:before {
  content: "\e011";
}
.glyphicon-th-list:before {
  content: "\e012";
}
.glyphicon-ok:before {
  content: "\e013";
}
.glyphicon-remove:before {
  content: "\e014";
}
.glyphicon-zoom-in:before {
  content: "\e015";
}
.glyphicon-zoom-out:before {
  content: "\e016";
}
.glyphicon-off:before {
  content: "\e017";
}
.glyphicon-signal:before {
  content: "\e018";
}
.glyphicon-cog:before {
  content: "\e019";
}
.glyphicon-trash:before {
  content: "\e020";
}
.glyphicon-home:before {
  content: "\e021";
}
.glyphicon-file:before {
  content: "\e022";
}
.glyphicon-time:before {
  content: "\e023";
}
.glyphicon-road:before {
  content: "\e024";
}
.glyphicon-download-alt:before {
  content: "\e025";
}
.glyphicon-download:before {
  content: "\e026";
}
.glyphicon-upload:before {
  content: "\e027";
}
.glyphicon-inbox:before {
  content: "\e028";
}
.glyphicon-play-circle:before {
  content: "\e029";
}
.glyphicon-repeat:before {
  content: "\e030";
}
.glyphicon-refresh:before {
  content: "\e031";
}
.glyphicon-list-alt:before {
  content: "\e032";
}
.glyphicon-lock:before {
  content: "\e033";
}
.glyphicon-flag:before {
  content: "\e034";
}
.glyphicon-headphones:before {
  content: "\e035";
}
.glyphicon-volume-off:before {
  content: "\e036";
}
.glyphicon-volume-down:before {
  content: "\e037";
}
.glyphicon-volume-up:before {
  content: "\e038";
}
.glyphicon-qrcode:before {
  content: "\e039";
}
.glyphicon-barcode:before {
  content: "\e040";
}
.glyphicon-tag:before {
  content: "\e041";
}
.glyphicon-tags:before {
  content: "\e042";
}
.glyphicon-book:before {
  content: "\e043";
}
.glyphicon-bookmark:before {
  content: "\e044";
}
.glyphicon-print:before {
  content: "\e045";
}
.glyphicon-camera:before {
  content: "\e046";
}
.glyphicon-font:before {
  content: "\e047";
}
.glyphicon-bold:before {
  content: "\e048";
}
.glyphicon-italic:before {
  content: "\e049";
}
.glyphicon-text-height:before {
  content: "\e050";
}
.glyphicon-text-width:before {
  content: "\e051";
}
.glyphicon-align-left:before {
  content: "\e052";
}
.glyphicon-align-center:before {
  content: "\e053";
}
.glyphicon-align-right:before {
  content: "\e054";
}
.glyphicon-align-justify:before {
  content: "\e055";
}
.glyphicon-list:before {
  content: "\e056";
}
.glyphicon-indent-left:before {
  content: "\e057";
}
.glyphicon-indent-right:before {
  content: "\e058";
}
.glyphicon-facetime-video:before {
  content: "\e059";
}
.glyphicon-picture:before {
  content: "\e060";
}
.glyphicon-map-marker:before {
  content: "\e062";
}
.glyphicon-adjust:before {
  content: "\e063";
}
.glyphicon-tint:before {
  content: "\e064";
}
.glyphicon-edit:before {
  content: "\e065";
}
.glyphicon-share:before {
  content: "\e066";
}
.glyphicon-check:before {
  content: "\e067";
}
.glyphicon-move:before {
  content: "\e068";
}
.glyphicon-step-backward:before {
  content: "\e069";
}
.glyphicon-fast-backward:before {
  content: "\e070";
}
.glyphicon-backward:before {
  content: "\e071";
}
.glyphicon-play:before {
  content: "\e072";
}
.glyphicon-pause:before {
  content: "\e073";
}
.glyphicon-stop:before {
  content: "\e074";
}
.glyphicon-forward:before {
  content: "\e075";
}
.glyphicon-fast-forward:before {
  content: "\e076";
}
.glyphicon-step-forward:before {
  content: "\e077";
}
.glyphicon-eject:before {
  content: "\e078";
}
.glyphicon-chevron-left:before {
  content: "\e079";
}
.glyphicon-chevron-right:before {
  content: "\e080";
}
.glyphicon-plus-sign:before {
  content: "\e081";
}
.glyphicon-minus-sign:before {
  content: "\e082";
}
.glyphicon-remove-sign:before {
  content: "\e083";
}
.glyphicon-ok-sign:before {
  content: "\e084";
}
.glyphicon-question-sign:before {
  content: "\e085";
}
.glyphicon-info-sign:before {
  content: "\e086";
}
.glyphicon-screenshot:before {
  content: "\e087";
}
.glyphicon-remove-circle:before {
  content: "\e088";
}
.glyphicon-ok-circle:before {
  content: "\e089";
}
.glyphicon-ban-circle:before {
  content: "\e090";
}
.glyphicon-arrow-left:before {
  content: "\e091";
}
.glyphicon-arrow-right:before {
  content: "\e092";
}
.glyphicon-arrow-up:before {
  content: "\e093";
}
.glyphicon-arrow-down:before {
  content: "\e094";
}
.glyphicon-share-alt:before {
  content: "\e095";
}
.glyphicon-resize-full:before {
  content: "\e096";
}
.glyphicon-resize-small:before {
  content: "\e097";
}
.glyphicon-exclamation-sign:before {
  content: "\e101";
}
.glyphicon-gift:before {
  content: "\e102";
}
.glyphicon-leaf:before {
  content: "\e103";
}
.glyphicon-fire:before {
  content: "\e104";
}
.glyphicon-eye-open:before {
  content: "\e105";
}
.glyphicon-eye-close:before {
  content: "\e106";
}
.glyphicon-warning-sign:before {
  content: "\e107";
}
.glyphicon-plane:before {
  content: "\e108";
}
.glyphicon-calendar:before {
  content: "\e109";
}
.glyphicon-random:before {
  content: "\e110";
}
.glyphicon-comment:before {
  content: "\e111";
}
.glyphicon-magnet:before {
  content: "\e112";
}
.glyphicon-chevron-up:before {
  content: "\e113";
}
.glyphicon-chevron-down:before {
  content: "\e114";
}
.glyphicon-retweet:before {
  content: "\e115";
}
.glyphicon-shopping-cart:before {
  content: "\e116";
}
.glyphicon-folder-close:before {
  content: "\e117";
}
.glyphicon-folder-open:before {
  content: "\e118";
}
.glyphicon-resize-vertical:before {
  content: "\e119";
}
.glyphicon-resize-horizontal:before {
  content: "\e120";
}
.glyphicon-hdd:before {
  content: "\e121";
}
.glyphicon-bullhorn:before {
  content: "\e122";
}
.glyphicon-bell:before {
  content: "\e123";
}
.glyphicon-certificate:before {
  content: "\e124";
}
.glyphicon-thumbs-up:before {
  content: "\e125";
}
.glyphicon-thumbs-down:before {
  content: "\e126";
}
.glyphicon-hand-right:before {
  content: "\e127";
}
.glyphicon-hand-left:before {
  content: "\e128";
}
.glyphicon-hand-up:before {
  content: "\e129";
}
.glyphicon-hand-down:before {
  content: "\e130";
}
.glyphicon-circle-arrow-right:before {
  content: "\e131";
}
.glyphicon-circle-arrow-left:before {
  content: "\e132";
}
.glyphicon-circle-arrow-up:before {
  content: "\e133";
}
.glyphicon-circle-arrow-down:before {
  content: "\e134";
}
.glyphicon-globe:before {
  content: "\e135";
}
.glyphicon-wrench:before {
  content: "\e136";
}
.glyphicon-tasks:before {
  content: "\e137";
}
.glyphicon-filter:before {
  content: "\e138";
}
.glyphicon-briefcase:before {
  content: "\e139";
}
.glyphicon-fullscreen:before {
  content: "\e140";
}
.glyphicon-dashboard:before {
  content: "\e141";
}
.glyphicon-paperclip:before {
  content: "\e142";
}
.glyphicon-heart-empty:before {
  content: "\e143";
}
.glyphicon-link:before {
  content: "\e144";
}
.glyphicon-phone:before {
  content: "\e145";
}
.glyphicon-pushpin:before {
  content: "\e146";
}
.glyphicon-usd:before {
  content: "\e148";
}
.glyphicon-gbp:before {
  content: "\e149";
}
.glyphicon-sort:before {
  content: "\e150";
}
.glyphicon-sort-by-alphabet:before {
  content: "\e151";
}
.glyphicon-sort-by-alphabet-alt:before {
  content: "\e152";
}
.glyphicon-sort-by-order:before {
  content: "\e153";
}
.glyphicon-sort-by-order-alt:before {
  content: "\e154";
}
.glyphicon-sort-by-attributes:before {
  content: "\e155";
}
.glyphicon-sort-by-attributes-alt:before {
  content: "\e156";
}
.glyphicon-unchecked:before {
  content: "\e157";
}
.glyphicon-expand:before {
  content: "\e158";
}
.glyphicon-collapse-down:before {
  content: "\e159";
}
.glyphicon-collapse-up:before {
  content: "\e160";
}
.glyphicon-log-in:before {
  content: "\e161";
}
.glyphicon-flash:before {
  content: "\e162";
}
.glyphicon-log-out:before {
  content: "\e163";
}
.glyphicon-new-window:before {
  content: "\e164";
}
.glyphicon-record:before {
  content: "\e165";
}
.glyphicon-save:before {
  content: "\e166";
}
.glyphicon-open:before {
  content: "\e167";
}
.glyphicon-saved:before {
  content: "\e168";
}
.glyphicon-import:before {
  content: "\e169";
}
.glyphicon-export:before {
  content: "\e170";
}
.glyphicon-send:before {
  content: "\e171";
}
.glyphicon-floppy-disk:before {
  content: "\e172";
}
.glyphicon-floppy-saved:before {
  content: "\e173";
}
.glyphicon-floppy-remove:before {
  content: "\e174";
}
.glyphicon-floppy-save:before {
  content: "\e175";
}
.glyphicon-floppy-open:before {
  content: "\e176";
}
.glyphicon-credit-card:before {
  content: "\e177";
}
.glyphicon-transfer:before {
  content: "\e178";
}
.glyphicon-cutlery:before {
  content: "\e179";
}
.glyphicon-header:before {
  content: "\e180";
}
.glyphicon-compressed:before {
  content: "\e181";
}
.glyphicon-earphone:before {
  content: "\e182";
}
.glyphicon-phone-alt:before {
  content: "\e183";
}
.glyphicon-tower:before {
  content: "\e184";
}
.glyphicon-stats:before {
  content: "\e185";
}
.glyphicon-sd-video:before {
  content: "\e186";
}
.glyphicon-hd-video:before {
  content: "\e187";
}
.glyphicon-subtitles:before {
  content: "\e188";
}
.glyphicon-sound-stereo:before {
  content: "\e189";
}
.glyphicon-sound-dolby:before {
  content: "\e190";
}
.glyphicon-sound-5-1:before {
  content: "\e191";
}
.glyphicon-sound-6-1:before {
  content: "\e192";
}
.glyphicon-sound-7-1:before {
  content: "\e193";
}
.glyphicon-copyright-mark:before {
  content: "\e194";
}
.glyphicon-registration-mark:before {
  content: "\e195";
}
.glyphicon-cloud-download:before {
  content: "\e197";
}
.glyphicon-cloud-upload:before {
  content: "\e198";
}
.glyphicon-tree-conifer:before {
  content: "\e199";
}
.glyphicon-tree-deciduous:before {
  content: "\e200";
}
.glyphicon-cd:before {
  content: "\e201";
}
.glyphicon-save-file:before {
  content: "\e202";
}
.glyphicon-open-file:before {
  content: "\e203";
}
.glyphicon-level-up:before {
  content: "\e204";
}
.glyphicon-copy:before {
  content: "\e205";
}
.glyphicon-paste:before {
  content: "\e206";
}
.glyphicon-alert:before {
  content: "\e209";
}
.glyphicon-equalizer:before {
  content: "\e210";
}
.glyphicon-king:before {
  content: "\e211";
}
.glyphicon-queen:before {
  content: "\e212";
}
.glyphicon-pawn:before {
  content: "\e213";
}
.glyphicon-bishop:before {
  content: "\e214";
}
.glyphicon-knight:before {
  content: "\e215";
}
.glyphicon-baby-formula:before {
  content: "\e216";
}
.glyphicon-tent:before {
  content: "\26fa";
}
.glyphicon-blackboard:before {
  content: "\e218";
}
.glyphicon-bed:before {
  content: "\e219";
}
.glyphicon-apple:before {
  content: "\f8ff";
}
.glyphicon-erase:before {
  content: "\e221";
}
.glyphicon-hourglass:before {
  content: "\231b";
}
.glyphicon-lamp:before {
  content: "\e223";
}
.glyphicon-duplicate:before {
  content: "\e224";
}
.glyphicon-piggy-bank:before {
  content: "\e225";
}
.glyphicon-scissors:before {
  content: "\e226";
}
.glyphicon-bitcoin:before {
  content: "\e227";
}
.glyphicon-btc:before {
  content: "\e227";
}
.glyphicon-xbt:before {
  content: "\e227";
}
.glyphicon-yen:before {
  content: "\00a5";
}
.glyphicon-jpy:before {
  content: "\00a5";
}
.glyphicon-ruble:before {
  content: "\20bd";
}
.glyphicon-rub:before {
  content: "\20bd";
}
.glyphicon-scale:before {
  content: "\e230";
}
.glyphicon-ice-lolly:before {
  content: "\e231";
}
.glyphicon-ice-lolly-tasted:before {
  content: "\e232";
}
.glyphicon-education:before {
  content: "\e233";
}
.glyphicon-option-horizontal:before {
  content: "\e234";
}
.glyphicon-option-vertical:before {
  content: "\e235";
}
.glyphicon-menu-hamburger:before {
  content: "\e236";
}
.glyphicon-modal-window:before {
  content: "\e237";
}
.glyphicon-oil:before {
  content: "\e238";
}
.glyphicon-grain:before {
  content: "\e239";
}
.glyphicon-sunglasses:before {
  content: "\e240";
}
.glyphicon-text-size:before {
  content: "\e241";
}
.glyphicon-text-color:before {
  content: "\e242";
}
.glyphicon-text-background:before {
  content: "\e243";
}
.glyphicon-object-align-top:before {
  content: "\e244";
}
.glyphicon-object-align-bottom:before {
  content: "\e245";
}
.glyphicon-object-align-horizontal:before {
  content: "\e246";
}
.glyphicon-object-align-left:before {
  content: "\e247";
}
.glyphicon-object-align-vertical:before {
  content: "\e248";
}
.glyphicon-object-align-right:before {
  content: "\e249";
}
.glyphicon-triangle-right:before {
  content: "\e250";
}
.glyphicon-triangle-left:before {
  content: "\e251";
}
.glyphicon-triangle-bottom:before {
  content: "\e252";
}
.glyphicon-triangle-top:before {
  content: "\e253";
}
.glyphicon-console:before {
  content: "\e254";
}
.glyphicon-superscript:before {
  content: "\e255";
}
.glyphicon-subscript:before {
  content: "\e256";
}
.glyphicon-menu-left:before {
  content: "\e257";
}
.glyphicon-menu-right:before {
  content: "\e258";
}
.glyphicon-menu-down:before {
  content: "\e259";
}
.glyphicon-menu-up:before {
  content: "\e260";
}
* {
  -webkit-box-sizing: border-box;
  -moz-box-sizing: border-box;
  box-sizing: border-box;
}
*:before,
*:after {
  -webkit-box-sizing: border-box;
  -moz-box-sizing: border-box;
  box-sizing: border-box;
}
html {
  font-size: 10px;
  -webkit-tap-highlight-color: rgba(0, 0, 0, 0);
}
body {
  font-family: "Helvetica Neue", Helvetica, Arial, sans-serif;
  font-size: 13px;
  line-height: 1.42857143;
  color: #000;
  background-color: #fff;
}
input,
button,
select,
textarea {
  font-family: inherit;
  font-size: inherit;
  line-height: inherit;
}
a {
  color: #337ab7;
  text-decoration: none;
}
a:hover,
a:focus {
  color: #23527c;
  text-decoration: underline;
}
a:focus {
  outline: 5px auto -webkit-focus-ring-color;
  outline-offset: -2px;
}
figure {
  margin: 0;
}
img {
  vertical-align: middle;
}
.img-responsive,
.thumbnail > img,
.thumbnail a > img,
.carousel-inner > .item > img,
.carousel-inner > .item > a > img {
  display: block;
  max-width: 100%;
  height: auto;
}
.img-rounded {
  border-radius: 3px;
}
.img-thumbnail {
  padding: 4px;
  line-height: 1.42857143;
  background-color: #fff;
  border: 1px solid #ddd;
  border-radius: 2px;
  -webkit-transition: all 0.2s ease-in-out;
  -o-transition: all 0.2s ease-in-out;
  transition: all 0.2s ease-in-out;
  display: inline-block;
  max-width: 100%;
  height: auto;
}
.img-circle {
  border-radius: 50%;
}
hr {
  margin-top: 18px;
  margin-bottom: 18px;
  border: 0;
  border-top: 1px solid #eeeeee;
}
.sr-only {
  position: absolute;
  width: 1px;
  height: 1px;
  margin: -1px;
  padding: 0;
  overflow: hidden;
  clip: rect(0, 0, 0, 0);
  border: 0;
}
.sr-only-focusable:active,
.sr-only-focusable:focus {
  position: static;
  width: auto;
  height: auto;
  margin: 0;
  overflow: visible;
  clip: auto;
}
[role="button"] {
  cursor: pointer;
}
h1,
h2,
h3,
h4,
h5,
h6,
.h1,
.h2,
.h3,
.h4,
.h5,
.h6 {
  font-family: inherit;
  font-weight: 500;
  line-height: 1.1;
  color: inherit;
}
h1 small,
h2 small,
h3 small,
h4 small,
h5 small,
h6 small,
.h1 small,
.h2 small,
.h3 small,
.h4 small,
.h5 small,
.h6 small,
h1 .small,
h2 .small,
h3 .small,
h4 .small,
h5 .small,
h6 .small,
.h1 .small,
.h2 .small,
.h3 .small,
.h4 .small,
.h5 .small,
.h6 .small {
  font-weight: normal;
  line-height: 1;
  color: #777777;
}
h1,
.h1,
h2,
.h2,
h3,
.h3 {
  margin-top: 18px;
  margin-bottom: 9px;
}
h1 small,
.h1 small,
h2 small,
.h2 small,
h3 small,
.h3 small,
h1 .small,
.h1 .small,
h2 .small,
.h2 .small,
h3 .small,
.h3 .small {
  font-size: 65%;
}
h4,
.h4,
h5,
.h5,
h6,
.h6 {
  margin-top: 9px;
  margin-bottom: 9px;
}
h4 small,
.h4 small,
h5 small,
.h5 small,
h6 small,
.h6 small,
h4 .small,
.h4 .small,
h5 .small,
.h5 .small,
h6 .small,
.h6 .small {
  font-size: 75%;
}
h1,
.h1 {
  font-size: 33px;
}
h2,
.h2 {
  font-size: 27px;
}
h3,
.h3 {
  font-size: 23px;
}
h4,
.h4 {
  font-size: 17px;
}
h5,
.h5 {
  font-size: 13px;
}
h6,
.h6 {
  font-size: 12px;
}
p {
  margin: 0 0 9px;
}
.lead {
  margin-bottom: 18px;
  font-size: 14px;
  font-weight: 300;
  line-height: 1.4;
}
@media (min-width: 768px) {
  .lead {
    font-size: 19.5px;
  }
}
small,
.small {
  font-size: 92%;
}
mark,
.mark {
  background-color: #fcf8e3;
  padding: .2em;
}
.text-left {
  text-align: left;
}
.text-right {
  text-align: right;
}
.text-center {
  text-align: center;
}
.text-justify {
  text-align: justify;
}
.text-nowrap {
  white-space: nowrap;
}
.text-lowercase {
  text-transform: lowercase;
}
.text-uppercase {
  text-transform: uppercase;
}
.text-capitalize {
  text-transform: capitalize;
}
.text-muted {
  color: #777777;
}
.text-primary {
  color: #337ab7;
}
a.text-primary:hover,
a.text-primary:focus {
  color: #286090;
}
.text-success {
  color: #3c763d;
}
a.text-success:hover,
a.text-success:focus {
  color: #2b542c;
}
.text-info {
  color: #31708f;
}
a.text-info:hover,
a.text-info:focus {
  color: #245269;
}
.text-warning {
  color: #8a6d3b;
}
a.text-warning:hover,
a.text-warning:focus {
  color: #66512c;
}
.text-danger {
  color: #a94442;
}
a.text-danger:hover,
a.text-danger:focus {
  color: #843534;
}
.bg-primary {
  color: #fff;
  background-color: #337ab7;
}
a.bg-primary:hover,
a.bg-primary:focus {
  background-color: #286090;
}
.bg-success {
  background-color: #dff0d8;
}
a.bg-success:hover,
a.bg-success:focus {
  background-color: #c1e2b3;
}
.bg-info {
  background-color: #d9edf7;
}
a.bg-info:hover,
a.bg-info:focus {
  background-color: #afd9ee;
}
.bg-warning {
  background-color: #fcf8e3;
}
a.bg-warning:hover,
a.bg-warning:focus {
  background-color: #f7ecb5;
}
.bg-danger {
  background-color: #f2dede;
}
a.bg-danger:hover,
a.bg-danger:focus {
  background-color: #e4b9b9;
}
.page-header {
  padding-bottom: 8px;
  margin: 36px 0 18px;
  border-bottom: 1px solid #eeeeee;
}
ul,
ol {
  margin-top: 0;
  margin-bottom: 9px;
}
ul ul,
ol ul,
ul ol,
ol ol {
  margin-bottom: 0;
}
.list-unstyled {
  padding-left: 0;
  list-style: none;
}
.list-inline {
  padding-left: 0;
  list-style: none;
  margin-left: -5px;
}
.list-inline > li {
  display: inline-block;
  padding-left: 5px;
  padding-right: 5px;
}
dl {
  margin-top: 0;
  margin-bottom: 18px;
}
dt,
dd {
  line-height: 1.42857143;
}
dt {
  font-weight: bold;
}
dd {
  margin-left: 0;
}
@media (min-width: 541px) {
  .dl-horizontal dt {
    float: left;
    width: 160px;
    clear: left;
    text-align: right;
    overflow: hidden;
    text-overflow: ellipsis;
    white-space: nowrap;
  }
  .dl-horizontal dd {
    margin-left: 180px;
  }
}
abbr[title],
abbr[data-original-title] {
  cursor: help;
  border-bottom: 1px dotted #777777;
}
.initialism {
  font-size: 90%;
  text-transform: uppercase;
}
blockquote {
  padding: 9px 18px;
  margin: 0 0 18px;
  font-size: inherit;
  border-left: 5px solid #eeeeee;
}
blockquote p:last-child,
blockquote ul:last-child,
blockquote ol:last-child {
  margin-bottom: 0;
}
blockquote footer,
blockquote small,
blockquote .small {
  display: block;
  font-size: 80%;
  line-height: 1.42857143;
  color: #777777;
}
blockquote footer:before,
blockquote small:before,
blockquote .small:before {
  content: '\2014 \00A0';
}
.blockquote-reverse,
blockquote.pull-right {
  padding-right: 15px;
  padding-left: 0;
  border-right: 5px solid #eeeeee;
  border-left: 0;
  text-align: right;
}
.blockquote-reverse footer:before,
blockquote.pull-right footer:before,
.blockquote-reverse small:before,
blockquote.pull-right small:before,
.blockquote-reverse .small:before,
blockquote.pull-right .small:before {
  content: '';
}
.blockquote-reverse footer:after,
blockquote.pull-right footer:after,
.blockquote-reverse small:after,
blockquote.pull-right small:after,
.blockquote-reverse .small:after,
blockquote.pull-right .small:after {
  content: '\00A0 \2014';
}
address {
  margin-bottom: 18px;
  font-style: normal;
  line-height: 1.42857143;
}
code,
kbd,
pre,
samp {
  font-family: monospace;
}
code {
  padding: 2px 4px;
  font-size: 90%;
  color: #c7254e;
  background-color: #f9f2f4;
  border-radius: 2px;
}
kbd {
  padding: 2px 4px;
  font-size: 90%;
  color: #888;
  background-color: transparent;
  border-radius: 1px;
  box-shadow: inset 0 -1px 0 rgba(0, 0, 0, 0.25);
}
kbd kbd {
  padding: 0;
  font-size: 100%;
  font-weight: bold;
  box-shadow: none;
}
pre {
  display: block;
  padding: 8.5px;
  margin: 0 0 9px;
  font-size: 12px;
  line-height: 1.42857143;
  word-break: break-all;
  word-wrap: break-word;
  color: #333333;
  background-color: #f5f5f5;
  border: 1px solid #ccc;
  border-radius: 2px;
}
pre code {
  padding: 0;
  font-size: inherit;
  color: inherit;
  white-space: pre-wrap;
  background-color: transparent;
  border-radius: 0;
}
.pre-scrollable {
  max-height: 340px;
  overflow-y: scroll;
}
.container {
  margin-right: auto;
  margin-left: auto;
  padding-left: 0px;
  padding-right: 0px;
}
@media (min-width: 768px) {
  .container {
    width: 768px;
  }
}
@media (min-width: 992px) {
  .container {
    width: 940px;
  }
}
@media (min-width: 1200px) {
  .container {
    width: 1140px;
  }
}
.container-fluid {
  margin-right: auto;
  margin-left: auto;
  padding-left: 0px;
  padding-right: 0px;
}
.row {
  margin-left: 0px;
  margin-right: 0px;
}
.col-xs-1, .col-sm-1, .col-md-1, .col-lg-1, .col-xs-2, .col-sm-2, .col-md-2, .col-lg-2, .col-xs-3, .col-sm-3, .col-md-3, .col-lg-3, .col-xs-4, .col-sm-4, .col-md-4, .col-lg-4, .col-xs-5, .col-sm-5, .col-md-5, .col-lg-5, .col-xs-6, .col-sm-6, .col-md-6, .col-lg-6, .col-xs-7, .col-sm-7, .col-md-7, .col-lg-7, .col-xs-8, .col-sm-8, .col-md-8, .col-lg-8, .col-xs-9, .col-sm-9, .col-md-9, .col-lg-9, .col-xs-10, .col-sm-10, .col-md-10, .col-lg-10, .col-xs-11, .col-sm-11, .col-md-11, .col-lg-11, .col-xs-12, .col-sm-12, .col-md-12, .col-lg-12 {
  position: relative;
  min-height: 1px;
  padding-left: 0px;
  padding-right: 0px;
}
.col-xs-1, .col-xs-2, .col-xs-3, .col-xs-4, .col-xs-5, .col-xs-6, .col-xs-7, .col-xs-8, .col-xs-9, .col-xs-10, .col-xs-11, .col-xs-12 {
  float: left;
}
.col-xs-12 {
  width: 100%;
}
.col-xs-11 {
  width: 91.66666667%;
}
.col-xs-10 {
  width: 83.33333333%;
}
.col-xs-9 {
  width: 75%;
}
.col-xs-8 {
  width: 66.66666667%;
}
.col-xs-7 {
  width: 58.33333333%;
}
.col-xs-6 {
  width: 50%;
}
.col-xs-5 {
  width: 41.66666667%;
}
.col-xs-4 {
  width: 33.33333333%;
}
.col-xs-3 {
  width: 25%;
}
.col-xs-2 {
  width: 16.66666667%;
}
.col-xs-1 {
  width: 8.33333333%;
}
.col-xs-pull-12 {
  right: 100%;
}
.col-xs-pull-11 {
  right: 91.66666667%;
}
.col-xs-pull-10 {
  right: 83.33333333%;
}
.col-xs-pull-9 {
  right: 75%;
}
.col-xs-pull-8 {
  right: 66.66666667%;
}
.col-xs-pull-7 {
  right: 58.33333333%;
}
.col-xs-pull-6 {
  right: 50%;
}
.col-xs-pull-5 {
  right: 41.66666667%;
}
.col-xs-pull-4 {
  right: 33.33333333%;
}
.col-xs-pull-3 {
  right: 25%;
}
.col-xs-pull-2 {
  right: 16.66666667%;
}
.col-xs-pull-1 {
  right: 8.33333333%;
}
.col-xs-pull-0 {
  right: auto;
}
.col-xs-push-12 {
  left: 100%;
}
.col-xs-push-11 {
  left: 91.66666667%;
}
.col-xs-push-10 {
  left: 83.33333333%;
}
.col-xs-push-9 {
  left: 75%;
}
.col-xs-push-8 {
  left: 66.66666667%;
}
.col-xs-push-7 {
  left: 58.33333333%;
}
.col-xs-push-6 {
  left: 50%;
}
.col-xs-push-5 {
  left: 41.66666667%;
}
.col-xs-push-4 {
  left: 33.33333333%;
}
.col-xs-push-3 {
  left: 25%;
}
.col-xs-push-2 {
  left: 16.66666667%;
}
.col-xs-push-1 {
  left: 8.33333333%;
}
.col-xs-push-0 {
  left: auto;
}
.col-xs-offset-12 {
  margin-left: 100%;
}
.col-xs-offset-11 {
  margin-left: 91.66666667%;
}
.col-xs-offset-10 {
  margin-left: 83.33333333%;
}
.col-xs-offset-9 {
  margin-left: 75%;
}
.col-xs-offset-8 {
  margin-left: 66.66666667%;
}
.col-xs-offset-7 {
  margin-left: 58.33333333%;
}
.col-xs-offset-6 {
  margin-left: 50%;
}
.col-xs-offset-5 {
  margin-left: 41.66666667%;
}
.col-xs-offset-4 {
  margin-left: 33.33333333%;
}
.col-xs-offset-3 {
  margin-left: 25%;
}
.col-xs-offset-2 {
  margin-left: 16.66666667%;
}
.col-xs-offset-1 {
  margin-left: 8.33333333%;
}
.col-xs-offset-0 {
  margin-left: 0%;
}
@media (min-width: 768px) {
  .col-sm-1, .col-sm-2, .col-sm-3, .col-sm-4, .col-sm-5, .col-sm-6, .col-sm-7, .col-sm-8, .col-sm-9, .col-sm-10, .col-sm-11, .col-sm-12 {
    float: left;
  }
  .col-sm-12 {
    width: 100%;
  }
  .col-sm-11 {
    width: 91.66666667%;
  }
  .col-sm-10 {
    width: 83.33333333%;
  }
  .col-sm-9 {
    width: 75%;
  }
  .col-sm-8 {
    width: 66.66666667%;
  }
  .col-sm-7 {
    width: 58.33333333%;
  }
  .col-sm-6 {
    width: 50%;
  }
  .col-sm-5 {
    width: 41.66666667%;
  }
  .col-sm-4 {
    width: 33.33333333%;
  }
  .col-sm-3 {
    width: 25%;
  }
  .col-sm-2 {
    width: 16.66666667%;
  }
  .col-sm-1 {
    width: 8.33333333%;
  }
  .col-sm-pull-12 {
    right: 100%;
  }
  .col-sm-pull-11 {
    right: 91.66666667%;
  }
  .col-sm-pull-10 {
    right: 83.33333333%;
  }
  .col-sm-pull-9 {
    right: 75%;
  }
  .col-sm-pull-8 {
    right: 66.66666667%;
  }
  .col-sm-pull-7 {
    right: 58.33333333%;
  }
  .col-sm-pull-6 {
    right: 50%;
  }
  .col-sm-pull-5 {
    right: 41.66666667%;
  }
  .col-sm-pull-4 {
    right: 33.33333333%;
  }
  .col-sm-pull-3 {
    right: 25%;
  }
  .col-sm-pull-2 {
    right: 16.66666667%;
  }
  .col-sm-pull-1 {
    right: 8.33333333%;
  }
  .col-sm-pull-0 {
    right: auto;
  }
  .col-sm-push-12 {
    left: 100%;
  }
  .col-sm-push-11 {
    left: 91.66666667%;
  }
  .col-sm-push-10 {
    left: 83.33333333%;
  }
  .col-sm-push-9 {
    left: 75%;
  }
  .col-sm-push-8 {
    left: 66.66666667%;
  }
  .col-sm-push-7 {
    left: 58.33333333%;
  }
  .col-sm-push-6 {
    left: 50%;
  }
  .col-sm-push-5 {
    left: 41.66666667%;
  }
  .col-sm-push-4 {
    left: 33.33333333%;
  }
  .col-sm-push-3 {
    left: 25%;
  }
  .col-sm-push-2 {
    left: 16.66666667%;
  }
  .col-sm-push-1 {
    left: 8.33333333%;
  }
  .col-sm-push-0 {
    left: auto;
  }
  .col-sm-offset-12 {
    margin-left: 100%;
  }
  .col-sm-offset-11 {
    margin-left: 91.66666667%;
  }
  .col-sm-offset-10 {
    margin-left: 83.33333333%;
  }
  .col-sm-offset-9 {
    margin-left: 75%;
  }
  .col-sm-offset-8 {
    margin-left: 66.66666667%;
  }
  .col-sm-offset-7 {
    margin-left: 58.33333333%;
  }
  .col-sm-offset-6 {
    margin-left: 50%;
  }
  .col-sm-offset-5 {
    margin-left: 41.66666667%;
  }
  .col-sm-offset-4 {
    margin-left: 33.33333333%;
  }
  .col-sm-offset-3 {
    margin-left: 25%;
  }
  .col-sm-offset-2 {
    margin-left: 16.66666667%;
  }
  .col-sm-offset-1 {
    margin-left: 8.33333333%;
  }
  .col-sm-offset-0 {
    margin-left: 0%;
  }
}
@media (min-width: 992px) {
  .col-md-1, .col-md-2, .col-md-3, .col-md-4, .col-md-5, .col-md-6, .col-md-7, .col-md-8, .col-md-9, .col-md-10, .col-md-11, .col-md-12 {
    float: left;
  }
  .col-md-12 {
    width: 100%;
  }
  .col-md-11 {
    width: 91.66666667%;
  }
  .col-md-10 {
    width: 83.33333333%;
  }
  .col-md-9 {
    width: 75%;
  }
  .col-md-8 {
    width: 66.66666667%;
  }
  .col-md-7 {
    width: 58.33333333%;
  }
  .col-md-6 {
    width: 50%;
  }
  .col-md-5 {
    width: 41.66666667%;
  }
  .col-md-4 {
    width: 33.33333333%;
  }
  .col-md-3 {
    width: 25%;
  }
  .col-md-2 {
    width: 16.66666667%;
  }
  .col-md-1 {
    width: 8.33333333%;
  }
  .col-md-pull-12 {
    right: 100%;
  }
  .col-md-pull-11 {
    right: 91.66666667%;
  }
  .col-md-pull-10 {
    right: 83.33333333%;
  }
  .col-md-pull-9 {
    right: 75%;
  }
  .col-md-pull-8 {
    right: 66.66666667%;
  }
  .col-md-pull-7 {
    right: 58.33333333%;
  }
  .col-md-pull-6 {
    right: 50%;
  }
  .col-md-pull-5 {
    right: 41.66666667%;
  }
  .col-md-pull-4 {
    right: 33.33333333%;
  }
  .col-md-pull-3 {
    right: 25%;
  }
  .col-md-pull-2 {
    right: 16.66666667%;
  }
  .col-md-pull-1 {
    right: 8.33333333%;
  }
  .col-md-pull-0 {
    right: auto;
  }
  .col-md-push-12 {
    left: 100%;
  }
  .col-md-push-11 {
    left: 91.66666667%;
  }
  .col-md-push-10 {
    left: 83.33333333%;
  }
  .col-md-push-9 {
    left: 75%;
  }
  .col-md-push-8 {
    left: 66.66666667%;
  }
  .col-md-push-7 {
    left: 58.33333333%;
  }
  .col-md-push-6 {
    left: 50%;
  }
  .col-md-push-5 {
    left: 41.66666667%;
  }
  .col-md-push-4 {
    left: 33.33333333%;
  }
  .col-md-push-3 {
    left: 25%;
  }
  .col-md-push-2 {
    left: 16.66666667%;
  }
  .col-md-push-1 {
    left: 8.33333333%;
  }
  .col-md-push-0 {
    left: auto;
  }
  .col-md-offset-12 {
    margin-left: 100%;
  }
  .col-md-offset-11 {
    margin-left: 91.66666667%;
  }
  .col-md-offset-10 {
    margin-left: 83.33333333%;
  }
  .col-md-offset-9 {
    margin-left: 75%;
  }
  .col-md-offset-8 {
    margin-left: 66.66666667%;
  }
  .col-md-offset-7 {
    margin-left: 58.33333333%;
  }
  .col-md-offset-6 {
    margin-left: 50%;
  }
  .col-md-offset-5 {
    margin-left: 41.66666667%;
  }
  .col-md-offset-4 {
    margin-left: 33.33333333%;
  }
  .col-md-offset-3 {
    margin-left: 25%;
  }
  .col-md-offset-2 {
    margin-left: 16.66666667%;
  }
  .col-md-offset-1 {
    margin-left: 8.33333333%;
  }
  .col-md-offset-0 {
    margin-left: 0%;
  }
}
@media (min-width: 1200px) {
  .col-lg-1, .col-lg-2, .col-lg-3, .col-lg-4, .col-lg-5, .col-lg-6, .col-lg-7, .col-lg-8, .col-lg-9, .col-lg-10, .col-lg-11, .col-lg-12 {
    float: left;
  }
  .col-lg-12 {
    width: 100%;
  }
  .col-lg-11 {
    width: 91.66666667%;
  }
  .col-lg-10 {
    width: 83.33333333%;
  }
  .col-lg-9 {
    width: 75%;
  }
  .col-lg-8 {
    width: 66.66666667%;
  }
  .col-lg-7 {
    width: 58.33333333%;
  }
  .col-lg-6 {
    width: 50%;
  }
  .col-lg-5 {
    width: 41.66666667%;
  }
  .col-lg-4 {
    width: 33.33333333%;
  }
  .col-lg-3 {
    width: 25%;
  }
  .col-lg-2 {
    width: 16.66666667%;
  }
  .col-lg-1 {
    width: 8.33333333%;
  }
  .col-lg-pull-12 {
    right: 100%;
  }
  .col-lg-pull-11 {
    right: 91.66666667%;
  }
  .col-lg-pull-10 {
    right: 83.33333333%;
  }
  .col-lg-pull-9 {
    right: 75%;
  }
  .col-lg-pull-8 {
    right: 66.66666667%;
  }
  .col-lg-pull-7 {
    right: 58.33333333%;
  }
  .col-lg-pull-6 {
    right: 50%;
  }
  .col-lg-pull-5 {
    right: 41.66666667%;
  }
  .col-lg-pull-4 {
    right: 33.33333333%;
  }
  .col-lg-pull-3 {
    right: 25%;
  }
  .col-lg-pull-2 {
    right: 16.66666667%;
  }
  .col-lg-pull-1 {
    right: 8.33333333%;
  }
  .col-lg-pull-0 {
    right: auto;
  }
  .col-lg-push-12 {
    left: 100%;
  }
  .col-lg-push-11 {
    left: 91.66666667%;
  }
  .col-lg-push-10 {
    left: 83.33333333%;
  }
  .col-lg-push-9 {
    left: 75%;
  }
  .col-lg-push-8 {
    left: 66.66666667%;
  }
  .col-lg-push-7 {
    left: 58.33333333%;
  }
  .col-lg-push-6 {
    left: 50%;
  }
  .col-lg-push-5 {
    left: 41.66666667%;
  }
  .col-lg-push-4 {
    left: 33.33333333%;
  }
  .col-lg-push-3 {
    left: 25%;
  }
  .col-lg-push-2 {
    left: 16.66666667%;
  }
  .col-lg-push-1 {
    left: 8.33333333%;
  }
  .col-lg-push-0 {
    left: auto;
  }
  .col-lg-offset-12 {
    margin-left: 100%;
  }
  .col-lg-offset-11 {
    margin-left: 91.66666667%;
  }
  .col-lg-offset-10 {
    margin-left: 83.33333333%;
  }
  .col-lg-offset-9 {
    margin-left: 75%;
  }
  .col-lg-offset-8 {
    margin-left: 66.66666667%;
  }
  .col-lg-offset-7 {
    margin-left: 58.33333333%;
  }
  .col-lg-offset-6 {
    margin-left: 50%;
  }
  .col-lg-offset-5 {
    margin-left: 41.66666667%;
  }
  .col-lg-offset-4 {
    margin-left: 33.33333333%;
  }
  .col-lg-offset-3 {
    margin-left: 25%;
  }
  .col-lg-offset-2 {
    margin-left: 16.66666667%;
  }
  .col-lg-offset-1 {
    margin-left: 8.33333333%;
  }
  .col-lg-offset-0 {
    margin-left: 0%;
  }
}
table {
  background-color: transparent;
}
caption {
  padding-top: 8px;
  padding-bottom: 8px;
  color: #777777;
  text-align: left;
}
th {
  text-align: left;
}
.table {
  width: 100%;
  max-width: 100%;
  margin-bottom: 18px;
}
.table > thead > tr > th,
.table > tbody > tr > th,
.table > tfoot > tr > th,
.table > thead > tr > td,
.table > tbody > tr > td,
.table > tfoot > tr > td {
  padding: 8px;
  line-height: 1.42857143;
  vertical-align: top;
  border-top: 1px solid #ddd;
}
.table > thead > tr > th {
  vertical-align: bottom;
  border-bottom: 2px solid #ddd;
}
.table > caption + thead > tr:first-child > th,
.table > colgroup + thead > tr:first-child > th,
.table > thead:first-child > tr:first-child > th,
.table > caption + thead > tr:first-child > td,
.table > colgroup + thead > tr:first-child > td,
.table > thead:first-child > tr:first-child > td {
  border-top: 0;
}
.table > tbody + tbody {
  border-top: 2px solid #ddd;
}
.table .table {
  background-color: #fff;
}
.table-condensed > thead > tr > th,
.table-condensed > tbody > tr > th,
.table-condensed > tfoot > tr > th,
.table-condensed > thead > tr > td,
.table-condensed > tbody > tr > td,
.table-condensed > tfoot > tr > td {
  padding: 5px;
}
.table-bordered {
  border: 1px solid #ddd;
}
.table-bordered > thead > tr > th,
.table-bordered > tbody > tr > th,
.table-bordered > tfoot > tr > th,
.table-bordered > thead > tr > td,
.table-bordered > tbody > tr > td,
.table-bordered > tfoot > tr > td {
  border: 1px solid #ddd;
}
.table-bordered > thead > tr > th,
.table-bordered > thead > tr > td {
  border-bottom-width: 2px;
}
.table-striped > tbody > tr:nth-of-type(odd) {
  background-color: #f9f9f9;
}
.table-hover > tbody > tr:hover {
  background-color: #f5f5f5;
}
table col[class*="col-"] {
  position: static;
  float: none;
  display: table-column;
}
table td[class*="col-"],
table th[class*="col-"] {
  position: static;
  float: none;
  display: table-cell;
}
.table > thead > tr > td.active,
.table > tbody > tr > td.active,
.table > tfoot > tr > td.active,
.table > thead > tr > th.active,
.table > tbody > tr > th.active,
.table > tfoot > tr > th.active,
.table > thead > tr.active > td,
.table > tbody > tr.active > td,
.table > tfoot > tr.active > td,
.table > thead > tr.active > th,
.table > tbody > tr.active > th,
.table > tfoot > tr.active > th {
  background-color: #f5f5f5;
}
.table-hover > tbody > tr > td.active:hover,
.table-hover > tbody > tr > th.active:hover,
.table-hover > tbody > tr.active:hover > td,
.table-hover > tbody > tr:hover > .active,
.table-hover > tbody > tr.active:hover > th {
  background-color: #e8e8e8;
}
.table > thead > tr > td.success,
.table > tbody > tr > td.success,
.table > tfoot > tr > td.success,
.table > thead > tr > th.success,
.table > tbody > tr > th.success,
.table > tfoot > tr > th.success,
.table > thead > tr.success > td,
.table > tbody > tr.success > td,
.table > tfoot > tr.success > td,
.table > thead > tr.success > th,
.table > tbody > tr.success > th,
.table > tfoot > tr.success > th {
  background-color: #dff0d8;
}
.table-hover > tbody > tr > td.success:hover,
.table-hover > tbody > tr > th.success:hover,
.table-hover > tbody > tr.success:hover > td,
.table-hover > tbody > tr:hover > .success,
.table-hover > tbody > tr.success:hover > th {
  background-color: #d0e9c6;
}
.table > thead > tr > td.info,
.table > tbody > tr > td.info,
.table > tfoot > tr > td.info,
.table > thead > tr > th.info,
.table > tbody > tr > th.info,
.table > tfoot > tr > th.info,
.table > thead > tr.info > td,
.table > tbody > tr.info > td,
.table > tfoot > tr.info > td,
.table > thead > tr.info > th,
.table > tbody > tr.info > th,
.table > tfoot > tr.info > th {
  background-color: #d9edf7;
}
.table-hover > tbody > tr > td.info:hover,
.table-hover > tbody > tr > th.info:hover,
.table-hover > tbody > tr.info:hover > td,
.table-hover > tbody > tr:hover > .info,
.table-hover > tbody > tr.info:hover > th {
  background-color: #c4e3f3;
}
.table > thead > tr > td.warning,
.table > tbody > tr > td.warning,
.table > tfoot > tr > td.warning,
.table > thead > tr > th.warning,
.table > tbody > tr > th.warning,
.table > tfoot > tr > th.warning,
.table > thead > tr.warning > td,
.table > tbody > tr.warning > td,
.table > tfoot > tr.warning > td,
.table > thead > tr.warning > th,
.table > tbody > tr.warning > th,
.table > tfoot > tr.warning > th {
  background-color: #fcf8e3;
}
.table-hover > tbody > tr > td.warning:hover,
.table-hover > tbody > tr > th.warning:hover,
.table-hover > tbody > tr.warning:hover > td,
.table-hover > tbody > tr:hover > .warning,
.table-hover > tbody > tr.warning:hover > th {
  background-color: #faf2cc;
}
.table > thead > tr > td.danger,
.table > tbody > tr > td.danger,
.table > tfoot > tr > td.danger,
.table > thead > tr > th.danger,
.table > tbody > tr > th.danger,
.table > tfoot > tr > th.danger,
.table > thead > tr.danger > td,
.table > tbody > tr.danger > td,
.table > tfoot > tr.danger > td,
.table > thead > tr.danger > th,
.table > tbody > tr.danger > th,
.table > tfoot > tr.danger > th {
  background-color: #f2dede;
}
.table-hover > tbody > tr > td.danger:hover,
.table-hover > tbody > tr > th.danger:hover,
.table-hover > tbody > tr.danger:hover > td,
.table-hover > tbody > tr:hover > .danger,
.table-hover > tbody > tr.danger:hover > th {
  background-color: #ebcccc;
}
.table-responsive {
  overflow-x: auto;
  min-height: 0.01%;
}
@media screen and (max-width: 767px) {
  .table-responsive {
    width: 100%;
    margin-bottom: 13.5px;
    overflow-y: hidden;
    -ms-overflow-style: -ms-autohiding-scrollbar;
    border: 1px solid #ddd;
  }
  .table-responsive > .table {
    margin-bottom: 0;
  }
  .table-responsive > .table > thead > tr > th,
  .table-responsive > .table > tbody > tr > th,
  .table-responsive > .table > tfoot > tr > th,
  .table-responsive > .table > thead > tr > td,
  .table-responsive > .table > tbody > tr > td,
  .table-responsive > .table > tfoot > tr > td {
    white-space: nowrap;
  }
  .table-responsive > .table-bordered {
    border: 0;
  }
  .table-responsive > .table-bordered > thead > tr > th:first-child,
  .table-responsive > .table-bordered > tbody > tr > th:first-child,
  .table-responsive > .table-bordered > tfoot > tr > th:first-child,
  .table-responsive > .table-bordered > thead > tr > td:first-child,
  .table-responsive > .table-bordered > tbody > tr > td:first-child,
  .table-responsive > .table-bordered > tfoot > tr > td:first-child {
    border-left: 0;
  }
  .table-responsive > .table-bordered > thead > tr > th:last-child,
  .table-responsive > .table-bordered > tbody > tr > th:last-child,
  .table-responsive > .table-bordered > tfoot > tr > th:last-child,
  .table-responsive > .table-bordered > thead > tr > td:last-child,
  .table-responsive > .table-bordered > tbody > tr > td:last-child,
  .table-responsive > .table-bordered > tfoot > tr > td:last-child {
    border-right: 0;
  }
  .table-responsive > .table-bordered > tbody > tr:last-child > th,
  .table-responsive > .table-bordered > tfoot > tr:last-child > th,
  .table-responsive > .table-bordered > tbody > tr:last-child > td,
  .table-responsive > .table-bordered > tfoot > tr:last-child > td {
    border-bottom: 0;
  }
}
fieldset {
  padding: 0;
  margin: 0;
  border: 0;
  min-width: 0;
}
legend {
  display: block;
  width: 100%;
  padding: 0;
  margin-bottom: 18px;
  font-size: 19.5px;
  line-height: inherit;
  color: #333333;
  border: 0;
  border-bottom: 1px solid #e5e5e5;
}
label {
  display: inline-block;
  max-width: 100%;
  margin-bottom: 5px;
  font-weight: bold;
}
input[type="search"] {
  -webkit-box-sizing: border-box;
  -moz-box-sizing: border-box;
  box-sizing: border-box;
}
input[type="radio"],
input[type="checkbox"] {
  margin: 4px 0 0;
  margin-top: 1px \9;
  line-height: normal;
}
input[type="file"] {
  display: block;
}
input[type="range"] {
  display: block;
  width: 100%;
}
select[multiple],
select[size] {
  height: auto;
}
input[type="file"]:focus,
input[type="radio"]:focus,
input[type="checkbox"]:focus {
  outline: 5px auto -webkit-focus-ring-color;
  outline-offset: -2px;
}
output {
  display: block;
  padding-top: 7px;
  font-size: 13px;
  line-height: 1.42857143;
  color: #555555;
}
.form-control {
  display: block;
  width: 100%;
  height: 32px;
  padding: 6px 12px;
  font-size: 13px;
  line-height: 1.42857143;
  color: #555555;
  background-color: #fff;
  background-image: none;
  border: 1px solid #ccc;
  border-radius: 2px;
  -webkit-box-shadow: inset 0 1px 1px rgba(0, 0, 0, 0.075);
  box-shadow: inset 0 1px 1px rgba(0, 0, 0, 0.075);
  -webkit-transition: border-color ease-in-out .15s, box-shadow ease-in-out .15s;
  -o-transition: border-color ease-in-out .15s, box-shadow ease-in-out .15s;
  transition: border-color ease-in-out .15s, box-shadow ease-in-out .15s;
}
.form-control:focus {
  border-color: #66afe9;
  outline: 0;
  -webkit-box-shadow: inset 0 1px 1px rgba(0,0,0,.075), 0 0 8px rgba(102, 175, 233, 0.6);
  box-shadow: inset 0 1px 1px rgba(0,0,0,.075), 0 0 8px rgba(102, 175, 233, 0.6);
}
.form-control::-moz-placeholder {
  color: #999;
  opacity: 1;
}
.form-control:-ms-input-placeholder {
  color: #999;
}
.form-control::-webkit-input-placeholder {
  color: #999;
}
.form-control::-ms-expand {
  border: 0;
  background-color: transparent;
}
.form-control[disabled],
.form-control[readonly],
fieldset[disabled] .form-control {
  background-color: #eeeeee;
  opacity: 1;
}
.form-control[disabled],
fieldset[disabled] .form-control {
  cursor: not-allowed;
}
textarea.form-control {
  height: auto;
}
input[type="search"] {
  -webkit-appearance: none;
}
@media screen and (-webkit-min-device-pixel-ratio: 0) {
  input[type="date"].form-control,
  input[type="time"].form-control,
  input[type="datetime-local"].form-control,
  input[type="month"].form-control {
    line-height: 32px;
  }
  input[type="date"].input-sm,
  input[type="time"].input-sm,
  input[type="datetime-local"].input-sm,
  input[type="month"].input-sm,
  .input-group-sm input[type="date"],
  .input-group-sm input[type="time"],
  .input-group-sm input[type="datetime-local"],
  .input-group-sm input[type="month"] {
    line-height: 30px;
  }
  input[type="date"].input-lg,
  input[type="time"].input-lg,
  input[type="datetime-local"].input-lg,
  input[type="month"].input-lg,
  .input-group-lg input[type="date"],
  .input-group-lg input[type="time"],
  .input-group-lg input[type="datetime-local"],
  .input-group-lg input[type="month"] {
    line-height: 45px;
  }
}
.form-group {
  margin-bottom: 15px;
}
.radio,
.checkbox {
  position: relative;
  display: block;
  margin-top: 10px;
  margin-bottom: 10px;
}
.radio label,
.checkbox label {
  min-height: 18px;
  padding-left: 20px;
  margin-bottom: 0;
  font-weight: normal;
  cursor: pointer;
}
.radio input[type="radio"],
.radio-inline input[type="radio"],
.checkbox input[type="checkbox"],
.checkbox-inline input[type="checkbox"] {
  position: absolute;
  margin-left: -20px;
  margin-top: 4px \9;
}
.radio + .radio,
.checkbox + .checkbox {
  margin-top: -5px;
}
.radio-inline,
.checkbox-inline {
  position: relative;
  display: inline-block;
  padding-left: 20px;
  margin-bottom: 0;
  vertical-align: middle;
  font-weight: normal;
  cursor: pointer;
}
.radio-inline + .radio-inline,
.checkbox-inline + .checkbox-inline {
  margin-top: 0;
  margin-left: 10px;
}
input[type="radio"][disabled],
input[type="checkbox"][disabled],
input[type="radio"].disabled,
input[type="checkbox"].disabled,
fieldset[disabled] input[type="radio"],
fieldset[disabled] input[type="checkbox"] {
  cursor: not-allowed;
}
.radio-inline.disabled,
.checkbox-inline.disabled,
fieldset[disabled] .radio-inline,
fieldset[disabled] .checkbox-inline {
  cursor: not-allowed;
}
.radio.disabled label,
.checkbox.disabled label,
fieldset[disabled] .radio label,
fieldset[disabled] .checkbox label {
  cursor: not-allowed;
}
.form-control-static {
  padding-top: 7px;
  padding-bottom: 7px;
  margin-bottom: 0;
  min-height: 31px;
}
.form-control-static.input-lg,
.form-control-static.input-sm {
  padding-left: 0;
  padding-right: 0;
}
.input-sm {
  height: 30px;
  padding: 5px 10px;
  font-size: 12px;
  line-height: 1.5;
  border-radius: 1px;
}
select.input-sm {
  height: 30px;
  line-height: 30px;
}
textarea.input-sm,
select[multiple].input-sm {
  height: auto;
}
.form-group-sm .form-control {
  height: 30px;
  padding: 5px 10px;
  font-size: 12px;
  line-height: 1.5;
  border-radius: 1px;
}
.form-group-sm select.form-control {
  height: 30px;
  line-height: 30px;
}
.form-group-sm textarea.form-control,
.form-group-sm select[multiple].form-control {
  height: auto;
}
.form-group-sm .form-control-static {
  height: 30px;
  min-height: 30px;
  padding: 6px 10px;
  font-size: 12px;
  line-height: 1.5;
}
.input-lg {
  height: 45px;
  padding: 10px 16px;
  font-size: 17px;
  line-height: 1.3333333;
  border-radius: 3px;
}
select.input-lg {
  height: 45px;
  line-height: 45px;
}
textarea.input-lg,
select[multiple].input-lg {
  height: auto;
}
.form-group-lg .form-control {
  height: 45px;
  padding: 10px 16px;
  font-size: 17px;
  line-height: 1.3333333;
  border-radius: 3px;
}
.form-group-lg select.form-control {
  height: 45px;
  line-height: 45px;
}
.form-group-lg textarea.form-control,
.form-group-lg select[multiple].form-control {
  height: auto;
}
.form-group-lg .form-control-static {
  height: 45px;
  min-height: 35px;
  padding: 11px 16px;
  font-size: 17px;
  line-height: 1.3333333;
}
.has-feedback {
  position: relative;
}
.has-feedback .form-control {
  padding-right: 40px;
}
.form-control-feedback {
  position: absolute;
  top: 0;
  right: 0;
  z-index: 2;
  display: block;
  width: 32px;
  height: 32px;
  line-height: 32px;
  text-align: center;
  pointer-events: none;
}
.input-lg + .form-control-feedback,
.input-group-lg + .form-control-feedback,
.form-group-lg .form-control + .form-control-feedback {
  width: 45px;
  height: 45px;
  line-height: 45px;
}
.input-sm + .form-control-feedback,
.input-group-sm + .form-control-feedback,
.form-group-sm .form-control + .form-control-feedback {
  width: 30px;
  height: 30px;
  line-height: 30px;
}
.has-success .help-block,
.has-success .control-label,
.has-success .radio,
.has-success .checkbox,
.has-success .radio-inline,
.has-success .checkbox-inline,
.has-success.radio label,
.has-success.checkbox label,
.has-success.radio-inline label,
.has-success.checkbox-inline label {
  color: #3c763d;
}
.has-success .form-control {
  border-color: #3c763d;
  -webkit-box-shadow: inset 0 1px 1px rgba(0, 0, 0, 0.075);
  box-shadow: inset 0 1px 1px rgba(0, 0, 0, 0.075);
}
.has-success .form-control:focus {
  border-color: #2b542c;
  -webkit-box-shadow: inset 0 1px 1px rgba(0, 0, 0, 0.075), 0 0 6px #67b168;
  box-shadow: inset 0 1px 1px rgba(0, 0, 0, 0.075), 0 0 6px #67b168;
}
.has-success .input-group-addon {
  color: #3c763d;
  border-color: #3c763d;
  background-color: #dff0d8;
}
.has-success .form-control-feedback {
  color: #3c763d;
}
.has-warning .help-block,
.has-warning .control-label,
.has-warning .radio,
.has-warning .checkbox,
.has-warning .radio-inline,
.has-warning .checkbox-inline,
.has-warning.radio label,
.has-warning.checkbox label,
.has-warning.radio-inline label,
.has-warning.checkbox-inline label {
  color: #8a6d3b;
}
.has-warning .form-control {
  border-color: #8a6d3b;
  -webkit-box-shadow: inset 0 1px 1px rgba(0, 0, 0, 0.075);
  box-shadow: inset 0 1px 1px rgba(0, 0, 0, 0.075);
}
.has-warning .form-control:focus {
  border-color: #66512c;
  -webkit-box-shadow: inset 0 1px 1px rgba(0, 0, 0, 0.075), 0 0 6px #c0a16b;
  box-shadow: inset 0 1px 1px rgba(0, 0, 0, 0.075), 0 0 6px #c0a16b;
}
.has-warning .input-group-addon {
  color: #8a6d3b;
  border-color: #8a6d3b;
  background-color: #fcf8e3;
}
.has-warning .form-control-feedback {
  color: #8a6d3b;
}
.has-error .help-block,
.has-error .control-label,
.has-error .radio,
.has-error .checkbox,
.has-error .radio-inline,
.has-error .checkbox-inline,
.has-error.radio label,
.has-error.checkbox label,
.has-error.radio-inline label,
.has-error.checkbox-inline label {
  color: #a94442;
}
.has-error .form-control {
  border-color: #a94442;
  -webkit-box-shadow: inset 0 1px 1px rgba(0, 0, 0, 0.075);
  box-shadow: inset 0 1px 1px rgba(0, 0, 0, 0.075);
}
.has-error .form-control:focus {
  border-color: #843534;
  -webkit-box-shadow: inset 0 1px 1px rgba(0, 0, 0, 0.075), 0 0 6px #ce8483;
  box-shadow: inset 0 1px 1px rgba(0, 0, 0, 0.075), 0 0 6px #ce8483;
}
.has-error .input-group-addon {
  color: #a94442;
  border-color: #a94442;
  background-color: #f2dede;
}
.has-error .form-control-feedback {
  color: #a94442;
}
.has-feedback label ~ .form-control-feedback {
  top: 23px;
}
.has-feedback label.sr-only ~ .form-control-feedback {
  top: 0;
}
.help-block {
  display: block;
  margin-top: 5px;
  margin-bottom: 10px;
  color: #404040;
}
@media (min-width: 768px) {
  .form-inline .form-group {
    display: inline-block;
    margin-bottom: 0;
    vertical-align: middle;
  }
  .form-inline .form-control {
    display: inline-block;
    width: auto;
    vertical-align: middle;
  }
  .form-inline .form-control-static {
    display: inline-block;
  }
  .form-inline .input-group {
    display: inline-table;
    vertical-align: middle;
  }
  .form-inline .input-group .input-group-addon,
  .form-inline .input-group .input-group-btn,
  .form-inline .input-group .form-control {
    width: auto;
  }
  .form-inline .input-group > .form-control {
    width: 100%;
  }
  .form-inline .control-label {
    margin-bottom: 0;
    vertical-align: middle;
  }
  .form-inline .radio,
  .form-inline .checkbox {
    display: inline-block;
    margin-top: 0;
    margin-bottom: 0;
    vertical-align: middle;
  }
  .form-inline .radio label,
  .form-inline .checkbox label {
    padding-left: 0;
  }
  .form-inline .radio input[type="radio"],
  .form-inline .checkbox input[type="checkbox"] {
    position: relative;
    margin-left: 0;
  }
  .form-inline .has-feedback .form-control-feedback {
    top: 0;
  }
}
.form-horizontal .radio,
.form-horizontal .checkbox,
.form-horizontal .radio-inline,
.form-horizontal .checkbox-inline {
  margin-top: 0;
  margin-bottom: 0;
  padding-top: 7px;
}
.form-horizontal .radio,
.form-horizontal .checkbox {
  min-height: 25px;
}
.form-horizontal .form-group {
  margin-left: 0px;
  margin-right: 0px;
}
@media (min-width: 768px) {
  .form-horizontal .control-label {
    text-align: right;
    margin-bottom: 0;
    padding-top: 7px;
  }
}
.form-horizontal .has-feedback .form-control-feedback {
  right: 0px;
}
@media (min-width: 768px) {
  .form-horizontal .form-group-lg .control-label {
    padding-top: 11px;
    font-size: 17px;
  }
}
@media (min-width: 768px) {
  .form-horizontal .form-group-sm .control-label {
    padding-top: 6px;
    font-size: 12px;
  }
}
.btn {
  display: inline-block;
  margin-bottom: 0;
  font-weight: normal;
  text-align: center;
  vertical-align: middle;
  touch-action: manipulation;
  cursor: pointer;
  background-image: none;
  border: 1px solid transparent;
  white-space: nowrap;
  padding: 6px 12px;
  font-size: 13px;
  line-height: 1.42857143;
  border-radius: 2px;
  -webkit-user-select: none;
  -moz-user-select: none;
  -ms-user-select: none;
  user-select: none;
}
.btn:focus,
.btn:active:focus,
.btn.active:focus,
.btn.focus,
.btn:active.focus,
.btn.active.focus {
  outline: 5px auto -webkit-focus-ring-color;
  outline-offset: -2px;
}
.btn:hover,
.btn:focus,
.btn.focus {
  color: #333;
  text-decoration: none;
}
.btn:active,
.btn.active {
  outline: 0;
  background-image: none;
  -webkit-box-shadow: inset 0 3px 5px rgba(0, 0, 0, 0.125);
  box-shadow: inset 0 3px 5px rgba(0, 0, 0, 0.125);
}
.btn.disabled,
.btn[disabled],
fieldset[disabled] .btn {
  cursor: not-allowed;
  opacity: 0.65;
  filter: alpha(opacity=65);
  -webkit-box-shadow: none;
  box-shadow: none;
}
a.btn.disabled,
fieldset[disabled] a.btn {
  pointer-events: none;
}
.btn-default {
  color: #333;
  background-color: #fff;
  border-color: #ccc;
}
.btn-default:focus,
.btn-default.focus {
  color: #333;
  background-color: #e6e6e6;
  border-color: #8c8c8c;
}
.btn-default:hover {
  color: #333;
  background-color: #e6e6e6;
  border-color: #adadad;
}
.btn-default:active,
.btn-default.active,
.open > .dropdown-toggle.btn-default {
  color: #333;
  background-color: #e6e6e6;
  border-color: #adadad;
}
.btn-default:active:hover,
.btn-default.active:hover,
.open > .dropdown-toggle.btn-default:hover,
.btn-default:active:focus,
.btn-default.active:focus,
.open > .dropdown-toggle.btn-default:focus,
.btn-default:active.focus,
.btn-default.active.focus,
.open > .dropdown-toggle.btn-default.focus {
  color: #333;
  background-color: #d4d4d4;
  border-color: #8c8c8c;
}
.btn-default:active,
.btn-default.active,
.open > .dropdown-toggle.btn-default {
  background-image: none;
}
.btn-default.disabled:hover,
.btn-default[disabled]:hover,
fieldset[disabled] .btn-default:hover,
.btn-default.disabled:focus,
.btn-default[disabled]:focus,
fieldset[disabled] .btn-default:focus,
.btn-default.disabled.focus,
.btn-default[disabled].focus,
fieldset[disabled] .btn-default.focus {
  background-color: #fff;
  border-color: #ccc;
}
.btn-default .badge {
  color: #fff;
  background-color: #333;
}
.btn-primary {
  color: #fff;
  background-color: #337ab7;
  border-color: #2e6da4;
}
.btn-primary:focus,
.btn-primary.focus {
  color: #fff;
  background-color: #286090;
  border-color: #122b40;
}
.btn-primary:hover {
  color: #fff;
  background-color: #286090;
  border-color: #204d74;
}
.btn-primary:active,
.btn-primary.active,
.open > .dropdown-toggle.btn-primary {
  color: #fff;
  background-color: #286090;
  border-color: #204d74;
}
.btn-primary:active:hover,
.btn-primary.active:hover,
.open > .dropdown-toggle.btn-primary:hover,
.btn-primary:active:focus,
.btn-primary.active:focus,
.open > .dropdown-toggle.btn-primary:focus,
.btn-primary:active.focus,
.btn-primary.active.focus,
.open > .dropdown-toggle.btn-primary.focus {
  color: #fff;
  background-color: #204d74;
  border-color: #122b40;
}
.btn-primary:active,
.btn-primary.active,
.open > .dropdown-toggle.btn-primary {
  background-image: none;
}
.btn-primary.disabled:hover,
.btn-primary[disabled]:hover,
fieldset[disabled] .btn-primary:hover,
.btn-primary.disabled:focus,
.btn-primary[disabled]:focus,
fieldset[disabled] .btn-primary:focus,
.btn-primary.disabled.focus,
.btn-primary[disabled].focus,
fieldset[disabled] .btn-primary.focus {
  background-color: #337ab7;
  border-color: #2e6da4;
}
.btn-primary .badge {
  color: #337ab7;
  background-color: #fff;
}
.btn-success {
  color: #fff;
  background-color: #5cb85c;
  border-color: #4cae4c;
}
.btn-success:focus,
.btn-success.focus {
  color: #fff;
  background-color: #449d44;
  border-color: #255625;
}
.btn-success:hover {
  color: #fff;
  background-color: #449d44;
  border-color: #398439;
}
.btn-success:active,
.btn-success.active,
.open > .dropdown-toggle.btn-success {
  color: #fff;
  background-color: #449d44;
  border-color: #398439;
}
.btn-success:active:hover,
.btn-success.active:hover,
.open > .dropdown-toggle.btn-success:hover,
.btn-success:active:focus,
.btn-success.active:focus,
.open > .dropdown-toggle.btn-success:focus,
.btn-success:active.focus,
.btn-success.active.focus,
.open > .dropdown-toggle.btn-success.focus {
  color: #fff;
  background-color: #398439;
  border-color: #255625;
}
.btn-success:active,
.btn-success.active,
.open > .dropdown-toggle.btn-success {
  background-image: none;
}
.btn-success.disabled:hover,
.btn-success[disabled]:hover,
fieldset[disabled] .btn-success:hover,
.btn-success.disabled:focus,
.btn-success[disabled]:focus,
fieldset[disabled] .btn-success:focus,
.btn-success.disabled.focus,
.btn-success[disabled].focus,
fieldset[disabled] .btn-success.focus {
  background-color: #5cb85c;
  border-color: #4cae4c;
}
.btn-success .badge {
  color: #5cb85c;
  background-color: #fff;
}
.btn-info {
  color: #fff;
  background-color: #5bc0de;
  border-color: #46b8da;
}
.btn-info:focus,
.btn-info.focus {
  color: #fff;
  background-color: #31b0d5;
  border-color: #1b6d85;
}
.btn-info:hover {
  color: #fff;
  background-color: #31b0d5;
  border-color: #269abc;
}
.btn-info:active,
.btn-info.active,
.open > .dropdown-toggle.btn-info {
  color: #fff;
  background-color: #31b0d5;
  border-color: #269abc;
}
.btn-info:active:hover,
.btn-info.active:hover,
.open > .dropdown-toggle.btn-info:hover,
.btn-info:active:focus,
.btn-info.active:focus,
.open > .dropdown-toggle.btn-info:focus,
.btn-info:active.focus,
.btn-info.active.focus,
.open > .dropdown-toggle.btn-info.focus {
  color: #fff;
  background-color: #269abc;
  border-color: #1b6d85;
}
.btn-info:active,
.btn-info.active,
.open > .dropdown-toggle.btn-info {
  background-image: none;
}
.btn-info.disabled:hover,
.btn-info[disabled]:hover,
fieldset[disabled] .btn-info:hover,
.btn-info.disabled:focus,
.btn-info[disabled]:focus,
fieldset[disabled] .btn-info:focus,
.btn-info.disabled.focus,
.btn-info[disabled].focus,
fieldset[disabled] .btn-info.focus {
  background-color: #5bc0de;
  border-color: #46b8da;
}
.btn-info .badge {
  color: #5bc0de;
  background-color: #fff;
}
.btn-warning {
  color: #fff;
  background-color: #f0ad4e;
  border-color: #eea236;
}
.btn-warning:focus,
.btn-warning.focus {
  color: #fff;
  background-color: #ec971f;
  border-color: #985f0d;
}
.btn-warning:hover {
  color: #fff;
  background-color: #ec971f;
  border-color: #d58512;
}
.btn-warning:active,
.btn-warning.active,
.open > .dropdown-toggle.btn-warning {
  color: #fff;
  background-color: #ec971f;
  border-color: #d58512;
}
.btn-warning:active:hover,
.btn-warning.active:hover,
.open > .dropdown-toggle.btn-warning:hover,
.btn-warning:active:focus,
.btn-warning.active:focus,
.open > .dropdown-toggle.btn-warning:focus,
.btn-warning:active.focus,
.btn-warning.active.focus,
.open > .dropdown-toggle.btn-warning.focus {
  color: #fff;
  background-color: #d58512;
  border-color: #985f0d;
}
.btn-warning:active,
.btn-warning.active,
.open > .dropdown-toggle.btn-warning {
  background-image: none;
}
.btn-warning.disabled:hover,
.btn-warning[disabled]:hover,
fieldset[disabled] .btn-warning:hover,
.btn-warning.disabled:focus,
.btn-warning[disabled]:focus,
fieldset[disabled] .btn-warning:focus,
.btn-warning.disabled.focus,
.btn-warning[disabled].focus,
fieldset[disabled] .btn-warning.focus {
  background-color: #f0ad4e;
  border-color: #eea236;
}
.btn-warning .badge {
  color: #f0ad4e;
  background-color: #fff;
}
.btn-danger {
  color: #fff;
  background-color: #d9534f;
  border-color: #d43f3a;
}
.btn-danger:focus,
.btn-danger.focus {
  color: #fff;
  background-color: #c9302c;
  border-color: #761c19;
}
.btn-danger:hover {
  color: #fff;
  background-color: #c9302c;
  border-color: #ac2925;
}
.btn-danger:active,
.btn-danger.active,
.open > .dropdown-toggle.btn-danger {
  color: #fff;
  background-color: #c9302c;
  border-color: #ac2925;
}
.btn-danger:active:hover,
.btn-danger.active:hover,
.open > .dropdown-toggle.btn-danger:hover,
.btn-danger:active:focus,
.btn-danger.active:focus,
.open > .dropdown-toggle.btn-danger:focus,
.btn-danger:active.focus,
.btn-danger.active.focus,
.open > .dropdown-toggle.btn-danger.focus {
  color: #fff;
  background-color: #ac2925;
  border-color: #761c19;
}
.btn-danger:active,
.btn-danger.active,
.open > .dropdown-toggle.btn-danger {
  background-image: none;
}
.btn-danger.disabled:hover,
.btn-danger[disabled]:hover,
fieldset[disabled] .btn-danger:hover,
.btn-danger.disabled:focus,
.btn-danger[disabled]:focus,
fieldset[disabled] .btn-danger:focus,
.btn-danger.disabled.focus,
.btn-danger[disabled].focus,
fieldset[disabled] .btn-danger.focus {
  background-color: #d9534f;
  border-color: #d43f3a;
}
.btn-danger .badge {
  color: #d9534f;
  background-color: #fff;
}
.btn-link {
  color: #337ab7;
  font-weight: normal;
  border-radius: 0;
}
.btn-link,
.btn-link:active,
.btn-link.active,
.btn-link[disabled],
fieldset[disabled] .btn-link {
  background-color: transparent;
  -webkit-box-shadow: none;
  box-shadow: none;
}
.btn-link,
.btn-link:hover,
.btn-link:focus,
.btn-link:active {
  border-color: transparent;
}
.btn-link:hover,
.btn-link:focus {
  color: #23527c;
  text-decoration: underline;
  background-color: transparent;
}
.btn-link[disabled]:hover,
fieldset[disabled] .btn-link:hover,
.btn-link[disabled]:focus,
fieldset[disabled] .btn-link:focus {
  color: #777777;
  text-decoration: none;
}
.btn-lg,
.btn-group-lg > .btn {
  padding: 10px 16px;
  font-size: 17px;
  line-height: 1.3333333;
  border-radius: 3px;
}
.btn-sm,
.btn-group-sm > .btn {
  padding: 5px 10px;
  font-size: 12px;
  line-height: 1.5;
  border-radius: 1px;
}
.btn-xs,
.btn-group-xs > .btn {
  padding: 1px 5px;
  font-size: 12px;
  line-height: 1.5;
  border-radius: 1px;
}
.btn-block {
  display: block;
  width: 100%;
}
.btn-block + .btn-block {
  margin-top: 5px;
}
input[type="submit"].btn-block,
input[type="reset"].btn-block,
input[type="button"].btn-block {
  width: 100%;
}
.fade {
  opacity: 0;
  -webkit-transition: opacity 0.15s linear;
  -o-transition: opacity 0.15s linear;
  transition: opacity 0.15s linear;
}
.fade.in {
  opacity: 1;
}
.collapse {
  display: none;
}
.collapse.in {
  display: block;
}
tr.collapse.in {
  display: table-row;
}
tbody.collapse.in {
  display: table-row-group;
}
.collapsing {
  position: relative;
  height: 0;
  overflow: hidden;
  -webkit-transition-property: height, visibility;
  transition-property: height, visibility;
  -webkit-transition-duration: 0.35s;
  transition-duration: 0.35s;
  -webkit-transition-timing-function: ease;
  transition-timing-function: ease;
}
.caret {
  display: inline-block;
  width: 0;
  height: 0;
  margin-left: 2px;
  vertical-align: middle;
  border-top: 4px dashed;
  border-top: 4px solid \9;
  border-right: 4px solid transparent;
  border-left: 4px solid transparent;
}
.dropup,
.dropdown {
  position: relative;
}
.dropdown-toggle:focus {
  outline: 0;
}
.dropdown-menu {
  position: absolute;
  top: 100%;
  left: 0;
  z-index: 1000;
  display: none;
  float: left;
  min-width: 160px;
  padding: 5px 0;
  margin: 2px 0 0;
  list-style: none;
  font-size: 13px;
  text-align: left;
  background-color: #fff;
  border: 1px solid #ccc;
  border: 1px solid rgba(0, 0, 0, 0.15);
  border-radius: 2px;
  -webkit-box-shadow: 0 6px 12px rgba(0, 0, 0, 0.175);
  box-shadow: 0 6px 12px rgba(0, 0, 0, 0.175);
  background-clip: padding-box;
}
.dropdown-menu.pull-right {
  right: 0;
  left: auto;
}
.dropdown-menu .divider {
  height: 1px;
  margin: 8px 0;
  overflow: hidden;
  background-color: #e5e5e5;
}
.dropdown-menu > li > a {
  display: block;
  padding: 3px 20px;
  clear: both;
  font-weight: normal;
  line-height: 1.42857143;
  color: #333333;
  white-space: nowrap;
}
.dropdown-menu > li > a:hover,
.dropdown-menu > li > a:focus {
  text-decoration: none;
  color: #262626;
  background-color: #f5f5f5;
}
.dropdown-menu > .active > a,
.dropdown-menu > .active > a:hover,
.dropdown-menu > .active > a:focus {
  color: #fff;
  text-decoration: none;
  outline: 0;
  background-color: #337ab7;
}
.dropdown-menu > .disabled > a,
.dropdown-menu > .disabled > a:hover,
.dropdown-menu > .disabled > a:focus {
  color: #777777;
}
.dropdown-menu > .disabled > a:hover,
.dropdown-menu > .disabled > a:focus {
  text-decoration: none;
  background-color: transparent;
  background-image: none;
  filter: progid:DXImageTransform.Microsoft.gradient(enabled = false);
  cursor: not-allowed;
}
.open > .dropdown-menu {
  display: block;
}
.open > a {
  outline: 0;
}
.dropdown-menu-right {
  left: auto;
  right: 0;
}
.dropdown-menu-left {
  left: 0;
  right: auto;
}
.dropdown-header {
  display: block;
  padding: 3px 20px;
  font-size: 12px;
  line-height: 1.42857143;
  color: #777777;
  white-space: nowrap;
}
.dropdown-backdrop {
  position: fixed;
  left: 0;
  right: 0;
  bottom: 0;
  top: 0;
  z-index: 990;
}
.pull-right > .dropdown-menu {
  right: 0;
  left: auto;
}
.dropup .caret,
.navbar-fixed-bottom .dropdown .caret {
  border-top: 0;
  border-bottom: 4px dashed;
  border-bottom: 4px solid \9;
  content: "";
}
.dropup .dropdown-menu,
.navbar-fixed-bottom .dropdown .dropdown-menu {
  top: auto;
  bottom: 100%;
  margin-bottom: 2px;
}
@media (min-width: 541px) {
  .navbar-right .dropdown-menu {
    left: auto;
    right: 0;
  }
  .navbar-right .dropdown-menu-left {
    left: 0;
    right: auto;
  }
}
.btn-group,
.btn-group-vertical {
  position: relative;
  display: inline-block;
  vertical-align: middle;
}
.btn-group > .btn,
.btn-group-vertical > .btn {
  position: relative;
  float: left;
}
.btn-group > .btn:hover,
.btn-group-vertical > .btn:hover,
.btn-group > .btn:focus,
.btn-group-vertical > .btn:focus,
.btn-group > .btn:active,
.btn-group-vertical > .btn:active,
.btn-group > .btn.active,
.btn-group-vertical > .btn.active {
  z-index: 2;
}
.btn-group .btn + .btn,
.btn-group .btn + .btn-group,
.btn-group .btn-group + .btn,
.btn-group .btn-group + .btn-group {
  margin-left: -1px;
}
.btn-toolbar {
  margin-left: -5px;
}
.btn-toolbar .btn,
.btn-toolbar .btn-group,
.btn-toolbar .input-group {
  float: left;
}
.btn-toolbar > .btn,
.btn-toolbar > .btn-group,
.btn-toolbar > .input-group {
  margin-left: 5px;
}
.btn-group > .btn:not(:first-child):not(:last-child):not(.dropdown-toggle) {
  border-radius: 0;
}
.btn-group > .btn:first-child {
  margin-left: 0;
}
.btn-group > .btn:first-child:not(:last-child):not(.dropdown-toggle) {
  border-bottom-right-radius: 0;
  border-top-right-radius: 0;
}
.btn-group > .btn:last-child:not(:first-child),
.btn-group > .dropdown-toggle:not(:first-child) {
  border-bottom-left-radius: 0;
  border-top-left-radius: 0;
}
.btn-group > .btn-group {
  float: left;
}
.btn-group > .btn-group:not(:first-child):not(:last-child) > .btn {
  border-radius: 0;
}
.btn-group > .btn-group:first-child:not(:last-child) > .btn:last-child,
.btn-group > .btn-group:first-child:not(:last-child) > .dropdown-toggle {
  border-bottom-right-radius: 0;
  border-top-right-radius: 0;
}
.btn-group > .btn-group:last-child:not(:first-child) > .btn:first-child {
  border-bottom-left-radius: 0;
  border-top-left-radius: 0;
}
.btn-group .dropdown-toggle:active,
.btn-group.open .dropdown-toggle {
  outline: 0;
}
.btn-group > .btn + .dropdown-toggle {
  padding-left: 8px;
  padding-right: 8px;
}
.btn-group > .btn-lg + .dropdown-toggle {
  padding-left: 12px;
  padding-right: 12px;
}
.btn-group.open .dropdown-toggle {
  -webkit-box-shadow: inset 0 3px 5px rgba(0, 0, 0, 0.125);
  box-shadow: inset 0 3px 5px rgba(0, 0, 0, 0.125);
}
.btn-group.open .dropdown-toggle.btn-link {
  -webkit-box-shadow: none;
  box-shadow: none;
}
.btn .caret {
  margin-left: 0;
}
.btn-lg .caret {
  border-width: 5px 5px 0;
  border-bottom-width: 0;
}
.dropup .btn-lg .caret {
  border-width: 0 5px 5px;
}
.btn-group-vertical > .btn,
.btn-group-vertical > .btn-group,
.btn-group-vertical > .btn-group > .btn {
  display: block;
  float: none;
  width: 100%;
  max-width: 100%;
}
.btn-group-vertical > .btn-group > .btn {
  float: none;
}
.btn-group-vertical > .btn + .btn,
.btn-group-vertical > .btn + .btn-group,
.btn-group-vertical > .btn-group + .btn,
.btn-group-vertical > .btn-group + .btn-group {
  margin-top: -1px;
  margin-left: 0;
}
.btn-group-vertical > .btn:not(:first-child):not(:last-child) {
  border-radius: 0;
}
.btn-group-vertical > .btn:first-child:not(:last-child) {
  border-top-right-radius: 2px;
  border-top-left-radius: 2px;
  border-bottom-right-radius: 0;
  border-bottom-left-radius: 0;
}
.btn-group-vertical > .btn:last-child:not(:first-child) {
  border-top-right-radius: 0;
  border-top-left-radius: 0;
  border-bottom-right-radius: 2px;
  border-bottom-left-radius: 2px;
}
.btn-group-vertical > .btn-group:not(:first-child):not(:last-child) > .btn {
  border-radius: 0;
}
.btn-group-vertical > .btn-group:first-child:not(:last-child) > .btn:last-child,
.btn-group-vertical > .btn-group:first-child:not(:last-child) > .dropdown-toggle {
  border-bottom-right-radius: 0;
  border-bottom-left-radius: 0;
}
.btn-group-vertical > .btn-group:last-child:not(:first-child) > .btn:first-child {
  border-top-right-radius: 0;
  border-top-left-radius: 0;
}
.btn-group-justified {
  display: table;
  width: 100%;
  table-layout: fixed;
  border-collapse: separate;
}
.btn-group-justified > .btn,
.btn-group-justified > .btn-group {
  float: none;
  display: table-cell;
  width: 1%;
}
.btn-group-justified > .btn-group .btn {
  width: 100%;
}
.btn-group-justified > .btn-group .dropdown-menu {
  left: auto;
}
[data-toggle="buttons"] > .btn input[type="radio"],
[data-toggle="buttons"] > .btn-group > .btn input[type="radio"],
[data-toggle="buttons"] > .btn input[type="checkbox"],
[data-toggle="buttons"] > .btn-group > .btn input[type="checkbox"] {
  position: absolute;
  clip: rect(0, 0, 0, 0);
  pointer-events: none;
}
.input-group {
  position: relative;
  display: table;
  border-collapse: separate;
}
.input-group[class*="col-"] {
  float: none;
  padding-left: 0;
  padding-right: 0;
}
.input-group .form-control {
  position: relative;
  z-index: 2;
  float: left;
  width: 100%;
  margin-bottom: 0;
}
.input-group .form-control:focus {
  z-index: 3;
}
.input-group-lg > .form-control,
.input-group-lg > .input-group-addon,
.input-group-lg > .input-group-btn > .btn {
  height: 45px;
  padding: 10px 16px;
  font-size: 17px;
  line-height: 1.3333333;
  border-radius: 3px;
}
select.input-group-lg > .form-control,
select.input-group-lg > .input-group-addon,
select.input-group-lg > .input-group-btn > .btn {
  height: 45px;
  line-height: 45px;
}
textarea.input-group-lg > .form-control,
textarea.input-group-lg > .input-group-addon,
textarea.input-group-lg > .input-group-btn > .btn,
select[multiple].input-group-lg > .form-control,
select[multiple].input-group-lg > .input-group-addon,
select[multiple].input-group-lg > .input-group-btn > .btn {
  height: auto;
}
.input-group-sm > .form-control,
.input-group-sm > .input-group-addon,
.input-group-sm > .input-group-btn > .btn {
  height: 30px;
  padding: 5px 10px;
  font-size: 12px;
  line-height: 1.5;
  border-radius: 1px;
}
select.input-group-sm > .form-control,
select.input-group-sm > .input-group-addon,
select.input-group-sm > .input-group-btn > .btn {
  height: 30px;
  line-height: 30px;
}
textarea.input-group-sm > .form-control,
textarea.input-group-sm > .input-group-addon,
textarea.input-group-sm > .input-group-btn > .btn,
select[multiple].input-group-sm > .form-control,
select[multiple].input-group-sm > .input-group-addon,
select[multiple].input-group-sm > .input-group-btn > .btn {
  height: auto;
}
.input-group-addon,
.input-group-btn,
.input-group .form-control {
  display: table-cell;
}
.input-group-addon:not(:first-child):not(:last-child),
.input-group-btn:not(:first-child):not(:last-child),
.input-group .form-control:not(:first-child):not(:last-child) {
  border-radius: 0;
}
.input-group-addon,
.input-group-btn {
  width: 1%;
  white-space: nowrap;
  vertical-align: middle;
}
.input-group-addon {
  padding: 6px 12px;
  font-size: 13px;
  font-weight: normal;
  line-height: 1;
  color: #555555;
  text-align: center;
  background-color: #eeeeee;
  border: 1px solid #ccc;
  border-radius: 2px;
}
.input-group-addon.input-sm {
  padding: 5px 10px;
  font-size: 12px;
  border-radius: 1px;
}
.input-group-addon.input-lg {
  padding: 10px 16px;
  font-size: 17px;
  border-radius: 3px;
}
.input-group-addon input[type="radio"],
.input-group-addon input[type="checkbox"] {
  margin-top: 0;
}
.input-group .form-control:first-child,
.input-group-addon:first-child,
.input-group-btn:first-child > .btn,
.input-group-btn:first-child > .btn-group > .btn,
.input-group-btn:first-child > .dropdown-toggle,
.input-group-btn:last-child > .btn:not(:last-child):not(.dropdown-toggle),
.input-group-btn:last-child > .btn-group:not(:last-child) > .btn {
  border-bottom-right-radius: 0;
  border-top-right-radius: 0;
}
.input-group-addon:first-child {
  border-right: 0;
}
.input-group .form-control:last-child,
.input-group-addon:last-child,
.input-group-btn:last-child > .btn,
.input-group-btn:last-child > .btn-group > .btn,
.input-group-btn:last-child > .dropdown-toggle,
.input-group-btn:first-child > .btn:not(:first-child),
.input-group-btn:first-child > .btn-group:not(:first-child) > .btn {
  border-bottom-left-radius: 0;
  border-top-left-radius: 0;
}
.input-group-addon:last-child {
  border-left: 0;
}
.input-group-btn {
  position: relative;
  font-size: 0;
  white-space: nowrap;
}
.input-group-btn > .btn {
  position: relative;
}
.input-group-btn > .btn + .btn {
  margin-left: -1px;
}
.input-group-btn > .btn:hover,
.input-group-btn > .btn:focus,
.input-group-btn > .btn:active {
  z-index: 2;
}
.input-group-btn:first-child > .btn,
.input-group-btn:first-child > .btn-group {
  margin-right: -1px;
}
.input-group-btn:last-child > .btn,
.input-group-btn:last-child > .btn-group {
  z-index: 2;
  margin-left: -1px;
}
.nav {
  margin-bottom: 0;
  padding-left: 0;
  list-style: none;
}
.nav > li {
  position: relative;
  display: block;
}
.nav > li > a {
  position: relative;
  display: block;
  padding: 10px 15px;
}
.nav > li > a:hover,
.nav > li > a:focus {
  text-decoration: none;
  background-color: #eeeeee;
}
.nav > li.disabled > a {
  color: #777777;
}
.nav > li.disabled > a:hover,
.nav > li.disabled > a:focus {
  color: #777777;
  text-decoration: none;
  background-color: transparent;
  cursor: not-allowed;
}
.nav .open > a,
.nav .open > a:hover,
.nav .open > a:focus {
  background-color: #eeeeee;
  border-color: #337ab7;
}
.nav .nav-divider {
  height: 1px;
  margin: 8px 0;
  overflow: hidden;
  background-color: #e5e5e5;
}
.nav > li > a > img {
  max-width: none;
}
.nav-tabs {
  border-bottom: 1px solid #ddd;
}
.nav-tabs > li {
  float: left;
  margin-bottom: -1px;
}
.nav-tabs > li > a {
  margin-right: 2px;
  line-height: 1.42857143;
  border: 1px solid transparent;
  border-radius: 2px 2px 0 0;
}
.nav-tabs > li > a:hover {
  border-color: #eeeeee #eeeeee #ddd;
}
.nav-tabs > li.active > a,
.nav-tabs > li.active > a:hover,
.nav-tabs > li.active > a:focus {
  color: #555555;
  background-color: #fff;
  border: 1px solid #ddd;
  border-bottom-color: transparent;
  cursor: default;
}
.nav-tabs.nav-justified {
  width: 100%;
  border-bottom: 0;
}
.nav-tabs.nav-justified > li {
  float: none;
}
.nav-tabs.nav-justified > li > a {
  text-align: center;
  margin-bottom: 5px;
}
.nav-tabs.nav-justified > .dropdown .dropdown-menu {
  top: auto;
  left: auto;
}
@media (min-width: 768px) {
  .nav-tabs.nav-justified > li {
    display: table-cell;
    width: 1%;
  }
  .nav-tabs.nav-justified > li > a {
    margin-bottom: 0;
  }
}
.nav-tabs.nav-justified > li > a {
  margin-right: 0;
  border-radius: 2px;
}
.nav-tabs.nav-justified > .active > a,
.nav-tabs.nav-justified > .active > a:hover,
.nav-tabs.nav-justified > .active > a:focus {
  border: 1px solid #ddd;
}
@media (min-width: 768px) {
  .nav-tabs.nav-justified > li > a {
    border-bottom: 1px solid #ddd;
    border-radius: 2px 2px 0 0;
  }
  .nav-tabs.nav-justified > .active > a,
  .nav-tabs.nav-justified > .active > a:hover,
  .nav-tabs.nav-justified > .active > a:focus {
    border-bottom-color: #fff;
  }
}
.nav-pills > li {
  float: left;
}
.nav-pills > li > a {
  border-radius: 2px;
}
.nav-pills > li + li {
  margin-left: 2px;
}
.nav-pills > li.active > a,
.nav-pills > li.active > a:hover,
.nav-pills > li.active > a:focus {
  color: #fff;
  background-color: #337ab7;
}
.nav-stacked > li {
  float: none;
}
.nav-stacked > li + li {
  margin-top: 2px;
  margin-left: 0;
}
.nav-justified {
  width: 100%;
}
.nav-justified > li {
  float: none;
}
.nav-justified > li > a {
  text-align: center;
  margin-bottom: 5px;
}
.nav-justified > .dropdown .dropdown-menu {
  top: auto;
  left: auto;
}
@media (min-width: 768px) {
  .nav-justified > li {
    display: table-cell;
    width: 1%;
  }
  .nav-justified > li > a {
    margin-bottom: 0;
  }
}
.nav-tabs-justified {
  border-bottom: 0;
}
.nav-tabs-justified > li > a {
  margin-right: 0;
  border-radius: 2px;
}
.nav-tabs-justified > .active > a,
.nav-tabs-justified > .active > a:hover,
.nav-tabs-justified > .active > a:focus {
  border: 1px solid #ddd;
}
@media (min-width: 768px) {
  .nav-tabs-justified > li > a {
    border-bottom: 1px solid #ddd;
    border-radius: 2px 2px 0 0;
  }
  .nav-tabs-justified > .active > a,
  .nav-tabs-justified > .active > a:hover,
  .nav-tabs-justified > .active > a:focus {
    border-bottom-color: #fff;
  }
}
.tab-content > .tab-pane {
  display: none;
}
.tab-content > .active {
  display: block;
}
.nav-tabs .dropdown-menu {
  margin-top: -1px;
  border-top-right-radius: 0;
  border-top-left-radius: 0;
}
.navbar {
  position: relative;
  min-height: 30px;
  margin-bottom: 18px;
  border: 1px solid transparent;
}
@media (min-width: 541px) {
  .navbar {
    border-radius: 2px;
  }
}
@media (min-width: 541px) {
  .navbar-header {
    float: left;
  }
}
.navbar-collapse {
  overflow-x: visible;
  padding-right: 0px;
  padding-left: 0px;
  border-top: 1px solid transparent;
  box-shadow: inset 0 1px 0 rgba(255, 255, 255, 0.1);
  -webkit-overflow-scrolling: touch;
}
.navbar-collapse.in {
  overflow-y: auto;
}
@media (min-width: 541px) {
  .navbar-collapse {
    width: auto;
    border-top: 0;
    box-shadow: none;
  }
  .navbar-collapse.collapse {
    display: block !important;
    height: auto !important;
    padding-bottom: 0;
    overflow: visible !important;
  }
  .navbar-collapse.in {
    overflow-y: visible;
  }
  .navbar-fixed-top .navbar-collapse,
  .navbar-static-top .navbar-collapse,
  .navbar-fixed-bottom .navbar-collapse {
    padding-left: 0;
    padding-right: 0;
  }
}
.navbar-fixed-top .navbar-collapse,
.navbar-fixed-bottom .navbar-collapse {
  max-height: 340px;
}
@media (max-device-width: 540px) and (orientation: landscape) {
  .navbar-fixed-top .navbar-collapse,
  .navbar-fixed-bottom .navbar-collapse {
    max-height: 200px;
  }
}
.container > .navbar-header,
.container-fluid > .navbar-header,
.container > .navbar-collapse,
.container-fluid > .navbar-collapse {
  margin-right: 0px;
  margin-left: 0px;
}
@media (min-width: 541px) {
  .container > .navbar-header,
  .container-fluid > .navbar-header,
  .container > .navbar-collapse,
  .container-fluid > .navbar-collapse {
    margin-right: 0;
    margin-left: 0;
  }
}
.navbar-static-top {
  z-index: 1000;
  border-width: 0 0 1px;
}
@media (min-width: 541px) {
  .navbar-static-top {
    border-radius: 0;
  }
}
.navbar-fixed-top,
.navbar-fixed-bottom {
  position: fixed;
  right: 0;
  left: 0;
  z-index: 1030;
}
@media (min-width: 541px) {
  .navbar-fixed-top,
  .navbar-fixed-bottom {
    border-radius: 0;
  }
}
.navbar-fixed-top {
  top: 0;
  border-width: 0 0 1px;
}
.navbar-fixed-bottom {
  bottom: 0;
  margin-bottom: 0;
  border-width: 1px 0 0;
}
.navbar-brand {
  float: left;
  padding: 6px 0px;
  font-size: 17px;
  line-height: 18px;
  height: 30px;
}
.navbar-brand:hover,
.navbar-brand:focus {
  text-decoration: none;
}
.navbar-brand > img {
  display: block;
}
@media (min-width: 541px) {
  .navbar > .container .navbar-brand,
  .navbar > .container-fluid .navbar-brand {
    margin-left: 0px;
  }
}
.navbar-toggle {
  position: relative;
  float: right;
  margin-right: 0px;
  padding: 9px 10px;
  margin-top: -2px;
  margin-bottom: -2px;
  background-color: transparent;
  background-image: none;
  border: 1px solid transparent;
  border-radius: 2px;
}
.navbar-toggle:focus {
  outline: 0;
}
.navbar-toggle .icon-bar {
  display: block;
  width: 22px;
  height: 2px;
  border-radius: 1px;
}
.navbar-toggle .icon-bar + .icon-bar {
  margin-top: 4px;
}
@media (min-width: 541px) {
  .navbar-toggle {
    display: none;
  }
}
.navbar-nav {
  margin: 3px 0px;
}
.navbar-nav > li > a {
  padding-top: 10px;
  padding-bottom: 10px;
  line-height: 18px;
}
@media (max-width: 540px) {
  .navbar-nav .open .dropdown-menu {
    position: static;
    float: none;
    width: auto;
    margin-top: 0;
    background-color: transparent;
    border: 0;
    box-shadow: none;
  }
  .navbar-nav .open .dropdown-menu > li > a,
  .navbar-nav .open .dropdown-menu .dropdown-header {
    padding: 5px 15px 5px 25px;
  }
  .navbar-nav .open .dropdown-menu > li > a {
    line-height: 18px;
  }
  .navbar-nav .open .dropdown-menu > li > a:hover,
  .navbar-nav .open .dropdown-menu > li > a:focus {
    background-image: none;
  }
}
@media (min-width: 541px) {
  .navbar-nav {
    float: left;
    margin: 0;
  }
  .navbar-nav > li {
    float: left;
  }
  .navbar-nav > li > a {
    padding-top: 6px;
    padding-bottom: 6px;
  }
}
.navbar-form {
  margin-left: 0px;
  margin-right: 0px;
  padding: 10px 0px;
  border-top: 1px solid transparent;
  border-bottom: 1px solid transparent;
  -webkit-box-shadow: inset 0 1px 0 rgba(255, 255, 255, 0.1), 0 1px 0 rgba(255, 255, 255, 0.1);
  box-shadow: inset 0 1px 0 rgba(255, 255, 255, 0.1), 0 1px 0 rgba(255, 255, 255, 0.1);
  margin-top: -1px;
  margin-bottom: -1px;
}
@media (min-width: 768px) {
  .navbar-form .form-group {
    display: inline-block;
    margin-bottom: 0;
    vertical-align: middle;
  }
  .navbar-form .form-control {
    display: inline-block;
    width: auto;
    vertical-align: middle;
  }
  .navbar-form .form-control-static {
    display: inline-block;
  }
  .navbar-form .input-group {
    display: inline-table;
    vertical-align: middle;
  }
  .navbar-form .input-group .input-group-addon,
  .navbar-form .input-group .input-group-btn,
  .navbar-form .input-group .form-control {
    width: auto;
  }
  .navbar-form .input-group > .form-control {
    width: 100%;
  }
  .navbar-form .control-label {
    margin-bottom: 0;
    vertical-align: middle;
  }
  .navbar-form .radio,
  .navbar-form .checkbox {
    display: inline-block;
    margin-top: 0;
    margin-bottom: 0;
    vertical-align: middle;
  }
  .navbar-form .radio label,
  .navbar-form .checkbox label {
    padding-left: 0;
  }
  .navbar-form .radio input[type="radio"],
  .navbar-form .checkbox input[type="checkbox"] {
    position: relative;
    margin-left: 0;
  }
  .navbar-form .has-feedback .form-control-feedback {
    top: 0;
  }
}
@media (max-width: 540px) {
  .navbar-form .form-group {
    margin-bottom: 5px;
  }
  .navbar-form .form-group:last-child {
    margin-bottom: 0;
  }
}
@media (min-width: 541px) {
  .navbar-form {
    width: auto;
    border: 0;
    margin-left: 0;
    margin-right: 0;
    padding-top: 0;
    padding-bottom: 0;
    -webkit-box-shadow: none;
    box-shadow: none;
  }
}
.navbar-nav > li > .dropdown-menu {
  margin-top: 0;
  border-top-right-radius: 0;
  border-top-left-radius: 0;
}
.navbar-fixed-bottom .navbar-nav > li > .dropdown-menu {
  margin-bottom: 0;
  border-top-right-radius: 2px;
  border-top-left-radius: 2px;
  border-bottom-right-radius: 0;
  border-bottom-left-radius: 0;
}
.navbar-btn {
  margin-top: -1px;
  margin-bottom: -1px;
}
.navbar-btn.btn-sm {
  margin-top: 0px;
  margin-bottom: 0px;
}
.navbar-btn.btn-xs {
  margin-top: 4px;
  margin-bottom: 4px;
}
.navbar-text {
  margin-top: 6px;
  margin-bottom: 6px;
}
@media (min-width: 541px) {
  .navbar-text {
    float: left;
    margin-left: 0px;
    margin-right: 0px;
  }
}
@media (min-width: 541px) {
  .navbar-left {
    float: left !important;
    float: left;
  }
  .navbar-right {
    float: right !important;
    float: right;
    margin-right: 0px;
  }
  .navbar-right ~ .navbar-right {
    margin-right: 0;
  }
}
.navbar-default {
  background-color: #f8f8f8;
  border-color: #e7e7e7;
}
.navbar-default .navbar-brand {
  color: #777;
}
.navbar-default .navbar-brand:hover,
.navbar-default .navbar-brand:focus {
  color: #5e5e5e;
  background-color: transparent;
}
.navbar-default .navbar-text {
  color: #777;
}
.navbar-default .navbar-nav > li > a {
  color: #777;
}
.navbar-default .navbar-nav > li > a:hover,
.navbar-default .navbar-nav > li > a:focus {
  color: #333;
  background-color: transparent;
}
.navbar-default .navbar-nav > .active > a,
.navbar-default .navbar-nav > .active > a:hover,
.navbar-default .navbar-nav > .active > a:focus {
  color: #555;
  background-color: #e7e7e7;
}
.navbar-default .navbar-nav > .disabled > a,
.navbar-default .navbar-nav > .disabled > a:hover,
.navbar-default .navbar-nav > .disabled > a:focus {
  color: #ccc;
  background-color: transparent;
}
.navbar-default .navbar-toggle {
  border-color: #ddd;
}
.navbar-default .navbar-toggle:hover,
.navbar-default .navbar-toggle:focus {
  background-color: #ddd;
}
.navbar-default .navbar-toggle .icon-bar {
  background-color: #888;
}
.navbar-default .navbar-collapse,
.navbar-default .navbar-form {
  border-color: #e7e7e7;
}
.navbar-default .navbar-nav > .open > a,
.navbar-default .navbar-nav > .open > a:hover,
.navbar-default .navbar-nav > .open > a:focus {
  background-color: #e7e7e7;
  color: #555;
}
@media (max-width: 540px) {
  .navbar-default .navbar-nav .open .dropdown-menu > li > a {
    color: #777;
  }
  .navbar-default .navbar-nav .open .dropdown-menu > li > a:hover,
  .navbar-default .navbar-nav .open .dropdown-menu > li > a:focus {
    color: #333;
    background-color: transparent;
  }
  .navbar-default .navbar-nav .open .dropdown-menu > .active > a,
  .navbar-default .navbar-nav .open .dropdown-menu > .active > a:hover,
  .navbar-default .navbar-nav .open .dropdown-menu > .active > a:focus {
    color: #555;
    background-color: #e7e7e7;
  }
  .navbar-default .navbar-nav .open .dropdown-menu > .disabled > a,
  .navbar-default .navbar-nav .open .dropdown-menu > .disabled > a:hover,
  .navbar-default .navbar-nav .open .dropdown-menu > .disabled > a:focus {
    color: #ccc;
    background-color: transparent;
  }
}
.navbar-default .navbar-link {
  color: #777;
}
.navbar-default .navbar-link:hover {
  color: #333;
}
.navbar-default .btn-link {
  color: #777;
}
.navbar-default .btn-link:hover,
.navbar-default .btn-link:focus {
  color: #333;
}
.navbar-default .btn-link[disabled]:hover,
fieldset[disabled] .navbar-default .btn-link:hover,
.navbar-default .btn-link[disabled]:focus,
fieldset[disabled] .navbar-default .btn-link:focus {
  color: #ccc;
}
.navbar-inverse {
  background-color: #222;
  border-color: #080808;
}
.navbar-inverse .navbar-brand {
  color: #9d9d9d;
}
.navbar-inverse .navbar-brand:hover,
.navbar-inverse .navbar-brand:focus {
  color: #fff;
  background-color: transparent;
}
.navbar-inverse .navbar-text {
  color: #9d9d9d;
}
.navbar-inverse .navbar-nav > li > a {
  color: #9d9d9d;
}
.navbar-inverse .navbar-nav > li > a:hover,
.navbar-inverse .navbar-nav > li > a:focus {
  color: #fff;
  background-color: transparent;
}
.navbar-inverse .navbar-nav > .active > a,
.navbar-inverse .navbar-nav > .active > a:hover,
.navbar-inverse .navbar-nav > .active > a:focus {
  color: #fff;
  background-color: #080808;
}
.navbar-inverse .navbar-nav > .disabled > a,
.navbar-inverse .navbar-nav > .disabled > a:hover,
.navbar-inverse .navbar-nav > .disabled > a:focus {
  color: #444;
  background-color: transparent;
}
.navbar-inverse .navbar-toggle {
  border-color: #333;
}
.navbar-inverse .navbar-toggle:hover,
.navbar-inverse .navbar-toggle:focus {
  background-color: #333;
}
.navbar-inverse .navbar-toggle .icon-bar {
  background-color: #fff;
}
.navbar-inverse .navbar-collapse,
.navbar-inverse .navbar-form {
  border-color: #101010;
}
.navbar-inverse .navbar-nav > .open > a,
.navbar-inverse .navbar-nav > .open > a:hover,
.navbar-inverse .navbar-nav > .open > a:focus {
  background-color: #080808;
  color: #fff;
}
@media (max-width: 540px) {
  .navbar-inverse .navbar-nav .open .dropdown-menu > .dropdown-header {
    border-color: #080808;
  }
  .navbar-inverse .navbar-nav .open .dropdown-menu .divider {
    background-color: #080808;
  }
  .navbar-inverse .navbar-nav .open .dropdown-menu > li > a {
    color: #9d9d9d;
  }
  .navbar-inverse .navbar-nav .open .dropdown-menu > li > a:hover,
  .navbar-inverse .navbar-nav .open .dropdown-menu > li > a:focus {
    color: #fff;
    background-color: transparent;
  }
  .navbar-inverse .navbar-nav .open .dropdown-menu > .active > a,
  .navbar-inverse .navbar-nav .open .dropdown-menu > .active > a:hover,
  .navbar-inverse .navbar-nav .open .dropdown-menu > .active > a:focus {
    color: #fff;
    background-color: #080808;
  }
  .navbar-inverse .navbar-nav .open .dropdown-menu > .disabled > a,
  .navbar-inverse .navbar-nav .open .dropdown-menu > .disabled > a:hover,
  .navbar-inverse .navbar-nav .open .dropdown-menu > .disabled > a:focus {
    color: #444;
    background-color: transparent;
  }
}
.navbar-inverse .navbar-link {
  color: #9d9d9d;
}
.navbar-inverse .navbar-link:hover {
  color: #fff;
}
.navbar-inverse .btn-link {
  color: #9d9d9d;
}
.navbar-inverse .btn-link:hover,
.navbar-inverse .btn-link:focus {
  color: #fff;
}
.navbar-inverse .btn-link[disabled]:hover,
fieldset[disabled] .navbar-inverse .btn-link:hover,
.navbar-inverse .btn-link[disabled]:focus,
fieldset[disabled] .navbar-inverse .btn-link:focus {
  color: #444;
}
.breadcrumb {
  padding: 8px 15px;
  margin-bottom: 18px;
  list-style: none;
  background-color: #f5f5f5;
  border-radius: 2px;
}
.breadcrumb > li {
  display: inline-block;
}
.breadcrumb > li + li:before {
  content: "/\00a0";
  padding: 0 5px;
  color: #5e5e5e;
}
.breadcrumb > .active {
  color: #777777;
}
.pagination {
  display: inline-block;
  padding-left: 0;
  margin: 18px 0;
  border-radius: 2px;
}
.pagination > li {
  display: inline;
}
.pagination > li > a,
.pagination > li > span {
  position: relative;
  float: left;
  padding: 6px 12px;
  line-height: 1.42857143;
  text-decoration: none;
  color: #337ab7;
  background-color: #fff;
  border: 1px solid #ddd;
  margin-left: -1px;
}
.pagination > li:first-child > a,
.pagination > li:first-child > span {
  margin-left: 0;
  border-bottom-left-radius: 2px;
  border-top-left-radius: 2px;
}
.pagination > li:last-child > a,
.pagination > li:last-child > span {
  border-bottom-right-radius: 2px;
  border-top-right-radius: 2px;
}
.pagination > li > a:hover,
.pagination > li > span:hover,
.pagination > li > a:focus,
.pagination > li > span:focus {
  z-index: 2;
  color: #23527c;
  background-color: #eeeeee;
  border-color: #ddd;
}
.pagination > .active > a,
.pagination > .active > span,
.pagination > .active > a:hover,
.pagination > .active > span:hover,
.pagination > .active > a:focus,
.pagination > .active > span:focus {
  z-index: 3;
  color: #fff;
  background-color: #337ab7;
  border-color: #337ab7;
  cursor: default;
}
.pagination > .disabled > span,
.pagination > .disabled > span:hover,
.pagination > .disabled > span:focus,
.pagination > .disabled > a,
.pagination > .disabled > a:hover,
.pagination > .disabled > a:focus {
  color: #777777;
  background-color: #fff;
  border-color: #ddd;
  cursor: not-allowed;
}
.pagination-lg > li > a,
.pagination-lg > li > span {
  padding: 10px 16px;
  font-size: 17px;
  line-height: 1.3333333;
}
.pagination-lg > li:first-child > a,
.pagination-lg > li:first-child > span {
  border-bottom-left-radius: 3px;
  border-top-left-radius: 3px;
}
.pagination-lg > li:last-child > a,
.pagination-lg > li:last-child > span {
  border-bottom-right-radius: 3px;
  border-top-right-radius: 3px;
}
.pagination-sm > li > a,
.pagination-sm > li > span {
  padding: 5px 10px;
  font-size: 12px;
  line-height: 1.5;
}
.pagination-sm > li:first-child > a,
.pagination-sm > li:first-child > span {
  border-bottom-left-radius: 1px;
  border-top-left-radius: 1px;
}
.pagination-sm > li:last-child > a,
.pagination-sm > li:last-child > span {
  border-bottom-right-radius: 1px;
  border-top-right-radius: 1px;
}
.pager {
  padding-left: 0;
  margin: 18px 0;
  list-style: none;
  text-align: center;
}
.pager li {
  display: inline;
}
.pager li > a,
.pager li > span {
  display: inline-block;
  padding: 5px 14px;
  background-color: #fff;
  border: 1px solid #ddd;
  border-radius: 15px;
}
.pager li > a:hover,
.pager li > a:focus {
  text-decoration: none;
  background-color: #eeeeee;
}
.pager .next > a,
.pager .next > span {
  float: right;
}
.pager .previous > a,
.pager .previous > span {
  float: left;
}
.pager .disabled > a,
.pager .disabled > a:hover,
.pager .disabled > a:focus,
.pager .disabled > span {
  color: #777777;
  background-color: #fff;
  cursor: not-allowed;
}
.label {
  display: inline;
  padding: .2em .6em .3em;
  font-size: 75%;
  font-weight: bold;
  line-height: 1;
  color: #fff;
  text-align: center;
  white-space: nowrap;
  vertical-align: baseline;
  border-radius: .25em;
}
a.label:hover,
a.label:focus {
  color: #fff;
  text-decoration: none;
  cursor: pointer;
}
.label:empty {
  display: none;
}
.btn .label {
  position: relative;
  top: -1px;
}
.label-default {
  background-color: #777777;
}
.label-default[href]:hover,
.label-default[href]:focus {
  background-color: #5e5e5e;
}
.label-primary {
  background-color: #337ab7;
}
.label-primary[href]:hover,
.label-primary[href]:focus {
  background-color: #286090;
}
.label-success {
  background-color: #5cb85c;
}
.label-success[href]:hover,
.label-success[href]:focus {
  background-color: #449d44;
}
.label-info {
  background-color: #5bc0de;
}
.label-info[href]:hover,
.label-info[href]:focus {
  background-color: #31b0d5;
}
.label-warning {
  background-color: #f0ad4e;
}
.label-warning[href]:hover,
.label-warning[href]:focus {
  background-color: #ec971f;
}
.label-danger {
  background-color: #d9534f;
}
.label-danger[href]:hover,
.label-danger[href]:focus {
  background-color: #c9302c;
}
.badge {
  display: inline-block;
  min-width: 10px;
  padding: 3px 7px;
  font-size: 12px;
  font-weight: bold;
  color: #fff;
  line-height: 1;
  vertical-align: middle;
  white-space: nowrap;
  text-align: center;
  background-color: #777777;
  border-radius: 10px;
}
.badge:empty {
  display: none;
}
.btn .badge {
  position: relative;
  top: -1px;
}
.btn-xs .badge,
.btn-group-xs > .btn .badge {
  top: 0;
  padding: 1px 5px;
}
a.badge:hover,
a.badge:focus {
  color: #fff;
  text-decoration: none;
  cursor: pointer;
}
.list-group-item.active > .badge,
.nav-pills > .active > a > .badge {
  color: #337ab7;
  background-color: #fff;
}
.list-group-item > .badge {
  float: right;
}
.list-group-item > .badge + .badge {
  margin-right: 5px;
}
.nav-pills > li > a > .badge {
  margin-left: 3px;
}
.jumbotron {
  padding-top: 30px;
  padding-bottom: 30px;
  margin-bottom: 30px;
  color: inherit;
  background-color: #eeeeee;
}
.jumbotron h1,
.jumbotron .h1 {
  color: inherit;
}
.jumbotron p {
  margin-bottom: 15px;
  font-size: 20px;
  font-weight: 200;
}
.jumbotron > hr {
  border-top-color: #d5d5d5;
}
.container .jumbotron,
.container-fluid .jumbotron {
  border-radius: 3px;
  padding-left: 0px;
  padding-right: 0px;
}
.jumbotron .container {
  max-width: 100%;
}
@media screen and (min-width: 768px) {
  .jumbotron {
    padding-top: 48px;
    padding-bottom: 48px;
  }
  .container .jumbotron,
  .container-fluid .jumbotron {
    padding-left: 60px;
    padding-right: 60px;
  }
  .jumbotron h1,
  .jumbotron .h1 {
    font-size: 59px;
  }
}
.thumbnail {
  display: block;
  padding: 4px;
  margin-bottom: 18px;
  line-height: 1.42857143;
  background-color: #fff;
  border: 1px solid #ddd;
  border-radius: 2px;
  -webkit-transition: border 0.2s ease-in-out;
  -o-transition: border 0.2s ease-in-out;
  transition: border 0.2s ease-in-out;
}
.thumbnail > img,
.thumbnail a > img {
  margin-left: auto;
  margin-right: auto;
}
a.thumbnail:hover,
a.thumbnail:focus,
a.thumbnail.active {
  border-color: #337ab7;
}
.thumbnail .caption {
  padding: 9px;
  color: #000;
}
.alert {
  padding: 15px;
  margin-bottom: 18px;
  border: 1px solid transparent;
  border-radius: 2px;
}
.alert h4 {
  margin-top: 0;
  color: inherit;
}
.alert .alert-link {
  font-weight: bold;
}
.alert > p,
.alert > ul {
  margin-bottom: 0;
}
.alert > p + p {
  margin-top: 5px;
}
.alert-dismissable,
.alert-dismissible {
  padding-right: 35px;
}
.alert-dismissable .close,
.alert-dismissible .close {
  position: relative;
  top: -2px;
  right: -21px;
  color: inherit;
}
.alert-success {
  background-color: #dff0d8;
  border-color: #d6e9c6;
  color: #3c763d;
}
.alert-success hr {
  border-top-color: #c9e2b3;
}
.alert-success .alert-link {
  color: #2b542c;
}
.alert-info {
  background-color: #d9edf7;
  border-color: #bce8f1;
  color: #31708f;
}
.alert-info hr {
  border-top-color: #a6e1ec;
}
.alert-info .alert-link {
  color: #245269;
}
.alert-warning {
  background-color: #fcf8e3;
  border-color: #faebcc;
  color: #8a6d3b;
}
.alert-warning hr {
  border-top-color: #f7e1b5;
}
.alert-warning .alert-link {
  color: #66512c;
}
.alert-danger {
  background-color: #f2dede;
  border-color: #ebccd1;
  color: #a94442;
}
.alert-danger hr {
  border-top-color: #e4b9c0;
}
.alert-danger .alert-link {
  color: #843534;
}
@-webkit-keyframes progress-bar-stripes {
  from {
    background-position: 40px 0;
  }
  to {
    background-position: 0 0;
  }
}
@keyframes progress-bar-stripes {
  from {
    background-position: 40px 0;
  }
  to {
    background-position: 0 0;
  }
}
.progress {
  overflow: hidden;
  height: 18px;
  margin-bottom: 18px;
  background-color: #f5f5f5;
  border-radius: 2px;
  -webkit-box-shadow: inset 0 1px 2px rgba(0, 0, 0, 0.1);
  box-shadow: inset 0 1px 2px rgba(0, 0, 0, 0.1);
}
.progress-bar {
  float: left;
  width: 0%;
  height: 100%;
  font-size: 12px;
  line-height: 18px;
  color: #fff;
  text-align: center;
  background-color: #337ab7;
  -webkit-box-shadow: inset 0 -1px 0 rgba(0, 0, 0, 0.15);
  box-shadow: inset 0 -1px 0 rgba(0, 0, 0, 0.15);
  -webkit-transition: width 0.6s ease;
  -o-transition: width 0.6s ease;
  transition: width 0.6s ease;
}
.progress-striped .progress-bar,
.progress-bar-striped {
  background-image: -webkit-linear-gradient(45deg, rgba(255, 255, 255, 0.15) 25%, transparent 25%, transparent 50%, rgba(255, 255, 255, 0.15) 50%, rgba(255, 255, 255, 0.15) 75%, transparent 75%, transparent);
  background-image: -o-linear-gradient(45deg, rgba(255, 255, 255, 0.15) 25%, transparent 25%, transparent 50%, rgba(255, 255, 255, 0.15) 50%, rgba(255, 255, 255, 0.15) 75%, transparent 75%, transparent);
  background-image: linear-gradient(45deg, rgba(255, 255, 255, 0.15) 25%, transparent 25%, transparent 50%, rgba(255, 255, 255, 0.15) 50%, rgba(255, 255, 255, 0.15) 75%, transparent 75%, transparent);
  background-size: 40px 40px;
}
.progress.active .progress-bar,
.progress-bar.active {
  -webkit-animation: progress-bar-stripes 2s linear infinite;
  -o-animation: progress-bar-stripes 2s linear infinite;
  animation: progress-bar-stripes 2s linear infinite;
}
.progress-bar-success {
  background-color: #5cb85c;
}
.progress-striped .progress-bar-success {
  background-image: -webkit-linear-gradient(45deg, rgba(255, 255, 255, 0.15) 25%, transparent 25%, transparent 50%, rgba(255, 255, 255, 0.15) 50%, rgba(255, 255, 255, 0.15) 75%, transparent 75%, transparent);
  background-image: -o-linear-gradient(45deg, rgba(255, 255, 255, 0.15) 25%, transparent 25%, transparent 50%, rgba(255, 255, 255, 0.15) 50%, rgba(255, 255, 255, 0.15) 75%, transparent 75%, transparent);
  background-image: linear-gradient(45deg, rgba(255, 255, 255, 0.15) 25%, transparent 25%, transparent 50%, rgba(255, 255, 255, 0.15) 50%, rgba(255, 255, 255, 0.15) 75%, transparent 75%, transparent);
}
.progress-bar-info {
  background-color: #5bc0de;
}
.progress-striped .progress-bar-info {
  background-image: -webkit-linear-gradient(45deg, rgba(255, 255, 255, 0.15) 25%, transparent 25%, transparent 50%, rgba(255, 255, 255, 0.15) 50%, rgba(255, 255, 255, 0.15) 75%, transparent 75%, transparent);
  background-image: -o-linear-gradient(45deg, rgba(255, 255, 255, 0.15) 25%, transparent 25%, transparent 50%, rgba(255, 255, 255, 0.15) 50%, rgba(255, 255, 255, 0.15) 75%, transparent 75%, transparent);
  background-image: linear-gradient(45deg, rgba(255, 255, 255, 0.15) 25%, transparent 25%, transparent 50%, rgba(255, 255, 255, 0.15) 50%, rgba(255, 255, 255, 0.15) 75%, transparent 75%, transparent);
}
.progress-bar-warning {
  background-color: #f0ad4e;
}
.progress-striped .progress-bar-warning {
  background-image: -webkit-linear-gradient(45deg, rgba(255, 255, 255, 0.15) 25%, transparent 25%, transparent 50%, rgba(255, 255, 255, 0.15) 50%, rgba(255, 255, 255, 0.15) 75%, transparent 75%, transparent);
  background-image: -o-linear-gradient(45deg, rgba(255, 255, 255, 0.15) 25%, transparent 25%, transparent 50%, rgba(255, 255, 255, 0.15) 50%, rgba(255, 255, 255, 0.15) 75%, transparent 75%, transparent);
  background-image: linear-gradient(45deg, rgba(255, 255, 255, 0.15) 25%, transparent 25%, transparent 50%, rgba(255, 255, 255, 0.15) 50%, rgba(255, 255, 255, 0.15) 75%, transparent 75%, transparent);
}
.progress-bar-danger {
  background-color: #d9534f;
}
.progress-striped .progress-bar-danger {
  background-image: -webkit-linear-gradient(45deg, rgba(255, 255, 255, 0.15) 25%, transparent 25%, transparent 50%, rgba(255, 255, 255, 0.15) 50%, rgba(255, 255, 255, 0.15) 75%, transparent 75%, transparent);
  background-image: -o-linear-gradient(45deg, rgba(255, 255, 255, 0.15) 25%, transparent 25%, transparent 50%, rgba(255, 255, 255, 0.15) 50%, rgba(255, 255, 255, 0.15) 75%, transparent 75%, transparent);
  background-image: linear-gradient(45deg, rgba(255, 255, 255, 0.15) 25%, transparent 25%, transparent 50%, rgba(255, 255, 255, 0.15) 50%, rgba(255, 255, 255, 0.15) 75%, transparent 75%, transparent);
}
.media {
  margin-top: 15px;
}
.media:first-child {
  margin-top: 0;
}
.media,
.media-body {
  zoom: 1;
  overflow: hidden;
}
.media-body {
  width: 10000px;
}
.media-object {
  display: block;
}
.media-object.img-thumbnail {
  max-width: none;
}
.media-right,
.media > .pull-right {
  padding-left: 10px;
}
.media-left,
.media > .pull-left {
  padding-right: 10px;
}
.media-left,
.media-right,
.media-body {
  display: table-cell;
  vertical-align: top;
}
.media-middle {
  vertical-align: middle;
}
.media-bottom {
  vertical-align: bottom;
}
.media-heading {
  margin-top: 0;
  margin-bottom: 5px;
}
.media-list {
  padding-left: 0;
  list-style: none;
}
.list-group {
  margin-bottom: 20px;
  padding-left: 0;
}
.list-group-item {
  position: relative;
  display: block;
  padding: 10px 15px;
  margin-bottom: -1px;
  background-color: #fff;
  border: 1px solid #ddd;
}
.list-group-item:first-child {
  border-top-right-radius: 2px;
  border-top-left-radius: 2px;
}
.list-group-item:last-child {
  margin-bottom: 0;
  border-bottom-right-radius: 2px;
  border-bottom-left-radius: 2px;
}
a.list-group-item,
button.list-group-item {
  color: #555;
}
a.list-group-item .list-group-item-heading,
button.list-group-item .list-group-item-heading {
  color: #333;
}
a.list-group-item:hover,
button.list-group-item:hover,
a.list-group-item:focus,
button.list-group-item:focus {
  text-decoration: none;
  color: #555;
  background-color: #f5f5f5;
}
button.list-group-item {
  width: 100%;
  text-align: left;
}
.list-group-item.disabled,
.list-group-item.disabled:hover,
.list-group-item.disabled:focus {
  background-color: #eeeeee;
  color: #777777;
  cursor: not-allowed;
}
.list-group-item.disabled .list-group-item-heading,
.list-group-item.disabled:hover .list-group-item-heading,
.list-group-item.disabled:focus .list-group-item-heading {
  color: inherit;
}
.list-group-item.disabled .list-group-item-text,
.list-group-item.disabled:hover .list-group-item-text,
.list-group-item.disabled:focus .list-group-item-text {
  color: #777777;
}
.list-group-item.active,
.list-group-item.active:hover,
.list-group-item.active:focus {
  z-index: 2;
  color: #fff;
  background-color: #337ab7;
  border-color: #337ab7;
}
.list-group-item.active .list-group-item-heading,
.list-group-item.active:hover .list-group-item-heading,
.list-group-item.active:focus .list-group-item-heading,
.list-group-item.active .list-group-item-heading > small,
.list-group-item.active:hover .list-group-item-heading > small,
.list-group-item.active:focus .list-group-item-heading > small,
.list-group-item.active .list-group-item-heading > .small,
.list-group-item.active:hover .list-group-item-heading > .small,
.list-group-item.active:focus .list-group-item-heading > .small {
  color: inherit;
}
.list-group-item.active .list-group-item-text,
.list-group-item.active:hover .list-group-item-text,
.list-group-item.active:focus .list-group-item-text {
  color: #c7ddef;
}
.list-group-item-success {
  color: #3c763d;
  background-color: #dff0d8;
}
a.list-group-item-success,
button.list-group-item-success {
  color: #3c763d;
}
a.list-group-item-success .list-group-item-heading,
button.list-group-item-success .list-group-item-heading {
  color: inherit;
}
a.list-group-item-success:hover,
button.list-group-item-success:hover,
a.list-group-item-success:focus,
button.list-group-item-success:focus {
  color: #3c763d;
  background-color: #d0e9c6;
}
a.list-group-item-success.active,
button.list-group-item-success.active,
a.list-group-item-success.active:hover,
button.list-group-item-success.active:hover,
a.list-group-item-success.active:focus,
button.list-group-item-success.active:focus {
  color: #fff;
  background-color: #3c763d;
  border-color: #3c763d;
}
.list-group-item-info {
  color: #31708f;
  background-color: #d9edf7;
}
a.list-group-item-info,
button.list-group-item-info {
  color: #31708f;
}
a.list-group-item-info .list-group-item-heading,
button.list-group-item-info .list-group-item-heading {
  color: inherit;
}
a.list-group-item-info:hover,
button.list-group-item-info:hover,
a.list-group-item-info:focus,
button.list-group-item-info:focus {
  color: #31708f;
  background-color: #c4e3f3;
}
a.list-group-item-info.active,
button.list-group-item-info.active,
a.list-group-item-info.active:hover,
button.list-group-item-info.active:hover,
a.list-group-item-info.active:focus,
button.list-group-item-info.active:focus {
  color: #fff;
  background-color: #31708f;
  border-color: #31708f;
}
.list-group-item-warning {
  color: #8a6d3b;
  background-color: #fcf8e3;
}
a.list-group-item-warning,
button.list-group-item-warning {
  color: #8a6d3b;
}
a.list-group-item-warning .list-group-item-heading,
button.list-group-item-warning .list-group-item-heading {
  color: inherit;
}
a.list-group-item-warning:hover,
button.list-group-item-warning:hover,
a.list-group-item-warning:focus,
button.list-group-item-warning:focus {
  color: #8a6d3b;
  background-color: #faf2cc;
}
a.list-group-item-warning.active,
button.list-group-item-warning.active,
a.list-group-item-warning.active:hover,
button.list-group-item-warning.active:hover,
a.list-group-item-warning.active:focus,
button.list-group-item-warning.active:focus {
  color: #fff;
  background-color: #8a6d3b;
  border-color: #8a6d3b;
}
.list-group-item-danger {
  color: #a94442;
  background-color: #f2dede;
}
a.list-group-item-danger,
button.list-group-item-danger {
  color: #a94442;
}
a.list-group-item-danger .list-group-item-heading,
button.list-group-item-danger .list-group-item-heading {
  color: inherit;
}
a.list-group-item-danger:hover,
button.list-group-item-danger:hover,
a.list-group-item-danger:focus,
button.list-group-item-danger:focus {
  color: #a94442;
  background-color: #ebcccc;
}
a.list-group-item-danger.active,
button.list-group-item-danger.active,
a.list-group-item-danger.active:hover,
button.list-group-item-danger.active:hover,
a.list-group-item-danger.active:focus,
button.list-group-item-danger.active:focus {
  color: #fff;
  background-color: #a94442;
  border-color: #a94442;
}
.list-group-item-heading {
  margin-top: 0;
  margin-bottom: 5px;
}
.list-group-item-text {
  margin-bottom: 0;
  line-height: 1.3;
}
.panel {
  margin-bottom: 18px;
  background-color: #fff;
  border: 1px solid transparent;
  border-radius: 2px;
  -webkit-box-shadow: 0 1px 1px rgba(0, 0, 0, 0.05);
  box-shadow: 0 1px 1px rgba(0, 0, 0, 0.05);
}
.panel-body {
  padding: 15px;
}
.panel-heading {
  padding: 10px 15px;
  border-bottom: 1px solid transparent;
  border-top-right-radius: 1px;
  border-top-left-radius: 1px;
}
.panel-heading > .dropdown .dropdown-toggle {
  color: inherit;
}
.panel-title {
  margin-top: 0;
  margin-bottom: 0;
  font-size: 15px;
  color: inherit;
}
.panel-title > a,
.panel-title > small,
.panel-title > .small,
.panel-title > small > a,
.panel-title > .small > a {
  color: inherit;
}
.panel-footer {
  padding: 10px 15px;
  background-color: #f5f5f5;
  border-top: 1px solid #ddd;
  border-bottom-right-radius: 1px;
  border-bottom-left-radius: 1px;
}
.panel > .list-group,
.panel > .panel-collapse > .list-group {
  margin-bottom: 0;
}
.panel > .list-group .list-group-item,
.panel > .panel-collapse > .list-group .list-group-item {
  border-width: 1px 0;
  border-radius: 0;
}
.panel > .list-group:first-child .list-group-item:first-child,
.panel > .panel-collapse > .list-group:first-child .list-group-item:first-child {
  border-top: 0;
  border-top-right-radius: 1px;
  border-top-left-radius: 1px;
}
.panel > .list-group:last-child .list-group-item:last-child,
.panel > .panel-collapse > .list-group:last-child .list-group-item:last-child {
  border-bottom: 0;
  border-bottom-right-radius: 1px;
  border-bottom-left-radius: 1px;
}
.panel > .panel-heading + .panel-collapse > .list-group .list-group-item:first-child {
  border-top-right-radius: 0;
  border-top-left-radius: 0;
}
.panel-heading + .list-group .list-group-item:first-child {
  border-top-width: 0;
}
.list-group + .panel-footer {
  border-top-width: 0;
}
.panel > .table,
.panel > .table-responsive > .table,
.panel > .panel-collapse > .table {
  margin-bottom: 0;
}
.panel > .table caption,
.panel > .table-responsive > .table caption,
.panel > .panel-collapse > .table caption {
  padding-left: 15px;
  padding-right: 15px;
}
.panel > .table:first-child,
.panel > .table-responsive:first-child > .table:first-child {
  border-top-right-radius: 1px;
  border-top-left-radius: 1px;
}
.panel > .table:first-child > thead:first-child > tr:first-child,
.panel > .table-responsive:first-child > .table:first-child > thead:first-child > tr:first-child,
.panel > .table:first-child > tbody:first-child > tr:first-child,
.panel > .table-responsive:first-child > .table:first-child > tbody:first-child > tr:first-child {
  border-top-left-radius: 1px;
  border-top-right-radius: 1px;
}
.panel > .table:first-child > thead:first-child > tr:first-child td:first-child,
.panel > .table-responsive:first-child > .table:first-child > thead:first-child > tr:first-child td:first-child,
.panel > .table:first-child > tbody:first-child > tr:first-child td:first-child,
.panel > .table-responsive:first-child > .table:first-child > tbody:first-child > tr:first-child td:first-child,
.panel > .table:first-child > thead:first-child > tr:first-child th:first-child,
.panel > .table-responsive:first-child > .table:first-child > thead:first-child > tr:first-child th:first-child,
.panel > .table:first-child > tbody:first-child > tr:first-child th:first-child,
.panel > .table-responsive:first-child > .table:first-child > tbody:first-child > tr:first-child th:first-child {
  border-top-left-radius: 1px;
}
.panel > .table:first-child > thead:first-child > tr:first-child td:last-child,
.panel > .table-responsive:first-child > .table:first-child > thead:first-child > tr:first-child td:last-child,
.panel > .table:first-child > tbody:first-child > tr:first-child td:last-child,
.panel > .table-responsive:first-child > .table:first-child > tbody:first-child > tr:first-child td:last-child,
.panel > .table:first-child > thead:first-child > tr:first-child th:last-child,
.panel > .table-responsive:first-child > .table:first-child > thead:first-child > tr:first-child th:last-child,
.panel > .table:first-child > tbody:first-child > tr:first-child th:last-child,
.panel > .table-responsive:first-child > .table:first-child > tbody:first-child > tr:first-child th:last-child {
  border-top-right-radius: 1px;
}
.panel > .table:last-child,
.panel > .table-responsive:last-child > .table:last-child {
  border-bottom-right-radius: 1px;
  border-bottom-left-radius: 1px;
}
.panel > .table:last-child > tbody:last-child > tr:last-child,
.panel > .table-responsive:last-child > .table:last-child > tbody:last-child > tr:last-child,
.panel > .table:last-child > tfoot:last-child > tr:last-child,
.panel > .table-responsive:last-child > .table:last-child > tfoot:last-child > tr:last-child {
  border-bottom-left-radius: 1px;
  border-bottom-right-radius: 1px;
}
.panel > .table:last-child > tbody:last-child > tr:last-child td:first-child,
.panel > .table-responsive:last-child > .table:last-child > tbody:last-child > tr:last-child td:first-child,
.panel > .table:last-child > tfoot:last-child > tr:last-child td:first-child,
.panel > .table-responsive:last-child > .table:last-child > tfoot:last-child > tr:last-child td:first-child,
.panel > .table:last-child > tbody:last-child > tr:last-child th:first-child,
.panel > .table-responsive:last-child > .table:last-child > tbody:last-child > tr:last-child th:first-child,
.panel > .table:last-child > tfoot:last-child > tr:last-child th:first-child,
.panel > .table-responsive:last-child > .table:last-child > tfoot:last-child > tr:last-child th:first-child {
  border-bottom-left-radius: 1px;
}
.panel > .table:last-child > tbody:last-child > tr:last-child td:last-child,
.panel > .table-responsive:last-child > .table:last-child > tbody:last-child > tr:last-child td:last-child,
.panel > .table:last-child > tfoot:last-child > tr:last-child td:last-child,
.panel > .table-responsive:last-child > .table:last-child > tfoot:last-child > tr:last-child td:last-child,
.panel > .table:last-child > tbody:last-child > tr:last-child th:last-child,
.panel > .table-responsive:last-child > .table:last-child > tbody:last-child > tr:last-child th:last-child,
.panel > .table:last-child > tfoot:last-child > tr:last-child th:last-child,
.panel > .table-responsive:last-child > .table:last-child > tfoot:last-child > tr:last-child th:last-child {
  border-bottom-right-radius: 1px;
}
.panel > .panel-body + .table,
.panel > .panel-body + .table-responsive,
.panel > .table + .panel-body,
.panel > .table-responsive + .panel-body {
  border-top: 1px solid #ddd;
}
.panel > .table > tbody:first-child > tr:first-child th,
.panel > .table > tbody:first-child > tr:first-child td {
  border-top: 0;
}
.panel > .table-bordered,
.panel > .table-responsive > .table-bordered {
  border: 0;
}
.panel > .table-bordered > thead > tr > th:first-child,
.panel > .table-responsive > .table-bordered > thead > tr > th:first-child,
.panel > .table-bordered > tbody > tr > th:first-child,
.panel > .table-responsive > .table-bordered > tbody > tr > th:first-child,
.panel > .table-bordered > tfoot > tr > th:first-child,
.panel > .table-responsive > .table-bordered > tfoot > tr > th:first-child,
.panel > .table-bordered > thead > tr > td:first-child,
.panel > .table-responsive > .table-bordered > thead > tr > td:first-child,
.panel > .table-bordered > tbody > tr > td:first-child,
.panel > .table-responsive > .table-bordered > tbody > tr > td:first-child,
.panel > .table-bordered > tfoot > tr > td:first-child,
.panel > .table-responsive > .table-bordered > tfoot > tr > td:first-child {
  border-left: 0;
}
.panel > .table-bordered > thead > tr > th:last-child,
.panel > .table-responsive > .table-bordered > thead > tr > th:last-child,
.panel > .table-bordered > tbody > tr > th:last-child,
.panel > .table-responsive > .table-bordered > tbody > tr > th:last-child,
.panel > .table-bordered > tfoot > tr > th:last-child,
.panel > .table-responsive > .table-bordered > tfoot > tr > th:last-child,
.panel > .table-bordered > thead > tr > td:last-child,
.panel > .table-responsive > .table-bordered > thead > tr > td:last-child,
.panel > .table-bordered > tbody > tr > td:last-child,
.panel > .table-responsive > .table-bordered > tbody > tr > td:last-child,
.panel > .table-bordered > tfoot > tr > td:last-child,
.panel > .table-responsive > .table-bordered > tfoot > tr > td:last-child {
  border-right: 0;
}
.panel > .table-bordered > thead > tr:first-child > td,
.panel > .table-responsive > .table-bordered > thead > tr:first-child > td,
.panel > .table-bordered > tbody > tr:first-child > td,
.panel > .table-responsive > .table-bordered > tbody > tr:first-child > td,
.panel > .table-bordered > thead > tr:first-child > th,
.panel > .table-responsive > .table-bordered > thead > tr:first-child > th,
.panel > .table-bordered > tbody > tr:first-child > th,
.panel > .table-responsive > .table-bordered > tbody > tr:first-child > th {
  border-bottom: 0;
}
.panel > .table-bordered > tbody > tr:last-child > td,
.panel > .table-responsive > .table-bordered > tbody > tr:last-child > td,
.panel > .table-bordered > tfoot > tr:last-child > td,
.panel > .table-responsive > .table-bordered > tfoot > tr:last-child > td,
.panel > .table-bordered > tbody > tr:last-child > th,
.panel > .table-responsive > .table-bordered > tbody > tr:last-child > th,
.panel > .table-bordered > tfoot > tr:last-child > th,
.panel > .table-responsive > .table-bordered > tfoot > tr:last-child > th {
  border-bottom: 0;
}
.panel > .table-responsive {
  border: 0;
  margin-bottom: 0;
}
.panel-group {
  margin-bottom: 18px;
}
.panel-group .panel {
  margin-bottom: 0;
  border-radius: 2px;
}
.panel-group .panel + .panel {
  margin-top: 5px;
}
.panel-group .panel-heading {
  border-bottom: 0;
}
.panel-group .panel-heading + .panel-collapse > .panel-body,
.panel-group .panel-heading + .panel-collapse > .list-group {
  border-top: 1px solid #ddd;
}
.panel-group .panel-footer {
  border-top: 0;
}
.panel-group .panel-footer + .panel-collapse .panel-body {
  border-bottom: 1px solid #ddd;
}
.panel-default {
  border-color: #ddd;
}
.panel-default > .panel-heading {
  color: #333333;
  background-color: #f5f5f5;
  border-color: #ddd;
}
.panel-default > .panel-heading + .panel-collapse > .panel-body {
  border-top-color: #ddd;
}
.panel-default > .panel-heading .badge {
  color: #f5f5f5;
  background-color: #333333;
}
.panel-default > .panel-footer + .panel-collapse > .panel-body {
  border-bottom-color: #ddd;
}
.panel-primary {
  border-color: #337ab7;
}
.panel-primary > .panel-heading {
  color: #fff;
  background-color: #337ab7;
  border-color: #337ab7;
}
.panel-primary > .panel-heading + .panel-collapse > .panel-body {
  border-top-color: #337ab7;
}
.panel-primary > .panel-heading .badge {
  color: #337ab7;
  background-color: #fff;
}
.panel-primary > .panel-footer + .panel-collapse > .panel-body {
  border-bottom-color: #337ab7;
}
.panel-success {
  border-color: #d6e9c6;
}
.panel-success > .panel-heading {
  color: #3c763d;
  background-color: #dff0d8;
  border-color: #d6e9c6;
}
.panel-success > .panel-heading + .panel-collapse > .panel-body {
  border-top-color: #d6e9c6;
}
.panel-success > .panel-heading .badge {
  color: #dff0d8;
  background-color: #3c763d;
}
.panel-success > .panel-footer + .panel-collapse > .panel-body {
  border-bottom-color: #d6e9c6;
}
.panel-info {
  border-color: #bce8f1;
}
.panel-info > .panel-heading {
  color: #31708f;
  background-color: #d9edf7;
  border-color: #bce8f1;
}
.panel-info > .panel-heading + .panel-collapse > .panel-body {
  border-top-color: #bce8f1;
}
.panel-info > .panel-heading .badge {
  color: #d9edf7;
  background-color: #31708f;
}
.panel-info > .panel-footer + .panel-collapse > .panel-body {
  border-bottom-color: #bce8f1;
}
.panel-warning {
  border-color: #faebcc;
}
.panel-warning > .panel-heading {
  color: #8a6d3b;
  background-color: #fcf8e3;
  border-color: #faebcc;
}
.panel-warning > .panel-heading + .panel-collapse > .panel-body {
  border-top-color: #faebcc;
}
.panel-warning > .panel-heading .badge {
  color: #fcf8e3;
  background-color: #8a6d3b;
}
.panel-warning > .panel-footer + .panel-collapse > .panel-body {
  border-bottom-color: #faebcc;
}
.panel-danger {
  border-color: #ebccd1;
}
.panel-danger > .panel-heading {
  color: #a94442;
  background-color: #f2dede;
  border-color: #ebccd1;
}
.panel-danger > .panel-heading + .panel-collapse > .panel-body {
  border-top-color: #ebccd1;
}
.panel-danger > .panel-heading .badge {
  color: #f2dede;
  background-color: #a94442;
}
.panel-danger > .panel-footer + .panel-collapse > .panel-body {
  border-bottom-color: #ebccd1;
}
.embed-responsive {
  position: relative;
  display: block;
  height: 0;
  padding: 0;
  overflow: hidden;
}
.embed-responsive .embed-responsive-item,
.embed-responsive iframe,
.embed-responsive embed,
.embed-responsive object,
.embed-responsive video {
  position: absolute;
  top: 0;
  left: 0;
  bottom: 0;
  height: 100%;
  width: 100%;
  border: 0;
}
.embed-responsive-16by9 {
  padding-bottom: 56.25%;
}
.embed-responsive-4by3 {
  padding-bottom: 75%;
}
.well {
  min-height: 20px;
  padding: 19px;
  margin-bottom: 20px;
  background-color: #f5f5f5;
  border: 1px solid #e3e3e3;
  border-radius: 2px;
  -webkit-box-shadow: inset 0 1px 1px rgba(0, 0, 0, 0.05);
  box-shadow: inset 0 1px 1px rgba(0, 0, 0, 0.05);
}
.well blockquote {
  border-color: #ddd;
  border-color: rgba(0, 0, 0, 0.15);
}
.well-lg {
  padding: 24px;
  border-radius: 3px;
}
.well-sm {
  padding: 9px;
  border-radius: 1px;
}
.close {
  float: right;
  font-size: 19.5px;
  font-weight: bold;
  line-height: 1;
  color: #000;
  text-shadow: 0 1px 0 #fff;
  opacity: 0.2;
  filter: alpha(opacity=20);
}
.close:hover,
.close:focus {
  color: #000;
  text-decoration: none;
  cursor: pointer;
  opacity: 0.5;
  filter: alpha(opacity=50);
}
button.close {
  padding: 0;
  cursor: pointer;
  background: transparent;
  border: 0;
  -webkit-appearance: none;
}
.modal-open {
  overflow: hidden;
}
.modal {
  display: none;
  overflow: hidden;
  position: fixed;
  top: 0;
  right: 0;
  bottom: 0;
  left: 0;
  z-index: 1050;
  -webkit-overflow-scrolling: touch;
  outline: 0;
}
.modal.fade .modal-dialog {
  -webkit-transform: translate(0, -25%);
  -ms-transform: translate(0, -25%);
  -o-transform: translate(0, -25%);
  transform: translate(0, -25%);
  -webkit-transition: -webkit-transform 0.3s ease-out;
  -moz-transition: -moz-transform 0.3s ease-out;
  -o-transition: -o-transform 0.3s ease-out;
  transition: transform 0.3s ease-out;
}
.modal.in .modal-dialog {
  -webkit-transform: translate(0, 0);
  -ms-transform: translate(0, 0);
  -o-transform: translate(0, 0);
  transform: translate(0, 0);
}
.modal-open .modal {
  overflow-x: hidden;
  overflow-y: auto;
}
.modal-dialog {
  position: relative;
  width: auto;
  margin: 10px;
}
.modal-content {
  position: relative;
  background-color: #fff;
  border: 1px solid #999;
  border: 1px solid rgba(0, 0, 0, 0.2);
  border-radius: 3px;
  -webkit-box-shadow: 0 3px 9px rgba(0, 0, 0, 0.5);
  box-shadow: 0 3px 9px rgba(0, 0, 0, 0.5);
  background-clip: padding-box;
  outline: 0;
}
.modal-backdrop {
  position: fixed;
  top: 0;
  right: 0;
  bottom: 0;
  left: 0;
  z-index: 1040;
  background-color: #000;
}
.modal-backdrop.fade {
  opacity: 0;
  filter: alpha(opacity=0);
}
.modal-backdrop.in {
  opacity: 0.5;
  filter: alpha(opacity=50);
}
.modal-header {
  padding: 15px;
  border-bottom: 1px solid #e5e5e5;
}
.modal-header .close {
  margin-top: -2px;
}
.modal-title {
  margin: 0;
  line-height: 1.42857143;
}
.modal-body {
  position: relative;
  padding: 15px;
}
.modal-footer {
  padding: 15px;
  text-align: right;
  border-top: 1px solid #e5e5e5;
}
.modal-footer .btn + .btn {
  margin-left: 5px;
  margin-bottom: 0;
}
.modal-footer .btn-group .btn + .btn {
  margin-left: -1px;
}
.modal-footer .btn-block + .btn-block {
  margin-left: 0;
}
.modal-scrollbar-measure {
  position: absolute;
  top: -9999px;
  width: 50px;
  height: 50px;
  overflow: scroll;
}
@media (min-width: 768px) {
  .modal-dialog {
    width: 600px;
    margin: 30px auto;
  }
  .modal-content {
    -webkit-box-shadow: 0 5px 15px rgba(0, 0, 0, 0.5);
    box-shadow: 0 5px 15px rgba(0, 0, 0, 0.5);
  }
  .modal-sm {
    width: 300px;
  }
}
@media (min-width: 992px) {
  .modal-lg {
    width: 900px;
  }
}
.tooltip {
  position: absolute;
  z-index: 1070;
  display: block;
  font-family: "Helvetica Neue", Helvetica, Arial, sans-serif;
  font-style: normal;
  font-weight: normal;
  letter-spacing: normal;
  line-break: auto;
  line-height: 1.42857143;
  text-align: left;
  text-align: start;
  text-decoration: none;
  text-shadow: none;
  text-transform: none;
  white-space: normal;
  word-break: normal;
  word-spacing: normal;
  word-wrap: normal;
  font-size: 12px;
  opacity: 0;
  filter: alpha(opacity=0);
}
.tooltip.in {
  opacity: 0.9;
  filter: alpha(opacity=90);
}
.tooltip.top {
  margin-top: -3px;
  padding: 5px 0;
}
.tooltip.right {
  margin-left: 3px;
  padding: 0 5px;
}
.tooltip.bottom {
  margin-top: 3px;
  padding: 5px 0;
}
.tooltip.left {
  margin-left: -3px;
  padding: 0 5px;
}
.tooltip-inner {
  max-width: 200px;
  padding: 3px 8px;
  color: #fff;
  text-align: center;
  background-color: #000;
  border-radius: 2px;
}
.tooltip-arrow {
  position: absolute;
  width: 0;
  height: 0;
  border-color: transparent;
  border-style: solid;
}
.tooltip.top .tooltip-arrow {
  bottom: 0;
  left: 50%;
  margin-left: -5px;
  border-width: 5px 5px 0;
  border-top-color: #000;
}
.tooltip.top-left .tooltip-arrow {
  bottom: 0;
  right: 5px;
  margin-bottom: -5px;
  border-width: 5px 5px 0;
  border-top-color: #000;
}
.tooltip.top-right .tooltip-arrow {
  bottom: 0;
  left: 5px;
  margin-bottom: -5px;
  border-width: 5px 5px 0;
  border-top-color: #000;
}
.tooltip.right .tooltip-arrow {
  top: 50%;
  left: 0;
  margin-top: -5px;
  border-width: 5px 5px 5px 0;
  border-right-color: #000;
}
.tooltip.left .tooltip-arrow {
  top: 50%;
  right: 0;
  margin-top: -5px;
  border-width: 5px 0 5px 5px;
  border-left-color: #000;
}
.tooltip.bottom .tooltip-arrow {
  top: 0;
  left: 50%;
  margin-left: -5px;
  border-width: 0 5px 5px;
  border-bottom-color: #000;
}
.tooltip.bottom-left .tooltip-arrow {
  top: 0;
  right: 5px;
  margin-top: -5px;
  border-width: 0 5px 5px;
  border-bottom-color: #000;
}
.tooltip.bottom-right .tooltip-arrow {
  top: 0;
  left: 5px;
  margin-top: -5px;
  border-width: 0 5px 5px;
  border-bottom-color: #000;
}
.popover {
  position: absolute;
  top: 0;
  left: 0;
  z-index: 1060;
  display: none;
  max-width: 276px;
  padding: 1px;
  font-family: "Helvetica Neue", Helvetica, Arial, sans-serif;
  font-style: normal;
  font-weight: normal;
  letter-spacing: normal;
  line-break: auto;
  line-height: 1.42857143;
  text-align: left;
  text-align: start;
  text-decoration: none;
  text-shadow: none;
  text-transform: none;
  white-space: normal;
  word-break: normal;
  word-spacing: normal;
  word-wrap: normal;
  font-size: 13px;
  background-color: #fff;
  background-clip: padding-box;
  border: 1px solid #ccc;
  border: 1px solid rgba(0, 0, 0, 0.2);
  border-radius: 3px;
  -webkit-box-shadow: 0 5px 10px rgba(0, 0, 0, 0.2);
  box-shadow: 0 5px 10px rgba(0, 0, 0, 0.2);
}
.popover.top {
  margin-top: -10px;
}
.popover.right {
  margin-left: 10px;
}
.popover.bottom {
  margin-top: 10px;
}
.popover.left {
  margin-left: -10px;
}
.popover-title {
  margin: 0;
  padding: 8px 14px;
  font-size: 13px;
  background-color: #f7f7f7;
  border-bottom: 1px solid #ebebeb;
  border-radius: 2px 2px 0 0;
}
.popover-content {
  padding: 9px 14px;
}
.popover > .arrow,
.popover > .arrow:after {
  position: absolute;
  display: block;
  width: 0;
  height: 0;
  border-color: transparent;
  border-style: solid;
}
.popover > .arrow {
  border-width: 11px;
}
.popover > .arrow:after {
  border-width: 10px;
  content: "";
}
.popover.top > .arrow {
  left: 50%;
  margin-left: -11px;
  border-bottom-width: 0;
  border-top-color: #999999;
  border-top-color: rgba(0, 0, 0, 0.25);
  bottom: -11px;
}
.popover.top > .arrow:after {
  content: " ";
  bottom: 1px;
  margin-left: -10px;
  border-bottom-width: 0;
  border-top-color: #fff;
}
.popover.right > .arrow {
  top: 50%;
  left: -11px;
  margin-top: -11px;
  border-left-width: 0;
  border-right-color: #999999;
  border-right-color: rgba(0, 0, 0, 0.25);
}
.popover.right > .arrow:after {
  content: " ";
  left: 1px;
  bottom: -10px;
  border-left-width: 0;
  border-right-color: #fff;
}
.popover.bottom > .arrow {
  left: 50%;
  margin-left: -11px;
  border-top-width: 0;
  border-bottom-color: #999999;
  border-bottom-color: rgba(0, 0, 0, 0.25);
  top: -11px;
}
.popover.bottom > .arrow:after {
  content: " ";
  top: 1px;
  margin-left: -10px;
  border-top-width: 0;
  border-bottom-color: #fff;
}
.popover.left > .arrow {
  top: 50%;
  right: -11px;
  margin-top: -11px;
  border-right-width: 0;
  border-left-color: #999999;
  border-left-color: rgba(0, 0, 0, 0.25);
}
.popover.left > .arrow:after {
  content: " ";
  right: 1px;
  border-right-width: 0;
  border-left-color: #fff;
  bottom: -10px;
}
.carousel {
  position: relative;
}
.carousel-inner {
  position: relative;
  overflow: hidden;
  width: 100%;
}
.carousel-inner > .item {
  display: none;
  position: relative;
  -webkit-transition: 0.6s ease-in-out left;
  -o-transition: 0.6s ease-in-out left;
  transition: 0.6s ease-in-out left;
}
.carousel-inner > .item > img,
.carousel-inner > .item > a > img {
  line-height: 1;
}
@media all and (transform-3d), (-webkit-transform-3d) {
  .carousel-inner > .item {
    -webkit-transition: -webkit-transform 0.6s ease-in-out;
    -moz-transition: -moz-transform 0.6s ease-in-out;
    -o-transition: -o-transform 0.6s ease-in-out;
    transition: transform 0.6s ease-in-out;
    -webkit-backface-visibility: hidden;
    -moz-backface-visibility: hidden;
    backface-visibility: hidden;
    -webkit-perspective: 1000px;
    -moz-perspective: 1000px;
    perspective: 1000px;
  }
  .carousel-inner > .item.next,
  .carousel-inner > .item.active.right {
    -webkit-transform: translate3d(100%, 0, 0);
    transform: translate3d(100%, 0, 0);
    left: 0;
  }
  .carousel-inner > .item.prev,
  .carousel-inner > .item.active.left {
    -webkit-transform: translate3d(-100%, 0, 0);
    transform: translate3d(-100%, 0, 0);
    left: 0;
  }
  .carousel-inner > .item.next.left,
  .carousel-inner > .item.prev.right,
  .carousel-inner > .item.active {
    -webkit-transform: translate3d(0, 0, 0);
    transform: translate3d(0, 0, 0);
    left: 0;
  }
}
.carousel-inner > .active,
.carousel-inner > .next,
.carousel-inner > .prev {
  display: block;
}
.carousel-inner > .active {
  left: 0;
}
.carousel-inner > .next,
.carousel-inner > .prev {
  position: absolute;
  top: 0;
  width: 100%;
}
.carousel-inner > .next {
  left: 100%;
}
.carousel-inner > .prev {
  left: -100%;
}
.carousel-inner > .next.left,
.carousel-inner > .prev.right {
  left: 0;
}
.carousel-inner > .active.left {
  left: -100%;
}
.carousel-inner > .active.right {
  left: 100%;
}
.carousel-control {
  position: absolute;
  top: 0;
  left: 0;
  bottom: 0;
  width: 15%;
  opacity: 0.5;
  filter: alpha(opacity=50);
  font-size: 20px;
  color: #fff;
  text-align: center;
  text-shadow: 0 1px 2px rgba(0, 0, 0, 0.6);
  background-color: rgba(0, 0, 0, 0);
}
.carousel-control.left {
  background-image: -webkit-linear-gradient(left, rgba(0, 0, 0, 0.5) 0%, rgba(0, 0, 0, 0.0001) 100%);
  background-image: -o-linear-gradient(left, rgba(0, 0, 0, 0.5) 0%, rgba(0, 0, 0, 0.0001) 100%);
  background-image: linear-gradient(to right, rgba(0, 0, 0, 0.5) 0%, rgba(0, 0, 0, 0.0001) 100%);
  background-repeat: repeat-x;
  filter: progid:DXImageTransform.Microsoft.gradient(startColorstr='#80000000', endColorstr='#00000000', GradientType=1);
}
.carousel-control.right {
  left: auto;
  right: 0;
  background-image: -webkit-linear-gradient(left, rgba(0, 0, 0, 0.0001) 0%, rgba(0, 0, 0, 0.5) 100%);
  background-image: -o-linear-gradient(left, rgba(0, 0, 0, 0.0001) 0%, rgba(0, 0, 0, 0.5) 100%);
  background-image: linear-gradient(to right, rgba(0, 0, 0, 0.0001) 0%, rgba(0, 0, 0, 0.5) 100%);
  background-repeat: repeat-x;
  filter: progid:DXImageTransform.Microsoft.gradient(startColorstr='#00000000', endColorstr='#80000000', GradientType=1);
}
.carousel-control:hover,
.carousel-control:focus {
  outline: 0;
  color: #fff;
  text-decoration: none;
  opacity: 0.9;
  filter: alpha(opacity=90);
}
.carousel-control .icon-prev,
.carousel-control .icon-next,
.carousel-control .glyphicon-chevron-left,
.carousel-control .glyphicon-chevron-right {
  position: absolute;
  top: 50%;
  margin-top: -10px;
  z-index: 5;
  display: inline-block;
}
.carousel-control .icon-prev,
.carousel-control .glyphicon-chevron-left {
  left: 50%;
  margin-left: -10px;
}
.carousel-control .icon-next,
.carousel-control .glyphicon-chevron-right {
  right: 50%;
  margin-right: -10px;
}
.carousel-control .icon-prev,
.carousel-control .icon-next {
  width: 20px;
  height: 20px;
  line-height: 1;
  font-family: serif;
}
.carousel-control .icon-prev:before {
  content: '\2039';
}
.carousel-control .icon-next:before {
  content: '\203a';
}
.carousel-indicators {
  position: absolute;
  bottom: 10px;
  left: 50%;
  z-index: 15;
  width: 60%;
  margin-left: -30%;
  padding-left: 0;
  list-style: none;
  text-align: center;
}
.carousel-indicators li {
  display: inline-block;
  width: 10px;
  height: 10px;
  margin: 1px;
  text-indent: -999px;
  border: 1px solid #fff;
  border-radius: 10px;
  cursor: pointer;
  background-color: #000 \9;
  background-color: rgba(0, 0, 0, 0);
}
.carousel-indicators .active {
  margin: 0;
  width: 12px;
  height: 12px;
  background-color: #fff;
}
.carousel-caption {
  position: absolute;
  left: 15%;
  right: 15%;
  bottom: 20px;
  z-index: 10;
  padding-top: 20px;
  padding-bottom: 20px;
  color: #fff;
  text-align: center;
  text-shadow: 0 1px 2px rgba(0, 0, 0, 0.6);
}
.carousel-caption .btn {
  text-shadow: none;
}
@media screen and (min-width: 768px) {
  .carousel-control .glyphicon-chevron-left,
  .carousel-control .glyphicon-chevron-right,
  .carousel-control .icon-prev,
  .carousel-control .icon-next {
    width: 30px;
    height: 30px;
    margin-top: -10px;
    font-size: 30px;
  }
  .carousel-control .glyphicon-chevron-left,
  .carousel-control .icon-prev {
    margin-left: -10px;
  }
  .carousel-control .glyphicon-chevron-right,
  .carousel-control .icon-next {
    margin-right: -10px;
  }
  .carousel-caption {
    left: 20%;
    right: 20%;
    padding-bottom: 30px;
  }
  .carousel-indicators {
    bottom: 20px;
  }
}
.clearfix:before,
.clearfix:after,
.dl-horizontal dd:before,
.dl-horizontal dd:after,
.container:before,
.container:after,
.container-fluid:before,
.container-fluid:after,
.row:before,
.row:after,
.form-horizontal .form-group:before,
.form-horizontal .form-group:after,
.btn-toolbar:before,
.btn-toolbar:after,
.btn-group-vertical > .btn-group:before,
.btn-group-vertical > .btn-group:after,
.nav:before,
.nav:after,
.navbar:before,
.navbar:after,
.navbar-header:before,
.navbar-header:after,
.navbar-collapse:before,
.navbar-collapse:after,
.pager:before,
.pager:after,
.panel-body:before,
.panel-body:after,
.modal-header:before,
.modal-header:after,
.modal-footer:before,
.modal-footer:after,
.item_buttons:before,
.item_buttons:after {
  content: " ";
  display: table;
}
.clearfix:after,
.dl-horizontal dd:after,
.container:after,
.container-fluid:after,
.row:after,
.form-horizontal .form-group:after,
.btn-toolbar:after,
.btn-group-vertical > .btn-group:after,
.nav:after,
.navbar:after,
.navbar-header:after,
.navbar-collapse:after,
.pager:after,
.panel-body:after,
.modal-header:after,
.modal-footer:after,
.item_buttons:after {
  clear: both;
}
.center-block {
  display: block;
  margin-left: auto;
  margin-right: auto;
}
.pull-right {
  float: right !important;
}
.pull-left {
  float: left !important;
}
.hide {
  display: none !important;
}
.show {
  display: block !important;
}
.invisible {
  visibility: hidden;
}
.text-hide {
  font: 0/0 a;
  color: transparent;
  text-shadow: none;
  background-color: transparent;
  border: 0;
}
.hidden {
  display: none !important;
}
.affix {
  position: fixed;
}
@-ms-viewport {
  width: device-width;
}
.visible-xs,
.visible-sm,
.visible-md,
.visible-lg {
  display: none !important;
}
.visible-xs-block,
.visible-xs-inline,
.visible-xs-inline-block,
.visible-sm-block,
.visible-sm-inline,
.visible-sm-inline-block,
.visible-md-block,
.visible-md-inline,
.visible-md-inline-block,
.visible-lg-block,
.visible-lg-inline,
.visible-lg-inline-block {
  display: none !important;
}
@media (max-width: 767px) {
  .visible-xs {
    display: block !important;
  }
  table.visible-xs {
    display: table !important;
  }
  tr.visible-xs {
    display: table-row !important;
  }
  th.visible-xs,
  td.visible-xs {
    display: table-cell !important;
  }
}
@media (max-width: 767px) {
  .visible-xs-block {
    display: block !important;
  }
}
@media (max-width: 767px) {
  .visible-xs-inline {
    display: inline !important;
  }
}
@media (max-width: 767px) {
  .visible-xs-inline-block {
    display: inline-block !important;
  }
}
@media (min-width: 768px) and (max-width: 991px) {
  .visible-sm {
    display: block !important;
  }
  table.visible-sm {
    display: table !important;
  }
  tr.visible-sm {
    display: table-row !important;
  }
  th.visible-sm,
  td.visible-sm {
    display: table-cell !important;
  }
}
@media (min-width: 768px) and (max-width: 991px) {
  .visible-sm-block {
    display: block !important;
  }
}
@media (min-width: 768px) and (max-width: 991px) {
  .visible-sm-inline {
    display: inline !important;
  }
}
@media (min-width: 768px) and (max-width: 991px) {
  .visible-sm-inline-block {
    display: inline-block !important;
  }
}
@media (min-width: 992px) and (max-width: 1199px) {
  .visible-md {
    display: block !important;
  }
  table.visible-md {
    display: table !important;
  }
  tr.visible-md {
    display: table-row !important;
  }
  th.visible-md,
  td.visible-md {
    display: table-cell !important;
  }
}
@media (min-width: 992px) and (max-width: 1199px) {
  .visible-md-block {
    display: block !important;
  }
}
@media (min-width: 992px) and (max-width: 1199px) {
  .visible-md-inline {
    display: inline !important;
  }
}
@media (min-width: 992px) and (max-width: 1199px) {
  .visible-md-inline-block {
    display: inline-block !important;
  }
}
@media (min-width: 1200px) {
  .visible-lg {
    display: block !important;
  }
  table.visible-lg {
    display: table !important;
  }
  tr.visible-lg {
    display: table-row !important;
  }
  th.visible-lg,
  td.visible-lg {
    display: table-cell !important;
  }
}
@media (min-width: 1200px) {
  .visible-lg-block {
    display: block !important;
  }
}
@media (min-width: 1200px) {
  .visible-lg-inline {
    display: inline !important;
  }
}
@media (min-width: 1200px) {
  .visible-lg-inline-block {
    display: inline-block !important;
  }
}
@media (max-width: 767px) {
  .hidden-xs {
    display: none !important;
  }
}
@media (min-width: 768px) and (max-width: 991px) {
  .hidden-sm {
    display: none !important;
  }
}
@media (min-width: 992px) and (max-width: 1199px) {
  .hidden-md {
    display: none !important;
  }
}
@media (min-width: 1200px) {
  .hidden-lg {
    display: none !important;
  }
}
.visible-print {
  display: none !important;
}
@media print {
  .visible-print {
    display: block !important;
  }
  table.visible-print {
    display: table !important;
  }
  tr.visible-print {
    display: table-row !important;
  }
  th.visible-print,
  td.visible-print {
    display: table-cell !important;
  }
}
.visible-print-block {
  display: none !important;
}
@media print {
  .visible-print-block {
    display: block !important;
  }
}
.visible-print-inline {
  display: none !important;
}
@media print {
  .visible-print-inline {
    display: inline !important;
  }
}
.visible-print-inline-block {
  display: none !important;
}
@media print {
  .visible-print-inline-block {
    display: inline-block !important;
  }
}
@media print {
  .hidden-print {
    display: none !important;
  }
}
/*!
*
* Font Awesome
*
*/
/*!
 *  Font Awesome 4.7.0 by @davegandy - http://fontawesome.io - @fontawesome
 *  License - http://fontawesome.io/license (Font: SIL OFL 1.1, CSS: MIT License)
 */
/* FONT PATH
 * -------------------------- */
@font-face {
  font-family: 'FontAwesome';
  src: url('../components/font-awesome/fonts/fontawesome-webfont.eot?v=4.7.0');
  src: url('../components/font-awesome/fonts/fontawesome-webfont.eot?#iefix&v=4.7.0') format('embedded-opentype'), url('../components/font-awesome/fonts/fontawesome-webfont.woff2?v=4.7.0') format('woff2'), url('../components/font-awesome/fonts/fontawesome-webfont.woff?v=4.7.0') format('woff'), url('../components/font-awesome/fonts/fontawesome-webfont.ttf?v=4.7.0') format('truetype'), url('../components/font-awesome/fonts/fontawesome-webfont.svg?v=4.7.0#fontawesomeregular') format('svg');
  font-weight: normal;
  font-style: normal;
}
.fa {
  display: inline-block;
  font: normal normal normal 14px/1 FontAwesome;
  font-size: inherit;
  text-rendering: auto;
  -webkit-font-smoothing: antialiased;
  -moz-osx-font-smoothing: grayscale;
}
/* makes the font 33% larger relative to the icon container */
.fa-lg {
  font-size: 1.33333333em;
  line-height: 0.75em;
  vertical-align: -15%;
}
.fa-2x {
  font-size: 2em;
}
.fa-3x {
  font-size: 3em;
}
.fa-4x {
  font-size: 4em;
}
.fa-5x {
  font-size: 5em;
}
.fa-fw {
  width: 1.28571429em;
  text-align: center;
}
.fa-ul {
  padding-left: 0;
  margin-left: 2.14285714em;
  list-style-type: none;
}
.fa-ul > li {
  position: relative;
}
.fa-li {
  position: absolute;
  left: -2.14285714em;
  width: 2.14285714em;
  top: 0.14285714em;
  text-align: center;
}
.fa-li.fa-lg {
  left: -1.85714286em;
}
.fa-border {
  padding: .2em .25em .15em;
  border: solid 0.08em #eee;
  border-radius: .1em;
}
.fa-pull-left {
  float: left;
}
.fa-pull-right {
  float: right;
}
.fa.fa-pull-left {
  margin-right: .3em;
}
.fa.fa-pull-right {
  margin-left: .3em;
}
/* Deprecated as of 4.4.0 */
.pull-right {
  float: right;
}
.pull-left {
  float: left;
}
.fa.pull-left {
  margin-right: .3em;
}
.fa.pull-right {
  margin-left: .3em;
}
.fa-spin {
  -webkit-animation: fa-spin 2s infinite linear;
  animation: fa-spin 2s infinite linear;
}
.fa-pulse {
  -webkit-animation: fa-spin 1s infinite steps(8);
  animation: fa-spin 1s infinite steps(8);
}
@-webkit-keyframes fa-spin {
  0% {
    -webkit-transform: rotate(0deg);
    transform: rotate(0deg);
  }
  100% {
    -webkit-transform: rotate(359deg);
    transform: rotate(359deg);
  }
}
@keyframes fa-spin {
  0% {
    -webkit-transform: rotate(0deg);
    transform: rotate(0deg);
  }
  100% {
    -webkit-transform: rotate(359deg);
    transform: rotate(359deg);
  }
}
.fa-rotate-90 {
  -ms-filter: "progid:DXImageTransform.Microsoft.BasicImage(rotation=1)";
  -webkit-transform: rotate(90deg);
  -ms-transform: rotate(90deg);
  transform: rotate(90deg);
}
.fa-rotate-180 {
  -ms-filter: "progid:DXImageTransform.Microsoft.BasicImage(rotation=2)";
  -webkit-transform: rotate(180deg);
  -ms-transform: rotate(180deg);
  transform: rotate(180deg);
}
.fa-rotate-270 {
  -ms-filter: "progid:DXImageTransform.Microsoft.BasicImage(rotation=3)";
  -webkit-transform: rotate(270deg);
  -ms-transform: rotate(270deg);
  transform: rotate(270deg);
}
.fa-flip-horizontal {
  -ms-filter: "progid:DXImageTransform.Microsoft.BasicImage(rotation=0, mirror=1)";
  -webkit-transform: scale(-1, 1);
  -ms-transform: scale(-1, 1);
  transform: scale(-1, 1);
}
.fa-flip-vertical {
  -ms-filter: "progid:DXImageTransform.Microsoft.BasicImage(rotation=2, mirror=1)";
  -webkit-transform: scale(1, -1);
  -ms-transform: scale(1, -1);
  transform: scale(1, -1);
}
:root .fa-rotate-90,
:root .fa-rotate-180,
:root .fa-rotate-270,
:root .fa-flip-horizontal,
:root .fa-flip-vertical {
  filter: none;
}
.fa-stack {
  position: relative;
  display: inline-block;
  width: 2em;
  height: 2em;
  line-height: 2em;
  vertical-align: middle;
}
.fa-stack-1x,
.fa-stack-2x {
  position: absolute;
  left: 0;
  width: 100%;
  text-align: center;
}
.fa-stack-1x {
  line-height: inherit;
}
.fa-stack-2x {
  font-size: 2em;
}
.fa-inverse {
  color: #fff;
}
/* Font Awesome uses the Unicode Private Use Area (PUA) to ensure screen
   readers do not read off random characters that represent icons */
.fa-glass:before {
  content: "\f000";
}
.fa-music:before {
  content: "\f001";
}
.fa-search:before {
  content: "\f002";
}
.fa-envelope-o:before {
  content: "\f003";
}
.fa-heart:before {
  content: "\f004";
}
.fa-star:before {
  content: "\f005";
}
.fa-star-o:before {
  content: "\f006";
}
.fa-user:before {
  content: "\f007";
}
.fa-film:before {
  content: "\f008";
}
.fa-th-large:before {
  content: "\f009";
}
.fa-th:before {
  content: "\f00a";
}
.fa-th-list:before {
  content: "\f00b";
}
.fa-check:before {
  content: "\f00c";
}
.fa-remove:before,
.fa-close:before,
.fa-times:before {
  content: "\f00d";
}
.fa-search-plus:before {
  content: "\f00e";
}
.fa-search-minus:before {
  content: "\f010";
}
.fa-power-off:before {
  content: "\f011";
}
.fa-signal:before {
  content: "\f012";
}
.fa-gear:before,
.fa-cog:before {
  content: "\f013";
}
.fa-trash-o:before {
  content: "\f014";
}
.fa-home:before {
  content: "\f015";
}
.fa-file-o:before {
  content: "\f016";
}
.fa-clock-o:before {
  content: "\f017";
}
.fa-road:before {
  content: "\f018";
}
.fa-download:before {
  content: "\f019";
}
.fa-arrow-circle-o-down:before {
  content: "\f01a";
}
.fa-arrow-circle-o-up:before {
  content: "\f01b";
}
.fa-inbox:before {
  content: "\f01c";
}
.fa-play-circle-o:before {
  content: "\f01d";
}
.fa-rotate-right:before,
.fa-repeat:before {
  content: "\f01e";
}
.fa-refresh:before {
  content: "\f021";
}
.fa-list-alt:before {
  content: "\f022";
}
.fa-lock:before {
  content: "\f023";
}
.fa-flag:before {
  content: "\f024";
}
.fa-headphones:before {
  content: "\f025";
}
.fa-volume-off:before {
  content: "\f026";
}
.fa-volume-down:before {
  content: "\f027";
}
.fa-volume-up:before {
  content: "\f028";
}
.fa-qrcode:before {
  content: "\f029";
}
.fa-barcode:before {
  content: "\f02a";
}
.fa-tag:before {
  content: "\f02b";
}
.fa-tags:before {
  content: "\f02c";
}
.fa-book:before {
  content: "\f02d";
}
.fa-bookmark:before {
  content: "\f02e";
}
.fa-print:before {
  content: "\f02f";
}
.fa-camera:before {
  content: "\f030";
}
.fa-font:before {
  content: "\f031";
}
.fa-bold:before {
  content: "\f032";
}
.fa-italic:before {
  content: "\f033";
}
.fa-text-height:before {
  content: "\f034";
}
.fa-text-width:before {
  content: "\f035";
}
.fa-align-left:before {
  content: "\f036";
}
.fa-align-center:before {
  content: "\f037";
}
.fa-align-right:before {
  content: "\f038";
}
.fa-align-justify:before {
  content: "\f039";
}
.fa-list:before {
  content: "\f03a";
}
.fa-dedent:before,
.fa-outdent:before {
  content: "\f03b";
}
.fa-indent:before {
  content: "\f03c";
}
.fa-video-camera:before {
  content: "\f03d";
}
.fa-photo:before,
.fa-image:before,
.fa-picture-o:before {
  content: "\f03e";
}
.fa-pencil:before {
  content: "\f040";
}
.fa-map-marker:before {
  content: "\f041";
}
.fa-adjust:before {
  content: "\f042";
}
.fa-tint:before {
  content: "\f043";
}
.fa-edit:before,
.fa-pencil-square-o:before {
  content: "\f044";
}
.fa-share-square-o:before {
  content: "\f045";
}
.fa-check-square-o:before {
  content: "\f046";
}
.fa-arrows:before {
  content: "\f047";
}
.fa-step-backward:before {
  content: "\f048";
}
.fa-fast-backward:before {
  content: "\f049";
}
.fa-backward:before {
  content: "\f04a";
}
.fa-play:before {
  content: "\f04b";
}
.fa-pause:before {
  content: "\f04c";
}
.fa-stop:before {
  content: "\f04d";
}
.fa-forward:before {
  content: "\f04e";
}
.fa-fast-forward:before {
  content: "\f050";
}
.fa-step-forward:before {
  content: "\f051";
}
.fa-eject:before {
  content: "\f052";
}
.fa-chevron-left:before {
  content: "\f053";
}
.fa-chevron-right:before {
  content: "\f054";
}
.fa-plus-circle:before {
  content: "\f055";
}
.fa-minus-circle:before {
  content: "\f056";
}
.fa-times-circle:before {
  content: "\f057";
}
.fa-check-circle:before {
  content: "\f058";
}
.fa-question-circle:before {
  content: "\f059";
}
.fa-info-circle:before {
  content: "\f05a";
}
.fa-crosshairs:before {
  content: "\f05b";
}
.fa-times-circle-o:before {
  content: "\f05c";
}
.fa-check-circle-o:before {
  content: "\f05d";
}
.fa-ban:before {
  content: "\f05e";
}
.fa-arrow-left:before {
  content: "\f060";
}
.fa-arrow-right:before {
  content: "\f061";
}
.fa-arrow-up:before {
  content: "\f062";
}
.fa-arrow-down:before {
  content: "\f063";
}
.fa-mail-forward:before,
.fa-share:before {
  content: "\f064";
}
.fa-expand:before {
  content: "\f065";
}
.fa-compress:before {
  content: "\f066";
}
.fa-plus:before {
  content: "\f067";
}
.fa-minus:before {
  content: "\f068";
}
.fa-asterisk:before {
  content: "\f069";
}
.fa-exclamation-circle:before {
  content: "\f06a";
}
.fa-gift:before {
  content: "\f06b";
}
.fa-leaf:before {
  content: "\f06c";
}
.fa-fire:before {
  content: "\f06d";
}
.fa-eye:before {
  content: "\f06e";
}
.fa-eye-slash:before {
  content: "\f070";
}
.fa-warning:before,
.fa-exclamation-triangle:before {
  content: "\f071";
}
.fa-plane:before {
  content: "\f072";
}
.fa-calendar:before {
  content: "\f073";
}
.fa-random:before {
  content: "\f074";
}
.fa-comment:before {
  content: "\f075";
}
.fa-magnet:before {
  content: "\f076";
}
.fa-chevron-up:before {
  content: "\f077";
}
.fa-chevron-down:before {
  content: "\f078";
}
.fa-retweet:before {
  content: "\f079";
}
.fa-shopping-cart:before {
  content: "\f07a";
}
.fa-folder:before {
  content: "\f07b";
}
.fa-folder-open:before {
  content: "\f07c";
}
.fa-arrows-v:before {
  content: "\f07d";
}
.fa-arrows-h:before {
  content: "\f07e";
}
.fa-bar-chart-o:before,
.fa-bar-chart:before {
  content: "\f080";
}
.fa-twitter-square:before {
  content: "\f081";
}
.fa-facebook-square:before {
  content: "\f082";
}
.fa-camera-retro:before {
  content: "\f083";
}
.fa-key:before {
  content: "\f084";
}
.fa-gears:before,
.fa-cogs:before {
  content: "\f085";
}
.fa-comments:before {
  content: "\f086";
}
.fa-thumbs-o-up:before {
  content: "\f087";
}
.fa-thumbs-o-down:before {
  content: "\f088";
}
.fa-star-half:before {
  content: "\f089";
}
.fa-heart-o:before {
  content: "\f08a";
}
.fa-sign-out:before {
  content: "\f08b";
}
.fa-linkedin-square:before {
  content: "\f08c";
}
.fa-thumb-tack:before {
  content: "\f08d";
}
.fa-external-link:before {
  content: "\f08e";
}
.fa-sign-in:before {
  content: "\f090";
}
.fa-trophy:before {
  content: "\f091";
}
.fa-github-square:before {
  content: "\f092";
}
.fa-upload:before {
  content: "\f093";
}
.fa-lemon-o:before {
  content: "\f094";
}
.fa-phone:before {
  content: "\f095";
}
.fa-square-o:before {
  content: "\f096";
}
.fa-bookmark-o:before {
  content: "\f097";
}
.fa-phone-square:before {
  content: "\f098";
}
.fa-twitter:before {
  content: "\f099";
}
.fa-facebook-f:before,
.fa-facebook:before {
  content: "\f09a";
}
.fa-github:before {
  content: "\f09b";
}
.fa-unlock:before {
  content: "\f09c";
}
.fa-credit-card:before {
  content: "\f09d";
}
.fa-feed:before,
.fa-rss:before {
  content: "\f09e";
}
.fa-hdd-o:before {
  content: "\f0a0";
}
.fa-bullhorn:before {
  content: "\f0a1";
}
.fa-bell:before {
  content: "\f0f3";
}
.fa-certificate:before {
  content: "\f0a3";
}
.fa-hand-o-right:before {
  content: "\f0a4";
}
.fa-hand-o-left:before {
  content: "\f0a5";
}
.fa-hand-o-up:before {
  content: "\f0a6";
}
.fa-hand-o-down:before {
  content: "\f0a7";
}
.fa-arrow-circle-left:before {
  content: "\f0a8";
}
.fa-arrow-circle-right:before {
  content: "\f0a9";
}
.fa-arrow-circle-up:before {
  content: "\f0aa";
}
.fa-arrow-circle-down:before {
  content: "\f0ab";
}
.fa-globe:before {
  content: "\f0ac";
}
.fa-wrench:before {
  content: "\f0ad";
}
.fa-tasks:before {
  content: "\f0ae";
}
.fa-filter:before {
  content: "\f0b0";
}
.fa-briefcase:before {
  content: "\f0b1";
}
.fa-arrows-alt:before {
  content: "\f0b2";
}
.fa-group:before,
.fa-users:before {
  content: "\f0c0";
}
.fa-chain:before,
.fa-link:before {
  content: "\f0c1";
}
.fa-cloud:before {
  content: "\f0c2";
}
.fa-flask:before {
  content: "\f0c3";
}
.fa-cut:before,
.fa-scissors:before {
  content: "\f0c4";
}
.fa-copy:before,
.fa-files-o:before {
  content: "\f0c5";
}
.fa-paperclip:before {
  content: "\f0c6";
}
.fa-save:before,
.fa-floppy-o:before {
  content: "\f0c7";
}
.fa-square:before {
  content: "\f0c8";
}
.fa-navicon:before,
.fa-reorder:before,
.fa-bars:before {
  content: "\f0c9";
}
.fa-list-ul:before {
  content: "\f0ca";
}
.fa-list-ol:before {
  content: "\f0cb";
}
.fa-strikethrough:before {
  content: "\f0cc";
}
.fa-underline:before {
  content: "\f0cd";
}
.fa-table:before {
  content: "\f0ce";
}
.fa-magic:before {
  content: "\f0d0";
}
.fa-truck:before {
  content: "\f0d1";
}
.fa-pinterest:before {
  content: "\f0d2";
}
.fa-pinterest-square:before {
  content: "\f0d3";
}
.fa-google-plus-square:before {
  content: "\f0d4";
}
.fa-google-plus:before {
  content: "\f0d5";
}
.fa-money:before {
  content: "\f0d6";
}
.fa-caret-down:before {
  content: "\f0d7";
}
.fa-caret-up:before {
  content: "\f0d8";
}
.fa-caret-left:before {
  content: "\f0d9";
}
.fa-caret-right:before {
  content: "\f0da";
}
.fa-columns:before {
  content: "\f0db";
}
.fa-unsorted:before,
.fa-sort:before {
  content: "\f0dc";
}
.fa-sort-down:before,
.fa-sort-desc:before {
  content: "\f0dd";
}
.fa-sort-up:before,
.fa-sort-asc:before {
  content: "\f0de";
}
.fa-envelope:before {
  content: "\f0e0";
}
.fa-linkedin:before {
  content: "\f0e1";
}
.fa-rotate-left:before,
.fa-undo:before {
  content: "\f0e2";
}
.fa-legal:before,
.fa-gavel:before {
  content: "\f0e3";
}
.fa-dashboard:before,
.fa-tachometer:before {
  content: "\f0e4";
}
.fa-comment-o:before {
  content: "\f0e5";
}
.fa-comments-o:before {
  content: "\f0e6";
}
.fa-flash:before,
.fa-bolt:before {
  content: "\f0e7";
}
.fa-sitemap:before {
  content: "\f0e8";
}
.fa-umbrella:before {
  content: "\f0e9";
}
.fa-paste:before,
.fa-clipboard:before {
  content: "\f0ea";
}
.fa-lightbulb-o:before {
  content: "\f0eb";
}
.fa-exchange:before {
  content: "\f0ec";
}
.fa-cloud-download:before {
  content: "\f0ed";
}
.fa-cloud-upload:before {
  content: "\f0ee";
}
.fa-user-md:before {
  content: "\f0f0";
}
.fa-stethoscope:before {
  content: "\f0f1";
}
.fa-suitcase:before {
  content: "\f0f2";
}
.fa-bell-o:before {
  content: "\f0a2";
}
.fa-coffee:before {
  content: "\f0f4";
}
.fa-cutlery:before {
  content: "\f0f5";
}
.fa-file-text-o:before {
  content: "\f0f6";
}
.fa-building-o:before {
  content: "\f0f7";
}
.fa-hospital-o:before {
  content: "\f0f8";
}
.fa-ambulance:before {
  content: "\f0f9";
}
.fa-medkit:before {
  content: "\f0fa";
}
.fa-fighter-jet:before {
  content: "\f0fb";
}
.fa-beer:before {
  content: "\f0fc";
}
.fa-h-square:before {
  content: "\f0fd";
}
.fa-plus-square:before {
  content: "\f0fe";
}
.fa-angle-double-left:before {
  content: "\f100";
}
.fa-angle-double-right:before {
  content: "\f101";
}
.fa-angle-double-up:before {
  content: "\f102";
}
.fa-angle-double-down:before {
  content: "\f103";
}
.fa-angle-left:before {
  content: "\f104";
}
.fa-angle-right:before {
  content: "\f105";
}
.fa-angle-up:before {
  content: "\f106";
}
.fa-angle-down:before {
  content: "\f107";
}
.fa-desktop:before {
  content: "\f108";
}
.fa-laptop:before {
  content: "\f109";
}
.fa-tablet:before {
  content: "\f10a";
}
.fa-mobile-phone:before,
.fa-mobile:before {
  content: "\f10b";
}
.fa-circle-o:before {
  content: "\f10c";
}
.fa-quote-left:before {
  content: "\f10d";
}
.fa-quote-right:before {
  content: "\f10e";
}
.fa-spinner:before {
  content: "\f110";
}
.fa-circle:before {
  content: "\f111";
}
.fa-mail-reply:before,
.fa-reply:before {
  content: "\f112";
}
.fa-github-alt:before {
  content: "\f113";
}
.fa-folder-o:before {
  content: "\f114";
}
.fa-folder-open-o:before {
  content: "\f115";
}
.fa-smile-o:before {
  content: "\f118";
}
.fa-frown-o:before {
  content: "\f119";
}
.fa-meh-o:before {
  content: "\f11a";
}
.fa-gamepad:before {
  content: "\f11b";
}
.fa-keyboard-o:before {
  content: "\f11c";
}
.fa-flag-o:before {
  content: "\f11d";
}
.fa-flag-checkered:before {
  content: "\f11e";
}
.fa-terminal:before {
  content: "\f120";
}
.fa-code:before {
  content: "\f121";
}
.fa-mail-reply-all:before,
.fa-reply-all:before {
  content: "\f122";
}
.fa-star-half-empty:before,
.fa-star-half-full:before,
.fa-star-half-o:before {
  content: "\f123";
}
.fa-location-arrow:before {
  content: "\f124";
}
.fa-crop:before {
  content: "\f125";
}
.fa-code-fork:before {
  content: "\f126";
}
.fa-unlink:before,
.fa-chain-broken:before {
  content: "\f127";
}
.fa-question:before {
  content: "\f128";
}
.fa-info:before {
  content: "\f129";
}
.fa-exclamation:before {
  content: "\f12a";
}
.fa-superscript:before {
  content: "\f12b";
}
.fa-subscript:before {
  content: "\f12c";
}
.fa-eraser:before {
  content: "\f12d";
}
.fa-puzzle-piece:before {
  content: "\f12e";
}
.fa-microphone:before {
  content: "\f130";
}
.fa-microphone-slash:before {
  content: "\f131";
}
.fa-shield:before {
  content: "\f132";
}
.fa-calendar-o:before {
  content: "\f133";
}
.fa-fire-extinguisher:before {
  content: "\f134";
}
.fa-rocket:before {
  content: "\f135";
}
.fa-maxcdn:before {
  content: "\f136";
}
.fa-chevron-circle-left:before {
  content: "\f137";
}
.fa-chevron-circle-right:before {
  content: "\f138";
}
.fa-chevron-circle-up:before {
  content: "\f139";
}
.fa-chevron-circle-down:before {
  content: "\f13a";
}
.fa-html5:before {
  content: "\f13b";
}
.fa-css3:before {
  content: "\f13c";
}
.fa-anchor:before {
  content: "\f13d";
}
.fa-unlock-alt:before {
  content: "\f13e";
}
.fa-bullseye:before {
  content: "\f140";
}
.fa-ellipsis-h:before {
  content: "\f141";
}
.fa-ellipsis-v:before {
  content: "\f142";
}
.fa-rss-square:before {
  content: "\f143";
}
.fa-play-circle:before {
  content: "\f144";
}
.fa-ticket:before {
  content: "\f145";
}
.fa-minus-square:before {
  content: "\f146";
}
.fa-minus-square-o:before {
  content: "\f147";
}
.fa-level-up:before {
  content: "\f148";
}
.fa-level-down:before {
  content: "\f149";
}
.fa-check-square:before {
  content: "\f14a";
}
.fa-pencil-square:before {
  content: "\f14b";
}
.fa-external-link-square:before {
  content: "\f14c";
}
.fa-share-square:before {
  content: "\f14d";
}
.fa-compass:before {
  content: "\f14e";
}
.fa-toggle-down:before,
.fa-caret-square-o-down:before {
  content: "\f150";
}
.fa-toggle-up:before,
.fa-caret-square-o-up:before {
  content: "\f151";
}
.fa-toggle-right:before,
.fa-caret-square-o-right:before {
  content: "\f152";
}
.fa-euro:before,
.fa-eur:before {
  content: "\f153";
}
.fa-gbp:before {
  content: "\f154";
}
.fa-dollar:before,
.fa-usd:before {
  content: "\f155";
}
.fa-rupee:before,
.fa-inr:before {
  content: "\f156";
}
.fa-cny:before,
.fa-rmb:before,
.fa-yen:before,
.fa-jpy:before {
  content: "\f157";
}
.fa-ruble:before,
.fa-rouble:before,
.fa-rub:before {
  content: "\f158";
}
.fa-won:before,
.fa-krw:before {
  content: "\f159";
}
.fa-bitcoin:before,
.fa-btc:before {
  content: "\f15a";
}
.fa-file:before {
  content: "\f15b";
}
.fa-file-text:before {
  content: "\f15c";
}
.fa-sort-alpha-asc:before {
  content: "\f15d";
}
.fa-sort-alpha-desc:before {
  content: "\f15e";
}
.fa-sort-amount-asc:before {
  content: "\f160";
}
.fa-sort-amount-desc:before {
  content: "\f161";
}
.fa-sort-numeric-asc:before {
  content: "\f162";
}
.fa-sort-numeric-desc:before {
  content: "\f163";
}
.fa-thumbs-up:before {
  content: "\f164";
}
.fa-thumbs-down:before {
  content: "\f165";
}
.fa-youtube-square:before {
  content: "\f166";
}
.fa-youtube:before {
  content: "\f167";
}
.fa-xing:before {
  content: "\f168";
}
.fa-xing-square:before {
  content: "\f169";
}
.fa-youtube-play:before {
  content: "\f16a";
}
.fa-dropbox:before {
  content: "\f16b";
}
.fa-stack-overflow:before {
  content: "\f16c";
}
.fa-instagram:before {
  content: "\f16d";
}
.fa-flickr:before {
  content: "\f16e";
}
.fa-adn:before {
  content: "\f170";
}
.fa-bitbucket:before {
  content: "\f171";
}
.fa-bitbucket-square:before {
  content: "\f172";
}
.fa-tumblr:before {
  content: "\f173";
}
.fa-tumblr-square:before {
  content: "\f174";
}
.fa-long-arrow-down:before {
  content: "\f175";
}
.fa-long-arrow-up:before {
  content: "\f176";
}
.fa-long-arrow-left:before {
  content: "\f177";
}
.fa-long-arrow-right:before {
  content: "\f178";
}
.fa-apple:before {
  content: "\f179";
}
.fa-windows:before {
  content: "\f17a";
}
.fa-android:before {
  content: "\f17b";
}
.fa-linux:before {
  content: "\f17c";
}
.fa-dribbble:before {
  content: "\f17d";
}
.fa-skype:before {
  content: "\f17e";
}
.fa-foursquare:before {
  content: "\f180";
}
.fa-trello:before {
  content: "\f181";
}
.fa-female:before {
  content: "\f182";
}
.fa-male:before {
  content: "\f183";
}
.fa-gittip:before,
.fa-gratipay:before {
  content: "\f184";
}
.fa-sun-o:before {
  content: "\f185";
}
.fa-moon-o:before {
  content: "\f186";
}
.fa-archive:before {
  content: "\f187";
}
.fa-bug:before {
  content: "\f188";
}
.fa-vk:before {
  content: "\f189";
}
.fa-weibo:before {
  content: "\f18a";
}
.fa-renren:before {
  content: "\f18b";
}
.fa-pagelines:before {
  content: "\f18c";
}
.fa-stack-exchange:before {
  content: "\f18d";
}
.fa-arrow-circle-o-right:before {
  content: "\f18e";
}
.fa-arrow-circle-o-left:before {
  content: "\f190";
}
.fa-toggle-left:before,
.fa-caret-square-o-left:before {
  content: "\f191";
}
.fa-dot-circle-o:before {
  content: "\f192";
}
.fa-wheelchair:before {
  content: "\f193";
}
.fa-vimeo-square:before {
  content: "\f194";
}
.fa-turkish-lira:before,
.fa-try:before {
  content: "\f195";
}
.fa-plus-square-o:before {
  content: "\f196";
}
.fa-space-shuttle:before {
  content: "\f197";
}
.fa-slack:before {
  content: "\f198";
}
.fa-envelope-square:before {
  content: "\f199";
}
.fa-wordpress:before {
  content: "\f19a";
}
.fa-openid:before {
  content: "\f19b";
}
.fa-institution:before,
.fa-bank:before,
.fa-university:before {
  content: "\f19c";
}
.fa-mortar-board:before,
.fa-graduation-cap:before {
  content: "\f19d";
}
.fa-yahoo:before {
  content: "\f19e";
}
.fa-google:before {
  content: "\f1a0";
}
.fa-reddit:before {
  content: "\f1a1";
}
.fa-reddit-square:before {
  content: "\f1a2";
}
.fa-stumbleupon-circle:before {
  content: "\f1a3";
}
.fa-stumbleupon:before {
  content: "\f1a4";
}
.fa-delicious:before {
  content: "\f1a5";
}
.fa-digg:before {
  content: "\f1a6";
}
.fa-pied-piper-pp:before {
  content: "\f1a7";
}
.fa-pied-piper-alt:before {
  content: "\f1a8";
}
.fa-drupal:before {
  content: "\f1a9";
}
.fa-joomla:before {
  content: "\f1aa";
}
.fa-language:before {
  content: "\f1ab";
}
.fa-fax:before {
  content: "\f1ac";
}
.fa-building:before {
  content: "\f1ad";
}
.fa-child:before {
  content: "\f1ae";
}
.fa-paw:before {
  content: "\f1b0";
}
.fa-spoon:before {
  content: "\f1b1";
}
.fa-cube:before {
  content: "\f1b2";
}
.fa-cubes:before {
  content: "\f1b3";
}
.fa-behance:before {
  content: "\f1b4";
}
.fa-behance-square:before {
  content: "\f1b5";
}
.fa-steam:before {
  content: "\f1b6";
}
.fa-steam-square:before {
  content: "\f1b7";
}
.fa-recycle:before {
  content: "\f1b8";
}
.fa-automobile:before,
.fa-car:before {
  content: "\f1b9";
}
.fa-cab:before,
.fa-taxi:before {
  content: "\f1ba";
}
.fa-tree:before {
  content: "\f1bb";
}
.fa-spotify:before {
  content: "\f1bc";
}
.fa-deviantart:before {
  content: "\f1bd";
}
.fa-soundcloud:before {
  content: "\f1be";
}
.fa-database:before {
  content: "\f1c0";
}
.fa-file-pdf-o:before {
  content: "\f1c1";
}
.fa-file-word-o:before {
  content: "\f1c2";
}
.fa-file-excel-o:before {
  content: "\f1c3";
}
.fa-file-powerpoint-o:before {
  content: "\f1c4";
}
.fa-file-photo-o:before,
.fa-file-picture-o:before,
.fa-file-image-o:before {
  content: "\f1c5";
}
.fa-file-zip-o:before,
.fa-file-archive-o:before {
  content: "\f1c6";
}
.fa-file-sound-o:before,
.fa-file-audio-o:before {
  content: "\f1c7";
}
.fa-file-movie-o:before,
.fa-file-video-o:before {
  content: "\f1c8";
}
.fa-file-code-o:before {
  content: "\f1c9";
}
.fa-vine:before {
  content: "\f1ca";
}
.fa-codepen:before {
  content: "\f1cb";
}
.fa-jsfiddle:before {
  content: "\f1cc";
}
.fa-life-bouy:before,
.fa-life-buoy:before,
.fa-life-saver:before,
.fa-support:before,
.fa-life-ring:before {
  content: "\f1cd";
}
.fa-circle-o-notch:before {
  content: "\f1ce";
}
.fa-ra:before,
.fa-resistance:before,
.fa-rebel:before {
  content: "\f1d0";
}
.fa-ge:before,
.fa-empire:before {
  content: "\f1d1";
}
.fa-git-square:before {
  content: "\f1d2";
}
.fa-git:before {
  content: "\f1d3";
}
.fa-y-combinator-square:before,
.fa-yc-square:before,
.fa-hacker-news:before {
  content: "\f1d4";
}
.fa-tencent-weibo:before {
  content: "\f1d5";
}
.fa-qq:before {
  content: "\f1d6";
}
.fa-wechat:before,
.fa-weixin:before {
  content: "\f1d7";
}
.fa-send:before,
.fa-paper-plane:before {
  content: "\f1d8";
}
.fa-send-o:before,
.fa-paper-plane-o:before {
  content: "\f1d9";
}
.fa-history:before {
  content: "\f1da";
}
.fa-circle-thin:before {
  content: "\f1db";
}
.fa-header:before {
  content: "\f1dc";
}
.fa-paragraph:before {
  content: "\f1dd";
}
.fa-sliders:before {
  content: "\f1de";
}
.fa-share-alt:before {
  content: "\f1e0";
}
.fa-share-alt-square:before {
  content: "\f1e1";
}
.fa-bomb:before {
  content: "\f1e2";
}
.fa-soccer-ball-o:before,
.fa-futbol-o:before {
  content: "\f1e3";
}
.fa-tty:before {
  content: "\f1e4";
}
.fa-binoculars:before {
  content: "\f1e5";
}
.fa-plug:before {
  content: "\f1e6";
}
.fa-slideshare:before {
  content: "\f1e7";
}
.fa-twitch:before {
  content: "\f1e8";
}
.fa-yelp:before {
  content: "\f1e9";
}
.fa-newspaper-o:before {
  content: "\f1ea";
}
.fa-wifi:before {
  content: "\f1eb";
}
.fa-calculator:before {
  content: "\f1ec";
}
.fa-paypal:before {
  content: "\f1ed";
}
.fa-google-wallet:before {
  content: "\f1ee";
}
.fa-cc-visa:before {
  content: "\f1f0";
}
.fa-cc-mastercard:before {
  content: "\f1f1";
}
.fa-cc-discover:before {
  content: "\f1f2";
}
.fa-cc-amex:before {
  content: "\f1f3";
}
.fa-cc-paypal:before {
  content: "\f1f4";
}
.fa-cc-stripe:before {
  content: "\f1f5";
}
.fa-bell-slash:before {
  content: "\f1f6";
}
.fa-bell-slash-o:before {
  content: "\f1f7";
}
.fa-trash:before {
  content: "\f1f8";
}
.fa-copyright:before {
  content: "\f1f9";
}
.fa-at:before {
  content: "\f1fa";
}
.fa-eyedropper:before {
  content: "\f1fb";
}
.fa-paint-brush:before {
  content: "\f1fc";
}
.fa-birthday-cake:before {
  content: "\f1fd";
}
.fa-area-chart:before {
  content: "\f1fe";
}
.fa-pie-chart:before {
  content: "\f200";
}
.fa-line-chart:before {
  content: "\f201";
}
.fa-lastfm:before {
  content: "\f202";
}
.fa-lastfm-square:before {
  content: "\f203";
}
.fa-toggle-off:before {
  content: "\f204";
}
.fa-toggle-on:before {
  content: "\f205";
}
.fa-bicycle:before {
  content: "\f206";
}
.fa-bus:before {
  content: "\f207";
}
.fa-ioxhost:before {
  content: "\f208";
}
.fa-angellist:before {
  content: "\f209";
}
.fa-cc:before {
  content: "\f20a";
}
.fa-shekel:before,
.fa-sheqel:before,
.fa-ils:before {
  content: "\f20b";
}
.fa-meanpath:before {
  content: "\f20c";
}
.fa-buysellads:before {
  content: "\f20d";
}
.fa-connectdevelop:before {
  content: "\f20e";
}
.fa-dashcube:before {
  content: "\f210";
}
.fa-forumbee:before {
  content: "\f211";
}
.fa-leanpub:before {
  content: "\f212";
}
.fa-sellsy:before {
  content: "\f213";
}
.fa-shirtsinbulk:before {
  content: "\f214";
}
.fa-simplybuilt:before {
  content: "\f215";
}
.fa-skyatlas:before {
  content: "\f216";
}
.fa-cart-plus:before {
  content: "\f217";
}
.fa-cart-arrow-down:before {
  content: "\f218";
}
.fa-diamond:before {
  content: "\f219";
}
.fa-ship:before {
  content: "\f21a";
}
.fa-user-secret:before {
  content: "\f21b";
}
.fa-motorcycle:before {
  content: "\f21c";
}
.fa-street-view:before {
  content: "\f21d";
}
.fa-heartbeat:before {
  content: "\f21e";
}
.fa-venus:before {
  content: "\f221";
}
.fa-mars:before {
  content: "\f222";
}
.fa-mercury:before {
  content: "\f223";
}
.fa-intersex:before,
.fa-transgender:before {
  content: "\f224";
}
.fa-transgender-alt:before {
  content: "\f225";
}
.fa-venus-double:before {
  content: "\f226";
}
.fa-mars-double:before {
  content: "\f227";
}
.fa-venus-mars:before {
  content: "\f228";
}
.fa-mars-stroke:before {
  content: "\f229";
}
.fa-mars-stroke-v:before {
  content: "\f22a";
}
.fa-mars-stroke-h:before {
  content: "\f22b";
}
.fa-neuter:before {
  content: "\f22c";
}
.fa-genderless:before {
  content: "\f22d";
}
.fa-facebook-official:before {
  content: "\f230";
}
.fa-pinterest-p:before {
  content: "\f231";
}
.fa-whatsapp:before {
  content: "\f232";
}
.fa-server:before {
  content: "\f233";
}
.fa-user-plus:before {
  content: "\f234";
}
.fa-user-times:before {
  content: "\f235";
}
.fa-hotel:before,
.fa-bed:before {
  content: "\f236";
}
.fa-viacoin:before {
  content: "\f237";
}
.fa-train:before {
  content: "\f238";
}
.fa-subway:before {
  content: "\f239";
}
.fa-medium:before {
  content: "\f23a";
}
.fa-yc:before,
.fa-y-combinator:before {
  content: "\f23b";
}
.fa-optin-monster:before {
  content: "\f23c";
}
.fa-opencart:before {
  content: "\f23d";
}
.fa-expeditedssl:before {
  content: "\f23e";
}
.fa-battery-4:before,
.fa-battery:before,
.fa-battery-full:before {
  content: "\f240";
}
.fa-battery-3:before,
.fa-battery-three-quarters:before {
  content: "\f241";
}
.fa-battery-2:before,
.fa-battery-half:before {
  content: "\f242";
}
.fa-battery-1:before,
.fa-battery-quarter:before {
  content: "\f243";
}
.fa-battery-0:before,
.fa-battery-empty:before {
  content: "\f244";
}
.fa-mouse-pointer:before {
  content: "\f245";
}
.fa-i-cursor:before {
  content: "\f246";
}
.fa-object-group:before {
  content: "\f247";
}
.fa-object-ungroup:before {
  content: "\f248";
}
.fa-sticky-note:before {
  content: "\f249";
}
.fa-sticky-note-o:before {
  content: "\f24a";
}
.fa-cc-jcb:before {
  content: "\f24b";
}
.fa-cc-diners-club:before {
  content: "\f24c";
}
.fa-clone:before {
  content: "\f24d";
}
.fa-balance-scale:before {
  content: "\f24e";
}
.fa-hourglass-o:before {
  content: "\f250";
}
.fa-hourglass-1:before,
.fa-hourglass-start:before {
  content: "\f251";
}
.fa-hourglass-2:before,
.fa-hourglass-half:before {
  content: "\f252";
}
.fa-hourglass-3:before,
.fa-hourglass-end:before {
  content: "\f253";
}
.fa-hourglass:before {
  content: "\f254";
}
.fa-hand-grab-o:before,
.fa-hand-rock-o:before {
  content: "\f255";
}
.fa-hand-stop-o:before,
.fa-hand-paper-o:before {
  content: "\f256";
}
.fa-hand-scissors-o:before {
  content: "\f257";
}
.fa-hand-lizard-o:before {
  content: "\f258";
}
.fa-hand-spock-o:before {
  content: "\f259";
}
.fa-hand-pointer-o:before {
  content: "\f25a";
}
.fa-hand-peace-o:before {
  content: "\f25b";
}
.fa-trademark:before {
  content: "\f25c";
}
.fa-registered:before {
  content: "\f25d";
}
.fa-creative-commons:before {
  content: "\f25e";
}
.fa-gg:before {
  content: "\f260";
}
.fa-gg-circle:before {
  content: "\f261";
}
.fa-tripadvisor:before {
  content: "\f262";
}
.fa-odnoklassniki:before {
  content: "\f263";
}
.fa-odnoklassniki-square:before {
  content: "\f264";
}
.fa-get-pocket:before {
  content: "\f265";
}
.fa-wikipedia-w:before {
  content: "\f266";
}
.fa-safari:before {
  content: "\f267";
}
.fa-chrome:before {
  content: "\f268";
}
.fa-firefox:before {
  content: "\f269";
}
.fa-opera:before {
  content: "\f26a";
}
.fa-internet-explorer:before {
  content: "\f26b";
}
.fa-tv:before,
.fa-television:before {
  content: "\f26c";
}
.fa-contao:before {
  content: "\f26d";
}
.fa-500px:before {
  content: "\f26e";
}
.fa-amazon:before {
  content: "\f270";
}
.fa-calendar-plus-o:before {
  content: "\f271";
}
.fa-calendar-minus-o:before {
  content: "\f272";
}
.fa-calendar-times-o:before {
  content: "\f273";
}
.fa-calendar-check-o:before {
  content: "\f274";
}
.fa-industry:before {
  content: "\f275";
}
.fa-map-pin:before {
  content: "\f276";
}
.fa-map-signs:before {
  content: "\f277";
}
.fa-map-o:before {
  content: "\f278";
}
.fa-map:before {
  content: "\f279";
}
.fa-commenting:before {
  content: "\f27a";
}
.fa-commenting-o:before {
  content: "\f27b";
}
.fa-houzz:before {
  content: "\f27c";
}
.fa-vimeo:before {
  content: "\f27d";
}
.fa-black-tie:before {
  content: "\f27e";
}
.fa-fonticons:before {
  content: "\f280";
}
.fa-reddit-alien:before {
  content: "\f281";
}
.fa-edge:before {
  content: "\f282";
}
.fa-credit-card-alt:before {
  content: "\f283";
}
.fa-codiepie:before {
  content: "\f284";
}
.fa-modx:before {
  content: "\f285";
}
.fa-fort-awesome:before {
  content: "\f286";
}
.fa-usb:before {
  content: "\f287";
}
.fa-product-hunt:before {
  content: "\f288";
}
.fa-mixcloud:before {
  content: "\f289";
}
.fa-scribd:before {
  content: "\f28a";
}
.fa-pause-circle:before {
  content: "\f28b";
}
.fa-pause-circle-o:before {
  content: "\f28c";
}
.fa-stop-circle:before {
  content: "\f28d";
}
.fa-stop-circle-o:before {
  content: "\f28e";
}
.fa-shopping-bag:before {
  content: "\f290";
}
.fa-shopping-basket:before {
  content: "\f291";
}
.fa-hashtag:before {
  content: "\f292";
}
.fa-bluetooth:before {
  content: "\f293";
}
.fa-bluetooth-b:before {
  content: "\f294";
}
.fa-percent:before {
  content: "\f295";
}
.fa-gitlab:before {
  content: "\f296";
}
.fa-wpbeginner:before {
  content: "\f297";
}
.fa-wpforms:before {
  content: "\f298";
}
.fa-envira:before {
  content: "\f299";
}
.fa-universal-access:before {
  content: "\f29a";
}
.fa-wheelchair-alt:before {
  content: "\f29b";
}
.fa-question-circle-o:before {
  content: "\f29c";
}
.fa-blind:before {
  content: "\f29d";
}
.fa-audio-description:before {
  content: "\f29e";
}
.fa-volume-control-phone:before {
  content: "\f2a0";
}
.fa-braille:before {
  content: "\f2a1";
}
.fa-assistive-listening-systems:before {
  content: "\f2a2";
}
.fa-asl-interpreting:before,
.fa-american-sign-language-interpreting:before {
  content: "\f2a3";
}
.fa-deafness:before,
.fa-hard-of-hearing:before,
.fa-deaf:before {
  content: "\f2a4";
}
.fa-glide:before {
  content: "\f2a5";
}
.fa-glide-g:before {
  content: "\f2a6";
}
.fa-signing:before,
.fa-sign-language:before {
  content: "\f2a7";
}
.fa-low-vision:before {
  content: "\f2a8";
}
.fa-viadeo:before {
  content: "\f2a9";
}
.fa-viadeo-square:before {
  content: "\f2aa";
}
.fa-snapchat:before {
  content: "\f2ab";
}
.fa-snapchat-ghost:before {
  content: "\f2ac";
}
.fa-snapchat-square:before {
  content: "\f2ad";
}
.fa-pied-piper:before {
  content: "\f2ae";
}
.fa-first-order:before {
  content: "\f2b0";
}
.fa-yoast:before {
  content: "\f2b1";
}
.fa-themeisle:before {
  content: "\f2b2";
}
.fa-google-plus-circle:before,
.fa-google-plus-official:before {
  content: "\f2b3";
}
.fa-fa:before,
.fa-font-awesome:before {
  content: "\f2b4";
}
.fa-handshake-o:before {
  content: "\f2b5";
}
.fa-envelope-open:before {
  content: "\f2b6";
}
.fa-envelope-open-o:before {
  content: "\f2b7";
}
.fa-linode:before {
  content: "\f2b8";
}
.fa-address-book:before {
  content: "\f2b9";
}
.fa-address-book-o:before {
  content: "\f2ba";
}
.fa-vcard:before,
.fa-address-card:before {
  content: "\f2bb";
}
.fa-vcard-o:before,
.fa-address-card-o:before {
  content: "\f2bc";
}
.fa-user-circle:before {
  content: "\f2bd";
}
.fa-user-circle-o:before {
  content: "\f2be";
}
.fa-user-o:before {
  content: "\f2c0";
}
.fa-id-badge:before {
  content: "\f2c1";
}
.fa-drivers-license:before,
.fa-id-card:before {
  content: "\f2c2";
}
.fa-drivers-license-o:before,
.fa-id-card-o:before {
  content: "\f2c3";
}
.fa-quora:before {
  content: "\f2c4";
}
.fa-free-code-camp:before {
  content: "\f2c5";
}
.fa-telegram:before {
  content: "\f2c6";
}
.fa-thermometer-4:before,
.fa-thermometer:before,
.fa-thermometer-full:before {
  content: "\f2c7";
}
.fa-thermometer-3:before,
.fa-thermometer-three-quarters:before {
  content: "\f2c8";
}
.fa-thermometer-2:before,
.fa-thermometer-half:before {
  content: "\f2c9";
}
.fa-thermometer-1:before,
.fa-thermometer-quarter:before {
  content: "\f2ca";
}
.fa-thermometer-0:before,
.fa-thermometer-empty:before {
  content: "\f2cb";
}
.fa-shower:before {
  content: "\f2cc";
}
.fa-bathtub:before,
.fa-s15:before,
.fa-bath:before {
  content: "\f2cd";
}
.fa-podcast:before {
  content: "\f2ce";
}
.fa-window-maximize:before {
  content: "\f2d0";
}
.fa-window-minimize:before {
  content: "\f2d1";
}
.fa-window-restore:before {
  content: "\f2d2";
}
.fa-times-rectangle:before,
.fa-window-close:before {
  content: "\f2d3";
}
.fa-times-rectangle-o:before,
.fa-window-close-o:before {
  content: "\f2d4";
}
.fa-bandcamp:before {
  content: "\f2d5";
}
.fa-grav:before {
  content: "\f2d6";
}
.fa-etsy:before {
  content: "\f2d7";
}
.fa-imdb:before {
  content: "\f2d8";
}
.fa-ravelry:before {
  content: "\f2d9";
}
.fa-eercast:before {
  content: "\f2da";
}
.fa-microchip:before {
  content: "\f2db";
}
.fa-snowflake-o:before {
  content: "\f2dc";
}
.fa-superpowers:before {
  content: "\f2dd";
}
.fa-wpexplorer:before {
  content: "\f2de";
}
.fa-meetup:before {
  content: "\f2e0";
}
.sr-only {
  position: absolute;
  width: 1px;
  height: 1px;
  padding: 0;
  margin: -1px;
  overflow: hidden;
  clip: rect(0, 0, 0, 0);
  border: 0;
}
.sr-only-focusable:active,
.sr-only-focusable:focus {
  position: static;
  width: auto;
  height: auto;
  margin: 0;
  overflow: visible;
  clip: auto;
}
.sr-only-focusable:active,
.sr-only-focusable:focus {
  position: static;
  width: auto;
  height: auto;
  margin: 0;
  overflow: visible;
  clip: auto;
}
/*!
*
* IPython base
*
*/
.modal.fade .modal-dialog {
  -webkit-transform: translate(0, 0);
  -ms-transform: translate(0, 0);
  -o-transform: translate(0, 0);
  transform: translate(0, 0);
}
code {
  color: #000;
}
pre {
  font-size: inherit;
  line-height: inherit;
}
label {
  font-weight: normal;
}
/* Make the page background atleast 100% the height of the view port */
/* Make the page itself atleast 70% the height of the view port */
.border-box-sizing {
  box-sizing: border-box;
  -moz-box-sizing: border-box;
  -webkit-box-sizing: border-box;
}
.corner-all {
  border-radius: 2px;
}
.no-padding {
  padding: 0px;
}
/* Flexible box model classes */
/* Taken from Alex Russell http://infrequently.org/2009/08/css-3-progress/ */
/* This file is a compatability layer.  It allows the usage of flexible box 
model layouts accross multiple browsers, including older browsers.  The newest,
universal implementation of the flexible box model is used when available (see
`Modern browsers` comments below).  Browsers that are known to implement this 
new spec completely include:

    Firefox 28.0+
    Chrome 29.0+
    Internet Explorer 11+ 
    Opera 17.0+

Browsers not listed, including Safari, are supported via the styling under the
`Old browsers` comments below.
*/
.hbox {
  /* Old browsers */
  display: -webkit-box;
  -webkit-box-orient: horizontal;
  -webkit-box-align: stretch;
  display: -moz-box;
  -moz-box-orient: horizontal;
  -moz-box-align: stretch;
  display: box;
  box-orient: horizontal;
  box-align: stretch;
  /* Modern browsers */
  display: flex;
  flex-direction: row;
  align-items: stretch;
}
.hbox > * {
  /* Old browsers */
  -webkit-box-flex: 0;
  -moz-box-flex: 0;
  box-flex: 0;
  /* Modern browsers */
  flex: none;
}
.vbox {
  /* Old browsers */
  display: -webkit-box;
  -webkit-box-orient: vertical;
  -webkit-box-align: stretch;
  display: -moz-box;
  -moz-box-orient: vertical;
  -moz-box-align: stretch;
  display: box;
  box-orient: vertical;
  box-align: stretch;
  /* Modern browsers */
  display: flex;
  flex-direction: column;
  align-items: stretch;
}
.vbox > * {
  /* Old browsers */
  -webkit-box-flex: 0;
  -moz-box-flex: 0;
  box-flex: 0;
  /* Modern browsers */
  flex: none;
}
.hbox.reverse,
.vbox.reverse,
.reverse {
  /* Old browsers */
  -webkit-box-direction: reverse;
  -moz-box-direction: reverse;
  box-direction: reverse;
  /* Modern browsers */
  flex-direction: row-reverse;
}
.hbox.box-flex0,
.vbox.box-flex0,
.box-flex0 {
  /* Old browsers */
  -webkit-box-flex: 0;
  -moz-box-flex: 0;
  box-flex: 0;
  /* Modern browsers */
  flex: none;
  width: auto;
}
.hbox.box-flex1,
.vbox.box-flex1,
.box-flex1 {
  /* Old browsers */
  -webkit-box-flex: 1;
  -moz-box-flex: 1;
  box-flex: 1;
  /* Modern browsers */
  flex: 1;
}
.hbox.box-flex,
.vbox.box-flex,
.box-flex {
  /* Old browsers */
  /* Old browsers */
  -webkit-box-flex: 1;
  -moz-box-flex: 1;
  box-flex: 1;
  /* Modern browsers */
  flex: 1;
}
.hbox.box-flex2,
.vbox.box-flex2,
.box-flex2 {
  /* Old browsers */
  -webkit-box-flex: 2;
  -moz-box-flex: 2;
  box-flex: 2;
  /* Modern browsers */
  flex: 2;
}
.box-group1 {
  /*  Deprecated */
  -webkit-box-flex-group: 1;
  -moz-box-flex-group: 1;
  box-flex-group: 1;
}
.box-group2 {
  /* Deprecated */
  -webkit-box-flex-group: 2;
  -moz-box-flex-group: 2;
  box-flex-group: 2;
}
.hbox.start,
.vbox.start,
.start {
  /* Old browsers */
  -webkit-box-pack: start;
  -moz-box-pack: start;
  box-pack: start;
  /* Modern browsers */
  justify-content: flex-start;
}
.hbox.end,
.vbox.end,
.end {
  /* Old browsers */
  -webkit-box-pack: end;
  -moz-box-pack: end;
  box-pack: end;
  /* Modern browsers */
  justify-content: flex-end;
}
.hbox.center,
.vbox.center,
.center {
  /* Old browsers */
  -webkit-box-pack: center;
  -moz-box-pack: center;
  box-pack: center;
  /* Modern browsers */
  justify-content: center;
}
.hbox.baseline,
.vbox.baseline,
.baseline {
  /* Old browsers */
  -webkit-box-pack: baseline;
  -moz-box-pack: baseline;
  box-pack: baseline;
  /* Modern browsers */
  justify-content: baseline;
}
.hbox.stretch,
.vbox.stretch,
.stretch {
  /* Old browsers */
  -webkit-box-pack: stretch;
  -moz-box-pack: stretch;
  box-pack: stretch;
  /* Modern browsers */
  justify-content: stretch;
}
.hbox.align-start,
.vbox.align-start,
.align-start {
  /* Old browsers */
  -webkit-box-align: start;
  -moz-box-align: start;
  box-align: start;
  /* Modern browsers */
  align-items: flex-start;
}
.hbox.align-end,
.vbox.align-end,
.align-end {
  /* Old browsers */
  -webkit-box-align: end;
  -moz-box-align: end;
  box-align: end;
  /* Modern browsers */
  align-items: flex-end;
}
.hbox.align-center,
.vbox.align-center,
.align-center {
  /* Old browsers */
  -webkit-box-align: center;
  -moz-box-align: center;
  box-align: center;
  /* Modern browsers */
  align-items: center;
}
.hbox.align-baseline,
.vbox.align-baseline,
.align-baseline {
  /* Old browsers */
  -webkit-box-align: baseline;
  -moz-box-align: baseline;
  box-align: baseline;
  /* Modern browsers */
  align-items: baseline;
}
.hbox.align-stretch,
.vbox.align-stretch,
.align-stretch {
  /* Old browsers */
  -webkit-box-align: stretch;
  -moz-box-align: stretch;
  box-align: stretch;
  /* Modern browsers */
  align-items: stretch;
}
div.error {
  margin: 2em;
  text-align: center;
}
div.error > h1 {
  font-size: 500%;
  line-height: normal;
}
div.error > p {
  font-size: 200%;
  line-height: normal;
}
div.traceback-wrapper {
  text-align: left;
  max-width: 800px;
  margin: auto;
}
div.traceback-wrapper pre.traceback {
  max-height: 600px;
  overflow: auto;
}
/**
 * Primary styles
 *
 * Author: Jupyter Development Team
 */
body {
  background-color: #fff;
  /* This makes sure that the body covers the entire window and needs to
       be in a different element than the display: box in wrapper below */
  position: absolute;
  left: 0px;
  right: 0px;
  top: 0px;
  bottom: 0px;
  overflow: visible;
}
body > #header {
  /* Initially hidden to prevent FLOUC */
  display: none;
  background-color: #fff;
  /* Display over codemirror */
  position: relative;
  z-index: 100;
}
body > #header #header-container {
  display: flex;
  flex-direction: row;
  justify-content: space-between;
  padding: 5px;
  padding-bottom: 5px;
  padding-top: 5px;
  box-sizing: border-box;
  -moz-box-sizing: border-box;
  -webkit-box-sizing: border-box;
}
body > #header .header-bar {
  width: 100%;
  height: 1px;
  background: #e7e7e7;
  margin-bottom: -1px;
}
@media print {
  body > #header {
    display: none !important;
  }
}
#header-spacer {
  width: 100%;
  visibility: hidden;
}
@media print {
  #header-spacer {
    display: none;
  }
}
#ipython_notebook {
  padding-left: 0px;
  padding-top: 1px;
  padding-bottom: 1px;
}
[dir="rtl"] #ipython_notebook {
  margin-right: 10px;
  margin-left: 0;
}
[dir="rtl"] #ipython_notebook.pull-left {
  float: right !important;
  float: right;
}
.flex-spacer {
  flex: 1;
}
#noscript {
  width: auto;
  padding-top: 16px;
  padding-bottom: 16px;
  text-align: center;
  font-size: 22px;
  color: red;
  font-weight: bold;
}
#ipython_notebook img {
  height: 28px;
}
#site {
  width: 100%;
  display: none;
  box-sizing: border-box;
  -moz-box-sizing: border-box;
  -webkit-box-sizing: border-box;
  overflow: auto;
}
@media print {
  #site {
    height: auto !important;
  }
}
/* Smaller buttons */
.ui-button .ui-button-text {
  padding: 0.2em 0.8em;
  font-size: 77%;
}
input.ui-button {
  padding: 0.3em 0.9em;
}
span#kernel_logo_widget {
  margin: 0 10px;
}
span#login_widget {
  float: right;
}
[dir="rtl"] span#login_widget {
  float: left;
}
span#login_widget > .button,
#logout {
  color: #333;
  background-color: #fff;
  border-color: #ccc;
}
span#login_widget > .button:focus,
#logout:focus,
span#login_widget > .button.focus,
#logout.focus {
  color: #333;
  background-color: #e6e6e6;
  border-color: #8c8c8c;
}
span#login_widget > .button:hover,
#logout:hover {
  color: #333;
  background-color: #e6e6e6;
  border-color: #adadad;
}
span#login_widget > .button:active,
#logout:active,
span#login_widget > .button.active,
#logout.active,
.open > .dropdown-togglespan#login_widget > .button,
.open > .dropdown-toggle#logout {
  color: #333;
  background-color: #e6e6e6;
  border-color: #adadad;
}
span#login_widget > .button:active:hover,
#logout:active:hover,
span#login_widget > .button.active:hover,
#logout.active:hover,
.open > .dropdown-togglespan#login_widget > .button:hover,
.open > .dropdown-toggle#logout:hover,
span#login_widget > .button:active:focus,
#logout:active:focus,
span#login_widget > .button.active:focus,
#logout.active:focus,
.open > .dropdown-togglespan#login_widget > .button:focus,
.open > .dropdown-toggle#logout:focus,
span#login_widget > .button:active.focus,
#logout:active.focus,
span#login_widget > .button.active.focus,
#logout.active.focus,
.open > .dropdown-togglespan#login_widget > .button.focus,
.open > .dropdown-toggle#logout.focus {
  color: #333;
  background-color: #d4d4d4;
  border-color: #8c8c8c;
}
span#login_widget > .button:active,
#logout:active,
span#login_widget > .button.active,
#logout.active,
.open > .dropdown-togglespan#login_widget > .button,
.open > .dropdown-toggle#logout {
  background-image: none;
}
span#login_widget > .button.disabled:hover,
#logout.disabled:hover,
span#login_widget > .button[disabled]:hover,
#logout[disabled]:hover,
fieldset[disabled] span#login_widget > .button:hover,
fieldset[disabled] #logout:hover,
span#login_widget > .button.disabled:focus,
#logout.disabled:focus,
span#login_widget > .button[disabled]:focus,
#logout[disabled]:focus,
fieldset[disabled] span#login_widget > .button:focus,
fieldset[disabled] #logout:focus,
span#login_widget > .button.disabled.focus,
#logout.disabled.focus,
span#login_widget > .button[disabled].focus,
#logout[disabled].focus,
fieldset[disabled] span#login_widget > .button.focus,
fieldset[disabled] #logout.focus {
  background-color: #fff;
  border-color: #ccc;
}
span#login_widget > .button .badge,
#logout .badge {
  color: #fff;
  background-color: #333;
}
.nav-header {
  text-transform: none;
}
#header > span {
  margin-top: 10px;
}
.modal_stretch .modal-dialog {
  /* Old browsers */
  display: -webkit-box;
  -webkit-box-orient: vertical;
  -webkit-box-align: stretch;
  display: -moz-box;
  -moz-box-orient: vertical;
  -moz-box-align: stretch;
  display: box;
  box-orient: vertical;
  box-align: stretch;
  /* Modern browsers */
  display: flex;
  flex-direction: column;
  align-items: stretch;
  min-height: 80vh;
}
.modal_stretch .modal-dialog .modal-body {
  max-height: calc(100vh - 200px);
  overflow: auto;
  flex: 1;
}
.modal-header {
  cursor: move;
}
@media (min-width: 768px) {
  .modal .modal-dialog {
    width: 700px;
  }
}
@media (min-width: 768px) {
  select.form-control {
    margin-left: 12px;
    margin-right: 12px;
  }
}
/*!
*
* IPython auth
*
*/
.center-nav {
  display: inline-block;
  margin-bottom: -4px;
}
[dir="rtl"] .center-nav form.pull-left {
  float: right !important;
  float: right;
}
[dir="rtl"] .center-nav .navbar-text {
  float: right;
}
[dir="rtl"] .navbar-inner {
  text-align: right;
}
[dir="rtl"] div.text-left {
  text-align: right;
}
/*!
*
* IPython tree view
*
*/
/* We need an invisible input field on top of the sentense*/
/* "Drag file onto the list ..." */
.alternate_upload {
  background-color: none;
  display: inline;
}
.alternate_upload.form {
  padding: 0;
  margin: 0;
}
.alternate_upload input.fileinput {
  position: absolute;
  display: block;
  width: 100%;
  height: 100%;
  overflow: hidden;
  cursor: pointer;
  opacity: 0;
  z-index: 2;
}
.alternate_upload .btn-xs > input.fileinput {
  margin: -1px -5px;
}
.alternate_upload .btn-upload {
  position: relative;
  height: 22px;
}
::-webkit-file-upload-button {
  cursor: pointer;
}
/**
 * Primary styles
 *
 * Author: Jupyter Development Team
 */
ul#tabs {
  margin-bottom: 4px;
}
ul#tabs a {
  padding-top: 6px;
  padding-bottom: 4px;
}
[dir="rtl"] ul#tabs.nav-tabs > li {
  float: right;
}
[dir="rtl"] ul#tabs.nav.nav-tabs {
  padding-right: 0;
}
ul.breadcrumb a:focus,
ul.breadcrumb a:hover {
  text-decoration: none;
}
ul.breadcrumb i.icon-home {
  font-size: 16px;
  margin-right: 4px;
}
ul.breadcrumb span {
  color: #5e5e5e;
}
.list_toolbar {
  padding: 4px 0 4px 0;
  vertical-align: middle;
}
.list_toolbar .tree-buttons {
  padding-top: 1px;
}
[dir="rtl"] .list_toolbar .tree-buttons .pull-right {
  float: left !important;
  float: left;
}
[dir="rtl"] .list_toolbar .col-sm-4,
[dir="rtl"] .list_toolbar .col-sm-8 {
  float: right;
}
.dynamic-buttons {
  padding-top: 3px;
  display: inline-block;
}
.list_toolbar [class*="span"] {
  min-height: 24px;
}
.list_header {
  font-weight: bold;
  background-color: #EEE;
}
.list_placeholder {
  font-weight: bold;
  padding-top: 4px;
  padding-bottom: 4px;
  padding-left: 7px;
  padding-right: 7px;
}
.list_container {
  margin-top: 4px;
  margin-bottom: 20px;
  border: 1px solid #ddd;
  border-radius: 2px;
}
.list_container > div {
  border-bottom: 1px solid #ddd;
}
.list_container > div:hover .list-item {
  background-color: red;
}
.list_container > div:last-child {
  border: none;
}
.list_item:hover .list_item {
  background-color: #ddd;
}
.list_item a {
  text-decoration: none;
}
.list_item:hover {
  background-color: #fafafa;
}
.list_header > div,
.list_item > div {
  padding-top: 4px;
  padding-bottom: 4px;
  padding-left: 7px;
  padding-right: 7px;
  line-height: 22px;
}
.list_header > div input,
.list_item > div input {
  margin-right: 7px;
  margin-left: 14px;
  vertical-align: text-bottom;
  line-height: 22px;
  position: relative;
  top: -1px;
}
.list_header > div .item_link,
.list_item > div .item_link {
  margin-left: -1px;
  vertical-align: baseline;
  line-height: 22px;
}
[dir="rtl"] .list_item > div input {
  margin-right: 0;
}
.new-file input[type=checkbox] {
  visibility: hidden;
}
.item_name {
  line-height: 22px;
  height: 24px;
}
.item_icon {
  font-size: 14px;
  color: #5e5e5e;
  margin-right: 7px;
  margin-left: 7px;
  line-height: 22px;
  vertical-align: baseline;
}
.item_modified {
  margin-right: 7px;
  margin-left: 7px;
}
[dir="rtl"] .item_modified.pull-right {
  float: left !important;
  float: left;
}
.item_buttons {
  line-height: 1em;
  margin-left: -5px;
}
.item_buttons .btn,
.item_buttons .btn-group,
.item_buttons .input-group {
  float: left;
}
.item_buttons > .btn,
.item_buttons > .btn-group,
.item_buttons > .input-group {
  margin-left: 5px;
}
.item_buttons .btn {
  min-width: 13ex;
}
.item_buttons .running-indicator {
  padding-top: 4px;
  color: #5cb85c;
}
.item_buttons .kernel-name {
  padding-top: 4px;
  color: #5bc0de;
  margin-right: 7px;
  float: left;
}
[dir="rtl"] .item_buttons.pull-right {
  float: left !important;
  float: left;
}
[dir="rtl"] .item_buttons .kernel-name {
  margin-left: 7px;
  float: right;
}
.toolbar_info {
  height: 24px;
  line-height: 24px;
}
.list_item input:not([type=checkbox]) {
  padding-top: 3px;
  padding-bottom: 3px;
  height: 22px;
  line-height: 14px;
  margin: 0px;
}
.highlight_text {
  color: blue;
}
#project_name {
  display: inline-block;
  padding-left: 7px;
  margin-left: -2px;
}
#project_name > .breadcrumb {
  padding: 0px;
  margin-bottom: 0px;
  background-color: transparent;
  font-weight: bold;
}
.sort_button {
  display: inline-block;
  padding-left: 7px;
}
[dir="rtl"] .sort_button.pull-right {
  float: left !important;
  float: left;
}
#tree-selector {
  padding-right: 0px;
}
#button-select-all {
  min-width: 50px;
}
[dir="rtl"] #button-select-all.btn {
  float: right ;
}
#select-all {
  margin-left: 7px;
  margin-right: 2px;
  margin-top: 2px;
  height: 16px;
}
[dir="rtl"] #select-all.pull-left {
  float: right !important;
  float: right;
}
.menu_icon {
  margin-right: 2px;
}
.tab-content .row {
  margin-left: 0px;
  margin-right: 0px;
}
.folder_icon:before {
  display: inline-block;
  font: normal normal normal 14px/1 FontAwesome;
  font-size: inherit;
  text-rendering: auto;
  -webkit-font-smoothing: antialiased;
  -moz-osx-font-smoothing: grayscale;
  content: "\f114";
}
.folder_icon:before.fa-pull-left {
  margin-right: .3em;
}
.folder_icon:before.fa-pull-right {
  margin-left: .3em;
}
.folder_icon:before.pull-left {
  margin-right: .3em;
}
.folder_icon:before.pull-right {
  margin-left: .3em;
}
.notebook_icon:before {
  display: inline-block;
  font: normal normal normal 14px/1 FontAwesome;
  font-size: inherit;
  text-rendering: auto;
  -webkit-font-smoothing: antialiased;
  -moz-osx-font-smoothing: grayscale;
  content: "\f02d";
  position: relative;
  top: -1px;
}
.notebook_icon:before.fa-pull-left {
  margin-right: .3em;
}
.notebook_icon:before.fa-pull-right {
  margin-left: .3em;
}
.notebook_icon:before.pull-left {
  margin-right: .3em;
}
.notebook_icon:before.pull-right {
  margin-left: .3em;
}
.running_notebook_icon:before {
  display: inline-block;
  font: normal normal normal 14px/1 FontAwesome;
  font-size: inherit;
  text-rendering: auto;
  -webkit-font-smoothing: antialiased;
  -moz-osx-font-smoothing: grayscale;
  content: "\f02d";
  position: relative;
  top: -1px;
  color: #5cb85c;
}
.running_notebook_icon:before.fa-pull-left {
  margin-right: .3em;
}
.running_notebook_icon:before.fa-pull-right {
  margin-left: .3em;
}
.running_notebook_icon:before.pull-left {
  margin-right: .3em;
}
.running_notebook_icon:before.pull-right {
  margin-left: .3em;
}
.file_icon:before {
  display: inline-block;
  font: normal normal normal 14px/1 FontAwesome;
  font-size: inherit;
  text-rendering: auto;
  -webkit-font-smoothing: antialiased;
  -moz-osx-font-smoothing: grayscale;
  content: "\f016";
  position: relative;
  top: -2px;
}
.file_icon:before.fa-pull-left {
  margin-right: .3em;
}
.file_icon:before.fa-pull-right {
  margin-left: .3em;
}
.file_icon:before.pull-left {
  margin-right: .3em;
}
.file_icon:before.pull-right {
  margin-left: .3em;
}
#notebook_toolbar .pull-right {
  padding-top: 0px;
  margin-right: -1px;
}
ul#new-menu {
  left: auto;
  right: 0;
}
#new-menu .dropdown-header {
  font-size: 10px;
  border-bottom: 1px solid #e5e5e5;
  padding: 0 0 3px;
  margin: -3px 20px 0;
}
.kernel-menu-icon {
  padding-right: 12px;
  width: 24px;
  content: "\f096";
}
.kernel-menu-icon:before {
  content: "\f096";
}
.kernel-menu-icon-current:before {
  content: "\f00c";
}
#tab_content {
  padding-top: 20px;
}
#running .panel-group .panel {
  margin-top: 3px;
  margin-bottom: 1em;
}
#running .panel-group .panel .panel-heading {
  background-color: #EEE;
  padding-top: 4px;
  padding-bottom: 4px;
  padding-left: 7px;
  padding-right: 7px;
  line-height: 22px;
}
#running .panel-group .panel .panel-heading a:focus,
#running .panel-group .panel .panel-heading a:hover {
  text-decoration: none;
}
#running .panel-group .panel .panel-body {
  padding: 0px;
}
#running .panel-group .panel .panel-body .list_container {
  margin-top: 0px;
  margin-bottom: 0px;
  border: 0px;
  border-radius: 0px;
}
#running .panel-group .panel .panel-body .list_container .list_item {
  border-bottom: 1px solid #ddd;
}
#running .panel-group .panel .panel-body .list_container .list_item:last-child {
  border-bottom: 0px;
}
.delete-button {
  display: none;
}
.duplicate-button {
  display: none;
}
.rename-button {
  display: none;
}
.move-button {
  display: none;
}
.download-button {
  display: none;
}
.shutdown-button {
  display: none;
}
.dynamic-instructions {
  display: inline-block;
  padding-top: 4px;
}
/*!
*
* IPython text editor webapp
*
*/
.selected-keymap i.fa {
  padding: 0px 5px;
}
.selected-keymap i.fa:before {
  content: "\f00c";
}
#mode-menu {
  overflow: auto;
  max-height: 20em;
}
.edit_app #header {
  -webkit-box-shadow: 0px 0px 12px 1px rgba(87, 87, 87, 0.2);
  box-shadow: 0px 0px 12px 1px rgba(87, 87, 87, 0.2);
}
.edit_app #menubar .navbar {
  /* Use a negative 1 bottom margin, so the border overlaps the border of the
    header */
  margin-bottom: -1px;
}
.dirty-indicator {
  display: inline-block;
  font: normal normal normal 14px/1 FontAwesome;
  font-size: inherit;
  text-rendering: auto;
  -webkit-font-smoothing: antialiased;
  -moz-osx-font-smoothing: grayscale;
  width: 20px;
}
.dirty-indicator.fa-pull-left {
  margin-right: .3em;
}
.dirty-indicator.fa-pull-right {
  margin-left: .3em;
}
.dirty-indicator.pull-left {
  margin-right: .3em;
}
.dirty-indicator.pull-right {
  margin-left: .3em;
}
.dirty-indicator-dirty {
  display: inline-block;
  font: normal normal normal 14px/1 FontAwesome;
  font-size: inherit;
  text-rendering: auto;
  -webkit-font-smoothing: antialiased;
  -moz-osx-font-smoothing: grayscale;
  width: 20px;
}
.dirty-indicator-dirty.fa-pull-left {
  margin-right: .3em;
}
.dirty-indicator-dirty.fa-pull-right {
  margin-left: .3em;
}
.dirty-indicator-dirty.pull-left {
  margin-right: .3em;
}
.dirty-indicator-dirty.pull-right {
  margin-left: .3em;
}
.dirty-indicator-clean {
  display: inline-block;
  font: normal normal normal 14px/1 FontAwesome;
  font-size: inherit;
  text-rendering: auto;
  -webkit-font-smoothing: antialiased;
  -moz-osx-font-smoothing: grayscale;
  width: 20px;
}
.dirty-indicator-clean.fa-pull-left {
  margin-right: .3em;
}
.dirty-indicator-clean.fa-pull-right {
  margin-left: .3em;
}
.dirty-indicator-clean.pull-left {
  margin-right: .3em;
}
.dirty-indicator-clean.pull-right {
  margin-left: .3em;
}
.dirty-indicator-clean:before {
  display: inline-block;
  font: normal normal normal 14px/1 FontAwesome;
  font-size: inherit;
  text-rendering: auto;
  -webkit-font-smoothing: antialiased;
  -moz-osx-font-smoothing: grayscale;
  content: "\f00c";
}
.dirty-indicator-clean:before.fa-pull-left {
  margin-right: .3em;
}
.dirty-indicator-clean:before.fa-pull-right {
  margin-left: .3em;
}
.dirty-indicator-clean:before.pull-left {
  margin-right: .3em;
}
.dirty-indicator-clean:before.pull-right {
  margin-left: .3em;
}
#filename {
  font-size: 16pt;
  display: table;
  padding: 0px 5px;
}
#current-mode {
  padding-left: 5px;
  padding-right: 5px;
}
#texteditor-backdrop {
  padding-top: 20px;
  padding-bottom: 20px;
}
@media not print {
  #texteditor-backdrop {
    background-color: #EEE;
  }
}
@media print {
  #texteditor-backdrop #texteditor-container .CodeMirror-gutter,
  #texteditor-backdrop #texteditor-container .CodeMirror-gutters {
    background-color: #fff;
  }
}
@media not print {
  #texteditor-backdrop #texteditor-container .CodeMirror-gutter,
  #texteditor-backdrop #texteditor-container .CodeMirror-gutters {
    background-color: #fff;
  }
}
@media not print {
  #texteditor-backdrop #texteditor-container {
    padding: 0px;
    background-color: #fff;
    -webkit-box-shadow: 0px 0px 12px 1px rgba(87, 87, 87, 0.2);
    box-shadow: 0px 0px 12px 1px rgba(87, 87, 87, 0.2);
  }
}
.CodeMirror-dialog {
  background-color: #fff;
}
/*!
*
* IPython notebook
*
*/
/* CSS font colors for translated ANSI escape sequences */
/* The color values are a mix of
   http://www.xcolors.net/dl/baskerville-ivorylight and
   http://www.xcolors.net/dl/euphrasia */
.ansi-black-fg {
  color: #3E424D;
}
.ansi-black-bg {
  background-color: #3E424D;
}
.ansi-black-intense-fg {
  color: #282C36;
}
.ansi-black-intense-bg {
  background-color: #282C36;
}
.ansi-red-fg {
  color: #E75C58;
}
.ansi-red-bg {
  background-color: #E75C58;
}
.ansi-red-intense-fg {
  color: #B22B31;
}
.ansi-red-intense-bg {
  background-color: #B22B31;
}
.ansi-green-fg {
  color: #00A250;
}
.ansi-green-bg {
  background-color: #00A250;
}
.ansi-green-intense-fg {
  color: #007427;
}
.ansi-green-intense-bg {
  background-color: #007427;
}
.ansi-yellow-fg {
  color: #DDB62B;
}
.ansi-yellow-bg {
  background-color: #DDB62B;
}
.ansi-yellow-intense-fg {
  color: #B27D12;
}
.ansi-yellow-intense-bg {
  background-color: #B27D12;
}
.ansi-blue-fg {
  color: #208FFB;
}
.ansi-blue-bg {
  background-color: #208FFB;
}
.ansi-blue-intense-fg {
  color: #0065CA;
}
.ansi-blue-intense-bg {
  background-color: #0065CA;
}
.ansi-magenta-fg {
  color: #D160C4;
}
.ansi-magenta-bg {
  background-color: #D160C4;
}
.ansi-magenta-intense-fg {
  color: #A03196;
}
.ansi-magenta-intense-bg {
  background-color: #A03196;
}
.ansi-cyan-fg {
  color: #60C6C8;
}
.ansi-cyan-bg {
  background-color: #60C6C8;
}
.ansi-cyan-intense-fg {
  color: #258F8F;
}
.ansi-cyan-intense-bg {
  background-color: #258F8F;
}
.ansi-white-fg {
  color: #C5C1B4;
}
.ansi-white-bg {
  background-color: #C5C1B4;
}
.ansi-white-intense-fg {
  color: #A1A6B2;
}
.ansi-white-intense-bg {
  background-color: #A1A6B2;
}
.ansi-default-inverse-fg {
  color: #FFFFFF;
}
.ansi-default-inverse-bg {
  background-color: #000000;
}
.ansi-bold {
  font-weight: bold;
}
.ansi-underline {
  text-decoration: underline;
}
/* The following styles are deprecated an will be removed in a future version */
.ansibold {
  font-weight: bold;
}
.ansi-inverse {
  outline: 0.5px dotted;
}
/* use dark versions for foreground, to improve visibility */
.ansiblack {
  color: black;
}
.ansired {
  color: darkred;
}
.ansigreen {
  color: darkgreen;
}
.ansiyellow {
  color: #c4a000;
}
.ansiblue {
  color: darkblue;
}
.ansipurple {
  color: darkviolet;
}
.ansicyan {
  color: steelblue;
}
.ansigray {
  color: gray;
}
/* and light for background, for the same reason */
.ansibgblack {
  background-color: black;
}
.ansibgred {
  background-color: red;
}
.ansibggreen {
  background-color: green;
}
.ansibgyellow {
  background-color: yellow;
}
.ansibgblue {
  background-color: blue;
}
.ansibgpurple {
  background-color: magenta;
}
.ansibgcyan {
  background-color: cyan;
}
.ansibggray {
  background-color: gray;
}
div.cell {
  /* Old browsers */
  display: -webkit-box;
  -webkit-box-orient: vertical;
  -webkit-box-align: stretch;
  display: -moz-box;
  -moz-box-orient: vertical;
  -moz-box-align: stretch;
  display: box;
  box-orient: vertical;
  box-align: stretch;
  /* Modern browsers */
  display: flex;
  flex-direction: column;
  align-items: stretch;
  border-radius: 2px;
  box-sizing: border-box;
  -moz-box-sizing: border-box;
  -webkit-box-sizing: border-box;
  border-width: 1px;
  border-style: solid;
  border-color: transparent;
  width: 100%;
  padding: 5px;
  /* This acts as a spacer between cells, that is outside the border */
  margin: 0px;
  outline: none;
  position: relative;
  overflow: visible;
}
div.cell:before {
  position: absolute;
  display: block;
  top: -1px;
  left: -1px;
  width: 5px;
  height: calc(100% +  2px);
  content: '';
  background: transparent;
}
div.cell.jupyter-soft-selected {
  border-left-color: #E3F2FD;
  border-left-width: 1px;
  padding-left: 5px;
  border-right-color: #E3F2FD;
  border-right-width: 1px;
  background: #E3F2FD;
}
@media print {
  div.cell.jupyter-soft-selected {
    border-color: transparent;
  }
}
div.cell.selected,
div.cell.selected.jupyter-soft-selected {
  border-color: #ababab;
}
div.cell.selected:before,
div.cell.selected.jupyter-soft-selected:before {
  position: absolute;
  display: block;
  top: -1px;
  left: -1px;
  width: 5px;
  height: calc(100% +  2px);
  content: '';
  background: #42A5F5;
}
@media print {
  div.cell.selected,
  div.cell.selected.jupyter-soft-selected {
    border-color: transparent;
  }
}
.edit_mode div.cell.selected {
  border-color: #66BB6A;
}
.edit_mode div.cell.selected:before {
  position: absolute;
  display: block;
  top: -1px;
  left: -1px;
  width: 5px;
  height: calc(100% +  2px);
  content: '';
  background: #66BB6A;
}
@media print {
  .edit_mode div.cell.selected {
    border-color: transparent;
  }
}
.prompt {
  /* This needs to be wide enough for 3 digit prompt numbers: In[100]: */
  min-width: 14ex;
  /* This padding is tuned to match the padding on the CodeMirror editor. */
  padding: 0.4em;
  margin: 0px;
  font-family: monospace;
  text-align: right;
  /* This has to match that of the the CodeMirror class line-height below */
  line-height: 1.21429em;
  /* Don't highlight prompt number selection */
  -webkit-touch-callout: none;
  -webkit-user-select: none;
  -khtml-user-select: none;
  -moz-user-select: none;
  -ms-user-select: none;
  user-select: none;
  /* Use default cursor */
  cursor: default;
}
@media (max-width: 540px) {
  .prompt {
    text-align: left;
  }
}
div.inner_cell {
  min-width: 0;
  /* Old browsers */
  display: -webkit-box;
  -webkit-box-orient: vertical;
  -webkit-box-align: stretch;
  display: -moz-box;
  -moz-box-orient: vertical;
  -moz-box-align: stretch;
  display: box;
  box-orient: vertical;
  box-align: stretch;
  /* Modern browsers */
  display: flex;
  flex-direction: column;
  align-items: stretch;
  /* Old browsers */
  -webkit-box-flex: 1;
  -moz-box-flex: 1;
  box-flex: 1;
  /* Modern browsers */
  flex: 1;
}
/* input_area and input_prompt must match in top border and margin for alignment */
div.input_area {
  border: 1px solid #cfcfcf;
  border-radius: 2px;
  background: #f7f7f7;
  line-height: 1.21429em;
}
/* This is needed so that empty prompt areas can collapse to zero height when there
   is no content in the output_subarea and the prompt. The main purpose of this is
   to make sure that empty JavaScript output_subareas have no height. */
div.prompt:empty {
  padding-top: 0;
  padding-bottom: 0;
}
div.unrecognized_cell {
  padding: 5px 5px 5px 0px;
  /* Old browsers */
  display: -webkit-box;
  -webkit-box-orient: horizontal;
  -webkit-box-align: stretch;
  display: -moz-box;
  -moz-box-orient: horizontal;
  -moz-box-align: stretch;
  display: box;
  box-orient: horizontal;
  box-align: stretch;
  /* Modern browsers */
  display: flex;
  flex-direction: row;
  align-items: stretch;
}
div.unrecognized_cell .inner_cell {
  border-radius: 2px;
  padding: 5px;
  font-weight: bold;
  color: red;
  border: 1px solid #cfcfcf;
  background: #eaeaea;
}
div.unrecognized_cell .inner_cell a {
  color: inherit;
  text-decoration: none;
}
div.unrecognized_cell .inner_cell a:hover {
  color: inherit;
  text-decoration: none;
}
@media (max-width: 540px) {
  div.unrecognized_cell > div.prompt {
    display: none;
  }
}
div.code_cell {
  /* avoid page breaking on code cells when printing */
}
@media print {
  div.code_cell {
    page-break-inside: avoid;
  }
}
/* any special styling for code cells that are currently running goes here */
div.input {
  page-break-inside: avoid;
  /* Old browsers */
  display: -webkit-box;
  -webkit-box-orient: horizontal;
  -webkit-box-align: stretch;
  display: -moz-box;
  -moz-box-orient: horizontal;
  -moz-box-align: stretch;
  display: box;
  box-orient: horizontal;
  box-align: stretch;
  /* Modern browsers */
  display: flex;
  flex-direction: row;
  align-items: stretch;
}
@media (max-width: 540px) {
  div.input {
    /* Old browsers */
    display: -webkit-box;
    -webkit-box-orient: vertical;
    -webkit-box-align: stretch;
    display: -moz-box;
    -moz-box-orient: vertical;
    -moz-box-align: stretch;
    display: box;
    box-orient: vertical;
    box-align: stretch;
    /* Modern browsers */
    display: flex;
    flex-direction: column;
    align-items: stretch;
  }
}
/* input_area and input_prompt must match in top border and margin for alignment */
div.input_prompt {
  color: #303F9F;
  border-top: 1px solid transparent;
}
div.input_area > div.highlight {
  margin: 0.4em;
  border: none;
  padding: 0px;
  background-color: transparent;
}
div.input_area > div.highlight > pre {
  margin: 0px;
  border: none;
  padding: 0px;
  background-color: transparent;
}
/* The following gets added to the <head> if it is detected that the user has a
 * monospace font with inconsistent normal/bold/italic height.  See
 * notebookmain.js.  Such fonts will have keywords vertically offset with
 * respect to the rest of the text.  The user should select a better font.
 * See: https://github.com/ipython/ipython/issues/1503
 *
 * .CodeMirror span {
 *      vertical-align: bottom;
 * }
 */
.CodeMirror {
  line-height: 1.21429em;
  /* Changed from 1em to our global default */
  font-size: 14px;
  height: auto;
  /* Changed to auto to autogrow */
  background: none;
  /* Changed from white to allow our bg to show through */
}
.CodeMirror-scroll {
  /*  The CodeMirror docs are a bit fuzzy on if overflow-y should be hidden or visible.*/
  /*  We have found that if it is visible, vertical scrollbars appear with font size changes.*/
  overflow-y: hidden;
  overflow-x: auto;
}
.CodeMirror-lines {
  /* In CM2, this used to be 0.4em, but in CM3 it went to 4px. We need the em value because */
  /* we have set a different line-height and want this to scale with that. */
  /* Note that this should set vertical padding only, since CodeMirror assumes
       that horizontal padding will be set on CodeMirror pre */
  padding: 0.4em 0;
}
.CodeMirror-linenumber {
  padding: 0 8px 0 4px;
}
.CodeMirror-gutters {
  border-bottom-left-radius: 2px;
  border-top-left-radius: 2px;
}
.CodeMirror pre {
  /* In CM3 this went to 4px from 0 in CM2. This sets horizontal padding only,
    use .CodeMirror-lines for vertical */
  padding: 0 0.4em;
  border: 0;
  border-radius: 0;
}
.CodeMirror-cursor {
  border-left: 1.4px solid black;
}
@media screen and (min-width: 2138px) and (max-width: 4319px) {
  .CodeMirror-cursor {
    border-left: 2px solid black;
  }
}
@media screen and (min-width: 4320px) {
  .CodeMirror-cursor {
    border-left: 4px solid black;
  }
}
/*

Original style from softwaremaniacs.org (c) Ivan Sagalaev <Maniac@SoftwareManiacs.Org>
Adapted from GitHub theme

*/
.highlight-base {
  color: #000;
}
.highlight-variable {
  color: #000;
}
.highlight-variable-2 {
  color: #1a1a1a;
}
.highlight-variable-3 {
  color: #333333;
}
.highlight-string {
  color: #BA2121;
}
.highlight-comment {
  color: #408080;
  font-style: italic;
}
.highlight-number {
  color: #080;
}
.highlight-atom {
  color: #88F;
}
.highlight-keyword {
  color: #008000;
  font-weight: bold;
}
.highlight-builtin {
  color: #008000;
}
.highlight-error {
  color: #f00;
}
.highlight-operator {
  color: #AA22FF;
  font-weight: bold;
}
.highlight-meta {
  color: #AA22FF;
}
/* previously not defined, copying from default codemirror */
.highlight-def {
  color: #00f;
}
.highlight-string-2 {
  color: #f50;
}
.highlight-qualifier {
  color: #555;
}
.highlight-bracket {
  color: #997;
}
.highlight-tag {
  color: #170;
}
.highlight-attribute {
  color: #00c;
}
.highlight-header {
  color: blue;
}
.highlight-quote {
  color: #090;
}
.highlight-link {
  color: #00c;
}
/* apply the same style to codemirror */
.cm-s-ipython span.cm-keyword {
  color: #008000;
  font-weight: bold;
}
.cm-s-ipython span.cm-atom {
  color: #88F;
}
.cm-s-ipython span.cm-number {
  color: #080;
}
.cm-s-ipython span.cm-def {
  color: #00f;
}
.cm-s-ipython span.cm-variable {
  color: #000;
}
.cm-s-ipython span.cm-operator {
  color: #AA22FF;
  font-weight: bold;
}
.cm-s-ipython span.cm-variable-2 {
  color: #1a1a1a;
}
.cm-s-ipython span.cm-variable-3 {
  color: #333333;
}
.cm-s-ipython span.cm-comment {
  color: #408080;
  font-style: italic;
}
.cm-s-ipython span.cm-string {
  color: #BA2121;
}
.cm-s-ipython span.cm-string-2 {
  color: #f50;
}
.cm-s-ipython span.cm-meta {
  color: #AA22FF;
}
.cm-s-ipython span.cm-qualifier {
  color: #555;
}
.cm-s-ipython span.cm-builtin {
  color: #008000;
}
.cm-s-ipython span.cm-bracket {
  color: #997;
}
.cm-s-ipython span.cm-tag {
  color: #170;
}
.cm-s-ipython span.cm-attribute {
  color: #00c;
}
.cm-s-ipython span.cm-header {
  color: blue;
}
.cm-s-ipython span.cm-quote {
  color: #090;
}
.cm-s-ipython span.cm-link {
  color: #00c;
}
.cm-s-ipython span.cm-error {
  color: #f00;
}
.cm-s-ipython span.cm-tab {
  background: url(data:image/png;base64,iVBORw0KGgoAAAANSUhEUgAAADAAAAAMCAYAAAAkuj5RAAAAAXNSR0IArs4c6QAAAGFJREFUSMft1LsRQFAQheHPowAKoACx3IgEKtaEHujDjORSgWTH/ZOdnZOcM/sgk/kFFWY0qV8foQwS4MKBCS3qR6ixBJvElOobYAtivseIE120FaowJPN75GMu8j/LfMwNjh4HUpwg4LUAAAAASUVORK5CYII=);
  background-position: right;
  background-repeat: no-repeat;
}
div.output_wrapper {
  /* this position must be relative to enable descendents to be absolute within it */
  position: relative;
  /* Old browsers */
  display: -webkit-box;
  -webkit-box-orient: vertical;
  -webkit-box-align: stretch;
  display: -moz-box;
  -moz-box-orient: vertical;
  -moz-box-align: stretch;
  display: box;
  box-orient: vertical;
  box-align: stretch;
  /* Modern browsers */
  display: flex;
  flex-direction: column;
  align-items: stretch;
  z-index: 1;
}
/* class for the output area when it should be height-limited */
div.output_scroll {
  /* ideally, this would be max-height, but FF barfs all over that */
  height: 24em;
  /* FF needs this *and the wrapper* to specify full width, or it will shrinkwrap */
  width: 100%;
  overflow: auto;
  border-radius: 2px;
  -webkit-box-shadow: inset 0 2px 8px rgba(0, 0, 0, 0.8);
  box-shadow: inset 0 2px 8px rgba(0, 0, 0, 0.8);
  display: block;
}
/* output div while it is collapsed */
div.output_collapsed {
  margin: 0px;
  padding: 0px;
  /* Old browsers */
  display: -webkit-box;
  -webkit-box-orient: vertical;
  -webkit-box-align: stretch;
  display: -moz-box;
  -moz-box-orient: vertical;
  -moz-box-align: stretch;
  display: box;
  box-orient: vertical;
  box-align: stretch;
  /* Modern browsers */
  display: flex;
  flex-direction: column;
  align-items: stretch;
}
div.out_prompt_overlay {
  height: 100%;
  padding: 0px 0.4em;
  position: absolute;
  border-radius: 2px;
}
div.out_prompt_overlay:hover {
  /* use inner shadow to get border that is computed the same on WebKit/FF */
  -webkit-box-shadow: inset 0 0 1px #000;
  box-shadow: inset 0 0 1px #000;
  background: rgba(240, 240, 240, 0.5);
}
div.output_prompt {
  color: #D84315;
}
/* This class is the outer container of all output sections. */
div.output_area {
  padding: 0px;
  page-break-inside: avoid;
  /* Old browsers */
  display: -webkit-box;
  -webkit-box-orient: horizontal;
  -webkit-box-align: stretch;
  display: -moz-box;
  -moz-box-orient: horizontal;
  -moz-box-align: stretch;
  display: box;
  box-orient: horizontal;
  box-align: stretch;
  /* Modern browsers */
  display: flex;
  flex-direction: row;
  align-items: stretch;
}
div.output_area .MathJax_Display {
  text-align: left !important;
}
div.output_area .rendered_html table {
  margin-left: 0;
  margin-right: 0;
}
div.output_area .rendered_html img {
  margin-left: 0;
  margin-right: 0;
}
div.output_area img,
div.output_area svg {
  max-width: 100%;
  height: auto;
}
div.output_area img.unconfined,
div.output_area svg.unconfined {
  max-width: none;
}
div.output_area .mglyph > img {
  max-width: none;
}
/* This is needed to protect the pre formating from global settings such
   as that of bootstrap */
.output {
  /* Old browsers */
  display: -webkit-box;
  -webkit-box-orient: vertical;
  -webkit-box-align: stretch;
  display: -moz-box;
  -moz-box-orient: vertical;
  -moz-box-align: stretch;
  display: box;
  box-orient: vertical;
  box-align: stretch;
  /* Modern browsers */
  display: flex;
  flex-direction: column;
  align-items: stretch;
}
@media (max-width: 540px) {
  div.output_area {
    /* Old browsers */
    display: -webkit-box;
    -webkit-box-orient: vertical;
    -webkit-box-align: stretch;
    display: -moz-box;
    -moz-box-orient: vertical;
    -moz-box-align: stretch;
    display: box;
    box-orient: vertical;
    box-align: stretch;
    /* Modern browsers */
    display: flex;
    flex-direction: column;
    align-items: stretch;
  }
}
div.output_area pre {
  margin: 0;
  padding: 1px 0 1px 0;
  border: 0;
  vertical-align: baseline;
  color: black;
  background-color: transparent;
  border-radius: 0;
}
/* This class is for the output subarea inside the output_area and after
   the prompt div. */
div.output_subarea {
  overflow-x: auto;
  padding: 0.4em;
  /* Old browsers */
  -webkit-box-flex: 1;
  -moz-box-flex: 1;
  box-flex: 1;
  /* Modern browsers */
  flex: 1;
  max-width: calc(100% - 14ex);
}
div.output_scroll div.output_subarea {
  overflow-x: visible;
}
/* The rest of the output_* classes are for special styling of the different
   output types */
/* all text output has this class: */
div.output_text {
  text-align: left;
  color: #000;
  /* This has to match that of the the CodeMirror class line-height below */
  line-height: 1.21429em;
}
/* stdout/stderr are 'text' as well as 'stream', but execute_result/error are *not* streams */
div.output_stderr {
  background: #fdd;
  /* very light red background for stderr */
}
div.output_latex {
  text-align: left;
}
/* Empty output_javascript divs should have no height */
div.output_javascript:empty {
  padding: 0;
}
.js-error {
  color: darkred;
}
/* raw_input styles */
div.raw_input_container {
  line-height: 1.21429em;
  padding-top: 5px;
}
pre.raw_input_prompt {
  /* nothing needed here. */
}
input.raw_input {
  font-family: monospace;
  font-size: inherit;
  color: inherit;
  width: auto;
  /* make sure input baseline aligns with prompt */
  vertical-align: baseline;
  /* padding + margin = 0.5em between prompt and cursor */
  padding: 0em 0.25em;
  margin: 0em 0.25em;
}
input.raw_input:focus {
  box-shadow: none;
}
p.p-space {
  margin-bottom: 10px;
}
div.output_unrecognized {
  padding: 5px;
  font-weight: bold;
  color: red;
}
div.output_unrecognized a {
  color: inherit;
  text-decoration: none;
}
div.output_unrecognized a:hover {
  color: inherit;
  text-decoration: none;
}
.rendered_html {
  color: #000;
  /* any extras will just be numbers: */
}
.rendered_html em {
  font-style: italic;
}
.rendered_html strong {
  font-weight: bold;
}
.rendered_html u {
  text-decoration: underline;
}
.rendered_html :link {
  text-decoration: underline;
}
.rendered_html :visited {
  text-decoration: underline;
}
.rendered_html h1 {
  font-size: 185.7%;
  margin: 1.08em 0 0 0;
  font-weight: bold;
  line-height: 1.0;
}
.rendered_html h2 {
  font-size: 157.1%;
  margin: 1.27em 0 0 0;
  font-weight: bold;
  line-height: 1.0;
}
.rendered_html h3 {
  font-size: 128.6%;
  margin: 1.55em 0 0 0;
  font-weight: bold;
  line-height: 1.0;
}
.rendered_html h4 {
  font-size: 100%;
  margin: 2em 0 0 0;
  font-weight: bold;
  line-height: 1.0;
}
.rendered_html h5 {
  font-size: 100%;
  margin: 2em 0 0 0;
  font-weight: bold;
  line-height: 1.0;
  font-style: italic;
}
.rendered_html h6 {
  font-size: 100%;
  margin: 2em 0 0 0;
  font-weight: bold;
  line-height: 1.0;
  font-style: italic;
}
.rendered_html h1:first-child {
  margin-top: 0.538em;
}
.rendered_html h2:first-child {
  margin-top: 0.636em;
}
.rendered_html h3:first-child {
  margin-top: 0.777em;
}
.rendered_html h4:first-child {
  margin-top: 1em;
}
.rendered_html h5:first-child {
  margin-top: 1em;
}
.rendered_html h6:first-child {
  margin-top: 1em;
}
.rendered_html ul:not(.list-inline),
.rendered_html ol:not(.list-inline) {
  padding-left: 2em;
}
.rendered_html ul {
  list-style: disc;
}
.rendered_html ul ul {
  list-style: square;
  margin-top: 0;
}
.rendered_html ul ul ul {
  list-style: circle;
}
.rendered_html ol {
  list-style: decimal;
}
.rendered_html ol ol {
  list-style: upper-alpha;
  margin-top: 0;
}
.rendered_html ol ol ol {
  list-style: lower-alpha;
}
.rendered_html ol ol ol ol {
  list-style: lower-roman;
}
.rendered_html ol ol ol ol ol {
  list-style: decimal;
}
.rendered_html * + ul {
  margin-top: 1em;
}
.rendered_html * + ol {
  margin-top: 1em;
}
.rendered_html hr {
  color: black;
  background-color: black;
}
.rendered_html pre {
  margin: 1em 2em;
  padding: 0px;
  background-color: #fff;
}
.rendered_html code {
  background-color: #eff0f1;
}
.rendered_html p code {
  padding: 1px 5px;
}
.rendered_html pre code {
  background-color: #fff;
}
.rendered_html pre,
.rendered_html code {
  border: 0;
  color: #000;
  font-size: 100%;
}
.rendered_html blockquote {
  margin: 1em 2em;
}
.rendered_html table {
  margin-left: auto;
  margin-right: auto;
  border: none;
  border-collapse: collapse;
  border-spacing: 0;
  color: black;
  font-size: 12px;
  table-layout: fixed;
}
.rendered_html thead {
  border-bottom: 1px solid black;
  vertical-align: bottom;
}
.rendered_html tr,
.rendered_html th,
.rendered_html td {
  text-align: right;
  vertical-align: middle;
  padding: 0.5em 0.5em;
  line-height: normal;
  white-space: normal;
  max-width: none;
  border: none;
}
.rendered_html th {
  font-weight: bold;
}
.rendered_html tbody tr:nth-child(odd) {
  background: #f5f5f5;
}
.rendered_html tbody tr:hover {
  background: rgba(66, 165, 245, 0.2);
}
.rendered_html * + table {
  margin-top: 1em;
}
.rendered_html p {
  text-align: left;
}
.rendered_html * + p {
  margin-top: 1em;
}
.rendered_html img {
  display: block;
  margin-left: auto;
  margin-right: auto;
}
.rendered_html * + img {
  margin-top: 1em;
}
.rendered_html img,
.rendered_html svg {
  max-width: 100%;
  height: auto;
}
.rendered_html img.unconfined,
.rendered_html svg.unconfined {
  max-width: none;
}
.rendered_html .alert {
  margin-bottom: initial;
}
.rendered_html * + .alert {
  margin-top: 1em;
}
[dir="rtl"] .rendered_html p {
  text-align: right;
}
div.text_cell {
  /* Old browsers */
  display: -webkit-box;
  -webkit-box-orient: horizontal;
  -webkit-box-align: stretch;
  display: -moz-box;
  -moz-box-orient: horizontal;
  -moz-box-align: stretch;
  display: box;
  box-orient: horizontal;
  box-align: stretch;
  /* Modern browsers */
  display: flex;
  flex-direction: row;
  align-items: stretch;
}
@media (max-width: 540px) {
  div.text_cell > div.prompt {
    display: none;
  }
}
div.text_cell_render {
  /*font-family: "Helvetica Neue", Arial, Helvetica, Geneva, sans-serif;*/
  outline: none;
  resize: none;
  width: inherit;
  border-style: none;
  padding: 0.5em 0.5em 0.5em 0.4em;
  color: #000;
  box-sizing: border-box;
  -moz-box-sizing: border-box;
  -webkit-box-sizing: border-box;
}
a.anchor-link:link {
  text-decoration: none;
  padding: 0px 20px;
  visibility: hidden;
}
h1:hover .anchor-link,
h2:hover .anchor-link,
h3:hover .anchor-link,
h4:hover .anchor-link,
h5:hover .anchor-link,
h6:hover .anchor-link {
  visibility: visible;
}
.text_cell.rendered .input_area {
  display: none;
}
.text_cell.rendered .rendered_html {
  overflow-x: auto;
  overflow-y: hidden;
}
.text_cell.rendered .rendered_html tr,
.text_cell.rendered .rendered_html th,
.text_cell.rendered .rendered_html td {
  max-width: none;
}
.text_cell.unrendered .text_cell_render {
  display: none;
}
.text_cell .dropzone .input_area {
  border: 2px dashed #bababa;
  margin: -1px;
}
.cm-header-1,
.cm-header-2,
.cm-header-3,
.cm-header-4,
.cm-header-5,
.cm-header-6 {
  font-weight: bold;
  font-family: "Helvetica Neue", Helvetica, Arial, sans-serif;
}
.cm-header-1 {
  font-size: 185.7%;
}
.cm-header-2 {
  font-size: 157.1%;
}
.cm-header-3 {
  font-size: 128.6%;
}
.cm-header-4 {
  font-size: 110%;
}
.cm-header-5 {
  font-size: 100%;
  font-style: italic;
}
.cm-header-6 {
  font-size: 100%;
  font-style: italic;
}
/*!
*
* IPython notebook webapp
*
*/
@media (max-width: 767px) {
  .notebook_app {
    padding-left: 0px;
    padding-right: 0px;
  }
}
#ipython-main-app {
  box-sizing: border-box;
  -moz-box-sizing: border-box;
  -webkit-box-sizing: border-box;
  height: 100%;
}
div#notebook_panel {
  margin: 0px;
  padding: 0px;
  box-sizing: border-box;
  -moz-box-sizing: border-box;
  -webkit-box-sizing: border-box;
  height: 100%;
}
div#notebook {
  font-size: 14px;
  line-height: 20px;
  overflow-y: hidden;
  overflow-x: auto;
  width: 100%;
  /* This spaces the page away from the edge of the notebook area */
  padding-top: 20px;
  margin: 0px;
  outline: none;
  box-sizing: border-box;
  -moz-box-sizing: border-box;
  -webkit-box-sizing: border-box;
  min-height: 100%;
}
@media not print {
  #notebook-container {
    padding: 15px;
    background-color: #fff;
    min-height: 0;
    -webkit-box-shadow: 0px 0px 12px 1px rgba(87, 87, 87, 0.2);
    box-shadow: 0px 0px 12px 1px rgba(87, 87, 87, 0.2);
  }
}
@media print {
  #notebook-container {
    width: 100%;
  }
}
div.ui-widget-content {
  border: 1px solid #ababab;
  outline: none;
}
pre.dialog {
  background-color: #f7f7f7;
  border: 1px solid #ddd;
  border-radius: 2px;
  padding: 0.4em;
  padding-left: 2em;
}
p.dialog {
  padding: 0.2em;
}
/* Word-wrap output correctly.  This is the CSS3 spelling, though Firefox seems
   to not honor it correctly.  Webkit browsers (Chrome, rekonq, Safari) do.
 */
pre,
code,
kbd,
samp {
  white-space: pre-wrap;
}
#fonttest {
  font-family: monospace;
}
p {
  margin-bottom: 0;
}
.end_space {
  min-height: 100px;
  transition: height .2s ease;
}
.notebook_app > #header {
  -webkit-box-shadow: 0px 0px 12px 1px rgba(87, 87, 87, 0.2);
  box-shadow: 0px 0px 12px 1px rgba(87, 87, 87, 0.2);
}
@media not print {
  .notebook_app {
    background-color: #EEE;
  }
}
kbd {
  border-style: solid;
  border-width: 1px;
  box-shadow: none;
  margin: 2px;
  padding-left: 2px;
  padding-right: 2px;
  padding-top: 1px;
  padding-bottom: 1px;
}
.jupyter-keybindings {
  padding: 1px;
  line-height: 24px;
  border-bottom: 1px solid gray;
}
.jupyter-keybindings input {
  margin: 0;
  padding: 0;
  border: none;
}
.jupyter-keybindings i {
  padding: 6px;
}
.well code {
  background-color: #ffffff;
  border-color: #ababab;
  border-width: 1px;
  border-style: solid;
  padding: 2px;
  padding-top: 1px;
  padding-bottom: 1px;
}
/* CSS for the cell toolbar */
.celltoolbar {
  border: thin solid #CFCFCF;
  border-bottom: none;
  background: #EEE;
  border-radius: 2px 2px 0px 0px;
  width: 100%;
  height: 29px;
  padding-right: 4px;
  /* Old browsers */
  display: -webkit-box;
  -webkit-box-orient: horizontal;
  -webkit-box-align: stretch;
  display: -moz-box;
  -moz-box-orient: horizontal;
  -moz-box-align: stretch;
  display: box;
  box-orient: horizontal;
  box-align: stretch;
  /* Modern browsers */
  display: flex;
  flex-direction: row;
  align-items: stretch;
  /* Old browsers */
  -webkit-box-pack: end;
  -moz-box-pack: end;
  box-pack: end;
  /* Modern browsers */
  justify-content: flex-end;
  display: -webkit-flex;
}
@media print {
  .celltoolbar {
    display: none;
  }
}
.ctb_hideshow {
  display: none;
  vertical-align: bottom;
}
/* ctb_show is added to the ctb_hideshow div to show the cell toolbar.
   Cell toolbars are only shown when the ctb_global_show class is also set.
*/
.ctb_global_show .ctb_show.ctb_hideshow {
  display: block;
}
.ctb_global_show .ctb_show + .input_area,
.ctb_global_show .ctb_show + div.text_cell_input,
.ctb_global_show .ctb_show ~ div.text_cell_render {
  border-top-right-radius: 0px;
  border-top-left-radius: 0px;
}
.ctb_global_show .ctb_show ~ div.text_cell_render {
  border: 1px solid #cfcfcf;
}
.celltoolbar {
  font-size: 87%;
  padding-top: 3px;
}
.celltoolbar select {
  display: block;
  width: 100%;
  height: 32px;
  padding: 6px 12px;
  font-size: 13px;
  line-height: 1.42857143;
  color: #555555;
  background-color: #fff;
  background-image: none;
  border: 1px solid #ccc;
  border-radius: 2px;
  -webkit-box-shadow: inset 0 1px 1px rgba(0, 0, 0, 0.075);
  box-shadow: inset 0 1px 1px rgba(0, 0, 0, 0.075);
  -webkit-transition: border-color ease-in-out .15s, box-shadow ease-in-out .15s;
  -o-transition: border-color ease-in-out .15s, box-shadow ease-in-out .15s;
  transition: border-color ease-in-out .15s, box-shadow ease-in-out .15s;
  height: 30px;
  padding: 5px 10px;
  font-size: 12px;
  line-height: 1.5;
  border-radius: 1px;
  width: inherit;
  font-size: inherit;
  height: 22px;
  padding: 0px;
  display: inline-block;
}
.celltoolbar select:focus {
  border-color: #66afe9;
  outline: 0;
  -webkit-box-shadow: inset 0 1px 1px rgba(0,0,0,.075), 0 0 8px rgba(102, 175, 233, 0.6);
  box-shadow: inset 0 1px 1px rgba(0,0,0,.075), 0 0 8px rgba(102, 175, 233, 0.6);
}
.celltoolbar select::-moz-placeholder {
  color: #999;
  opacity: 1;
}
.celltoolbar select:-ms-input-placeholder {
  color: #999;
}
.celltoolbar select::-webkit-input-placeholder {
  color: #999;
}
.celltoolbar select::-ms-expand {
  border: 0;
  background-color: transparent;
}
.celltoolbar select[disabled],
.celltoolbar select[readonly],
fieldset[disabled] .celltoolbar select {
  background-color: #eeeeee;
  opacity: 1;
}
.celltoolbar select[disabled],
fieldset[disabled] .celltoolbar select {
  cursor: not-allowed;
}
textarea.celltoolbar select {
  height: auto;
}
select.celltoolbar select {
  height: 30px;
  line-height: 30px;
}
textarea.celltoolbar select,
select[multiple].celltoolbar select {
  height: auto;
}
.celltoolbar label {
  margin-left: 5px;
  margin-right: 5px;
}
.tags_button_container {
  width: 100%;
  display: flex;
}
.tag-container {
  display: flex;
  flex-direction: row;
  flex-grow: 1;
  overflow: hidden;
  position: relative;
}
.tag-container > * {
  margin: 0 4px;
}
.remove-tag-btn {
  margin-left: 4px;
}
.tags-input {
  display: flex;
}
.cell-tag:last-child:after {
  content: "";
  position: absolute;
  right: 0;
  width: 40px;
  height: 100%;
  /* Fade to background color of cell toolbar */
  background: linear-gradient(to right, rgba(0, 0, 0, 0), #EEE);
}
.tags-input > * {
  margin-left: 4px;
}
.cell-tag,
.tags-input input,
.tags-input button {
  display: block;
  width: 100%;
  height: 32px;
  padding: 6px 12px;
  font-size: 13px;
  line-height: 1.42857143;
  color: #555555;
  background-color: #fff;
  background-image: none;
  border: 1px solid #ccc;
  border-radius: 2px;
  -webkit-box-shadow: inset 0 1px 1px rgba(0, 0, 0, 0.075);
  box-shadow: inset 0 1px 1px rgba(0, 0, 0, 0.075);
  -webkit-transition: border-color ease-in-out .15s, box-shadow ease-in-out .15s;
  -o-transition: border-color ease-in-out .15s, box-shadow ease-in-out .15s;
  transition: border-color ease-in-out .15s, box-shadow ease-in-out .15s;
  height: 30px;
  padding: 5px 10px;
  font-size: 12px;
  line-height: 1.5;
  border-radius: 1px;
  box-shadow: none;
  width: inherit;
  font-size: inherit;
  height: 22px;
  line-height: 22px;
  padding: 0px 4px;
  display: inline-block;
}
.cell-tag:focus,
.tags-input input:focus,
.tags-input button:focus {
  border-color: #66afe9;
  outline: 0;
  -webkit-box-shadow: inset 0 1px 1px rgba(0,0,0,.075), 0 0 8px rgba(102, 175, 233, 0.6);
  box-shadow: inset 0 1px 1px rgba(0,0,0,.075), 0 0 8px rgba(102, 175, 233, 0.6);
}
.cell-tag::-moz-placeholder,
.tags-input input::-moz-placeholder,
.tags-input button::-moz-placeholder {
  color: #999;
  opacity: 1;
}
.cell-tag:-ms-input-placeholder,
.tags-input input:-ms-input-placeholder,
.tags-input button:-ms-input-placeholder {
  color: #999;
}
.cell-tag::-webkit-input-placeholder,
.tags-input input::-webkit-input-placeholder,
.tags-input button::-webkit-input-placeholder {
  color: #999;
}
.cell-tag::-ms-expand,
.tags-input input::-ms-expand,
.tags-input button::-ms-expand {
  border: 0;
  background-color: transparent;
}
.cell-tag[disabled],
.tags-input input[disabled],
.tags-input button[disabled],
.cell-tag[readonly],
.tags-input input[readonly],
.tags-input button[readonly],
fieldset[disabled] .cell-tag,
fieldset[disabled] .tags-input input,
fieldset[disabled] .tags-input button {
  background-color: #eeeeee;
  opacity: 1;
}
.cell-tag[disabled],
.tags-input input[disabled],
.tags-input button[disabled],
fieldset[disabled] .cell-tag,
fieldset[disabled] .tags-input input,
fieldset[disabled] .tags-input button {
  cursor: not-allowed;
}
textarea.cell-tag,
textarea.tags-input input,
textarea.tags-input button {
  height: auto;
}
select.cell-tag,
select.tags-input input,
select.tags-input button {
  height: 30px;
  line-height: 30px;
}
textarea.cell-tag,
textarea.tags-input input,
textarea.tags-input button,
select[multiple].cell-tag,
select[multiple].tags-input input,
select[multiple].tags-input button {
  height: auto;
}
.cell-tag,
.tags-input button {
  padding: 0px 4px;
}
.cell-tag {
  background-color: #fff;
  white-space: nowrap;
}
.tags-input input[type=text]:focus {
  outline: none;
  box-shadow: none;
  border-color: #ccc;
}
.completions {
  position: absolute;
  z-index: 110;
  overflow: hidden;
  border: 1px solid #ababab;
  border-radius: 2px;
  -webkit-box-shadow: 0px 6px 10px -1px #adadad;
  box-shadow: 0px 6px 10px -1px #adadad;
  line-height: 1;
}
.completions select {
  background: white;
  outline: none;
  border: none;
  padding: 0px;
  margin: 0px;
  overflow: auto;
  font-family: monospace;
  font-size: 110%;
  color: #000;
  width: auto;
}
.completions select option.context {
  color: #286090;
}
#kernel_logo_widget .current_kernel_logo {
  display: none;
  margin-top: -1px;
  margin-bottom: -1px;
  width: 32px;
  height: 32px;
}
[dir="rtl"] #kernel_logo_widget {
  float: left !important;
  float: left;
}
.modal .modal-body .move-path {
  display: flex;
  flex-direction: row;
  justify-content: space;
  align-items: center;
}
.modal .modal-body .move-path .server-root {
  padding-right: 20px;
}
.modal .modal-body .move-path .path-input {
  flex: 1;
}
#menubar {
  box-sizing: border-box;
  -moz-box-sizing: border-box;
  -webkit-box-sizing: border-box;
  margin-top: 1px;
}
#menubar .navbar {
  border-top: 1px;
  border-radius: 0px 0px 2px 2px;
  margin-bottom: 0px;
}
#menubar .navbar-toggle {
  float: left;
  padding-top: 7px;
  padding-bottom: 7px;
  border: none;
}
#menubar .navbar-collapse {
  clear: left;
}
[dir="rtl"] #menubar .navbar-toggle {
  float: right;
}
[dir="rtl"] #menubar .navbar-collapse {
  clear: right;
}
[dir="rtl"] #menubar .navbar-nav {
  float: right;
}
[dir="rtl"] #menubar .nav {
  padding-right: 0px;
}
[dir="rtl"] #menubar .navbar-nav > li {
  float: right;
}
[dir="rtl"] #menubar .navbar-right {
  float: left !important;
}
[dir="rtl"] ul.dropdown-menu {
  text-align: right;
  left: auto;
}
[dir="rtl"] ul#new-menu.dropdown-menu {
  right: auto;
  left: 0;
}
.nav-wrapper {
  border-bottom: 1px solid #e7e7e7;
}
i.menu-icon {
  padding-top: 4px;
}
[dir="rtl"] i.menu-icon.pull-right {
  float: left !important;
  float: left;
}
ul#help_menu li a {
  overflow: hidden;
  padding-right: 2.2em;
}
ul#help_menu li a i {
  margin-right: -1.2em;
}
[dir="rtl"] ul#help_menu li a {
  padding-left: 2.2em;
}
[dir="rtl"] ul#help_menu li a i {
  margin-right: 0;
  margin-left: -1.2em;
}
[dir="rtl"] ul#help_menu li a i.pull-right {
  float: left !important;
  float: left;
}
.dropdown-submenu {
  position: relative;
}
.dropdown-submenu > .dropdown-menu {
  top: 0;
  left: 100%;
  margin-top: -6px;
  margin-left: -1px;
}
[dir="rtl"] .dropdown-submenu > .dropdown-menu {
  right: 100%;
  margin-right: -1px;
}
.dropdown-submenu:hover > .dropdown-menu {
  display: block;
}
.dropdown-submenu > a:after {
  display: inline-block;
  font: normal normal normal 14px/1 FontAwesome;
  font-size: inherit;
  text-rendering: auto;
  -webkit-font-smoothing: antialiased;
  -moz-osx-font-smoothing: grayscale;
  display: block;
  content: "\f0da";
  float: right;
  color: #333333;
  margin-top: 2px;
  margin-right: -10px;
}
.dropdown-submenu > a:after.fa-pull-left {
  margin-right: .3em;
}
.dropdown-submenu > a:after.fa-pull-right {
  margin-left: .3em;
}
.dropdown-submenu > a:after.pull-left {
  margin-right: .3em;
}
.dropdown-submenu > a:after.pull-right {
  margin-left: .3em;
}
[dir="rtl"] .dropdown-submenu > a:after {
  float: left;
  content: "\f0d9";
  margin-right: 0;
  margin-left: -10px;
}
.dropdown-submenu:hover > a:after {
  color: #262626;
}
.dropdown-submenu.pull-left {
  float: none;
}
.dropdown-submenu.pull-left > .dropdown-menu {
  left: -100%;
  margin-left: 10px;
}
#notification_area {
  float: right !important;
  float: right;
  z-index: 10;
}
[dir="rtl"] #notification_area {
  float: left !important;
  float: left;
}
.indicator_area {
  float: right !important;
  float: right;
  color: #777;
  margin-left: 5px;
  margin-right: 5px;
  width: 11px;
  z-index: 10;
  text-align: center;
  width: auto;
}
[dir="rtl"] .indicator_area {
  float: left !important;
  float: left;
}
#kernel_indicator {
  float: right !important;
  float: right;
  color: #777;
  margin-left: 5px;
  margin-right: 5px;
  width: 11px;
  z-index: 10;
  text-align: center;
  width: auto;
  border-left: 1px solid;
}
#kernel_indicator .kernel_indicator_name {
  padding-left: 5px;
  padding-right: 5px;
}
[dir="rtl"] #kernel_indicator {
  float: left !important;
  float: left;
  border-left: 0;
  border-right: 1px solid;
}
#modal_indicator {
  float: right !important;
  float: right;
  color: #777;
  margin-left: 5px;
  margin-right: 5px;
  width: 11px;
  z-index: 10;
  text-align: center;
  width: auto;
}
[dir="rtl"] #modal_indicator {
  float: left !important;
  float: left;
}
#readonly-indicator {
  float: right !important;
  float: right;
  color: #777;
  margin-left: 5px;
  margin-right: 5px;
  width: 11px;
  z-index: 10;
  text-align: center;
  width: auto;
  margin-top: 2px;
  margin-bottom: 0px;
  margin-left: 0px;
  margin-right: 0px;
  display: none;
}
.modal_indicator:before {
  width: 1.28571429em;
  text-align: center;
}
.edit_mode .modal_indicator:before {
  display: inline-block;
  font: normal normal normal 14px/1 FontAwesome;
  font-size: inherit;
  text-rendering: auto;
  -webkit-font-smoothing: antialiased;
  -moz-osx-font-smoothing: grayscale;
  content: "\f040";
}
.edit_mode .modal_indicator:before.fa-pull-left {
  margin-right: .3em;
}
.edit_mode .modal_indicator:before.fa-pull-right {
  margin-left: .3em;
}
.edit_mode .modal_indicator:before.pull-left {
  margin-right: .3em;
}
.edit_mode .modal_indicator:before.pull-right {
  margin-left: .3em;
}
.command_mode .modal_indicator:before {
  display: inline-block;
  font: normal normal normal 14px/1 FontAwesome;
  font-size: inherit;
  text-rendering: auto;
  -webkit-font-smoothing: antialiased;
  -moz-osx-font-smoothing: grayscale;
  content: ' ';
}
.command_mode .modal_indicator:before.fa-pull-left {
  margin-right: .3em;
}
.command_mode .modal_indicator:before.fa-pull-right {
  margin-left: .3em;
}
.command_mode .modal_indicator:before.pull-left {
  margin-right: .3em;
}
.command_mode .modal_indicator:before.pull-right {
  margin-left: .3em;
}
.kernel_idle_icon:before {
  display: inline-block;
  font: normal normal normal 14px/1 FontAwesome;
  font-size: inherit;
  text-rendering: auto;
  -webkit-font-smoothing: antialiased;
  -moz-osx-font-smoothing: grayscale;
  content: "\f10c";
}
.kernel_idle_icon:before.fa-pull-left {
  margin-right: .3em;
}
.kernel_idle_icon:before.fa-pull-right {
  margin-left: .3em;
}
.kernel_idle_icon:before.pull-left {
  margin-right: .3em;
}
.kernel_idle_icon:before.pull-right {
  margin-left: .3em;
}
.kernel_busy_icon:before {
  display: inline-block;
  font: normal normal normal 14px/1 FontAwesome;
  font-size: inherit;
  text-rendering: auto;
  -webkit-font-smoothing: antialiased;
  -moz-osx-font-smoothing: grayscale;
  content: "\f111";
}
.kernel_busy_icon:before.fa-pull-left {
  margin-right: .3em;
}
.kernel_busy_icon:before.fa-pull-right {
  margin-left: .3em;
}
.kernel_busy_icon:before.pull-left {
  margin-right: .3em;
}
.kernel_busy_icon:before.pull-right {
  margin-left: .3em;
}
.kernel_dead_icon:before {
  display: inline-block;
  font: normal normal normal 14px/1 FontAwesome;
  font-size: inherit;
  text-rendering: auto;
  -webkit-font-smoothing: antialiased;
  -moz-osx-font-smoothing: grayscale;
  content: "\f1e2";
}
.kernel_dead_icon:before.fa-pull-left {
  margin-right: .3em;
}
.kernel_dead_icon:before.fa-pull-right {
  margin-left: .3em;
}
.kernel_dead_icon:before.pull-left {
  margin-right: .3em;
}
.kernel_dead_icon:before.pull-right {
  margin-left: .3em;
}
.kernel_disconnected_icon:before {
  display: inline-block;
  font: normal normal normal 14px/1 FontAwesome;
  font-size: inherit;
  text-rendering: auto;
  -webkit-font-smoothing: antialiased;
  -moz-osx-font-smoothing: grayscale;
  content: "\f127";
}
.kernel_disconnected_icon:before.fa-pull-left {
  margin-right: .3em;
}
.kernel_disconnected_icon:before.fa-pull-right {
  margin-left: .3em;
}
.kernel_disconnected_icon:before.pull-left {
  margin-right: .3em;
}
.kernel_disconnected_icon:before.pull-right {
  margin-left: .3em;
}
.notification_widget {
  color: #777;
  z-index: 10;
  background: rgba(240, 240, 240, 0.5);
  margin-right: 4px;
  color: #333;
  background-color: #fff;
  border-color: #ccc;
}
.notification_widget:focus,
.notification_widget.focus {
  color: #333;
  background-color: #e6e6e6;
  border-color: #8c8c8c;
}
.notification_widget:hover {
  color: #333;
  background-color: #e6e6e6;
  border-color: #adadad;
}
.notification_widget:active,
.notification_widget.active,
.open > .dropdown-toggle.notification_widget {
  color: #333;
  background-color: #e6e6e6;
  border-color: #adadad;
}
.notification_widget:active:hover,
.notification_widget.active:hover,
.open > .dropdown-toggle.notification_widget:hover,
.notification_widget:active:focus,
.notification_widget.active:focus,
.open > .dropdown-toggle.notification_widget:focus,
.notification_widget:active.focus,
.notification_widget.active.focus,
.open > .dropdown-toggle.notification_widget.focus {
  color: #333;
  background-color: #d4d4d4;
  border-color: #8c8c8c;
}
.notification_widget:active,
.notification_widget.active,
.open > .dropdown-toggle.notification_widget {
  background-image: none;
}
.notification_widget.disabled:hover,
.notification_widget[disabled]:hover,
fieldset[disabled] .notification_widget:hover,
.notification_widget.disabled:focus,
.notification_widget[disabled]:focus,
fieldset[disabled] .notification_widget:focus,
.notification_widget.disabled.focus,
.notification_widget[disabled].focus,
fieldset[disabled] .notification_widget.focus {
  background-color: #fff;
  border-color: #ccc;
}
.notification_widget .badge {
  color: #fff;
  background-color: #333;
}
.notification_widget.warning {
  color: #fff;
  background-color: #f0ad4e;
  border-color: #eea236;
}
.notification_widget.warning:focus,
.notification_widget.warning.focus {
  color: #fff;
  background-color: #ec971f;
  border-color: #985f0d;
}
.notification_widget.warning:hover {
  color: #fff;
  background-color: #ec971f;
  border-color: #d58512;
}
.notification_widget.warning:active,
.notification_widget.warning.active,
.open > .dropdown-toggle.notification_widget.warning {
  color: #fff;
  background-color: #ec971f;
  border-color: #d58512;
}
.notification_widget.warning:active:hover,
.notification_widget.warning.active:hover,
.open > .dropdown-toggle.notification_widget.warning:hover,
.notification_widget.warning:active:focus,
.notification_widget.warning.active:focus,
.open > .dropdown-toggle.notification_widget.warning:focus,
.notification_widget.warning:active.focus,
.notification_widget.warning.active.focus,
.open > .dropdown-toggle.notification_widget.warning.focus {
  color: #fff;
  background-color: #d58512;
  border-color: #985f0d;
}
.notification_widget.warning:active,
.notification_widget.warning.active,
.open > .dropdown-toggle.notification_widget.warning {
  background-image: none;
}
.notification_widget.warning.disabled:hover,
.notification_widget.warning[disabled]:hover,
fieldset[disabled] .notification_widget.warning:hover,
.notification_widget.warning.disabled:focus,
.notification_widget.warning[disabled]:focus,
fieldset[disabled] .notification_widget.warning:focus,
.notification_widget.warning.disabled.focus,
.notification_widget.warning[disabled].focus,
fieldset[disabled] .notification_widget.warning.focus {
  background-color: #f0ad4e;
  border-color: #eea236;
}
.notification_widget.warning .badge {
  color: #f0ad4e;
  background-color: #fff;
}
.notification_widget.success {
  color: #fff;
  background-color: #5cb85c;
  border-color: #4cae4c;
}
.notification_widget.success:focus,
.notification_widget.success.focus {
  color: #fff;
  background-color: #449d44;
  border-color: #255625;
}
.notification_widget.success:hover {
  color: #fff;
  background-color: #449d44;
  border-color: #398439;
}
.notification_widget.success:active,
.notification_widget.success.active,
.open > .dropdown-toggle.notification_widget.success {
  color: #fff;
  background-color: #449d44;
  border-color: #398439;
}
.notification_widget.success:active:hover,
.notification_widget.success.active:hover,
.open > .dropdown-toggle.notification_widget.success:hover,
.notification_widget.success:active:focus,
.notification_widget.success.active:focus,
.open > .dropdown-toggle.notification_widget.success:focus,
.notification_widget.success:active.focus,
.notification_widget.success.active.focus,
.open > .dropdown-toggle.notification_widget.success.focus {
  color: #fff;
  background-color: #398439;
  border-color: #255625;
}
.notification_widget.success:active,
.notification_widget.success.active,
.open > .dropdown-toggle.notification_widget.success {
  background-image: none;
}
.notification_widget.success.disabled:hover,
.notification_widget.success[disabled]:hover,
fieldset[disabled] .notification_widget.success:hover,
.notification_widget.success.disabled:focus,
.notification_widget.success[disabled]:focus,
fieldset[disabled] .notification_widget.success:focus,
.notification_widget.success.disabled.focus,
.notification_widget.success[disabled].focus,
fieldset[disabled] .notification_widget.success.focus {
  background-color: #5cb85c;
  border-color: #4cae4c;
}
.notification_widget.success .badge {
  color: #5cb85c;
  background-color: #fff;
}
.notification_widget.info {
  color: #fff;
  background-color: #5bc0de;
  border-color: #46b8da;
}
.notification_widget.info:focus,
.notification_widget.info.focus {
  color: #fff;
  background-color: #31b0d5;
  border-color: #1b6d85;
}
.notification_widget.info:hover {
  color: #fff;
  background-color: #31b0d5;
  border-color: #269abc;
}
.notification_widget.info:active,
.notification_widget.info.active,
.open > .dropdown-toggle.notification_widget.info {
  color: #fff;
  background-color: #31b0d5;
  border-color: #269abc;
}
.notification_widget.info:active:hover,
.notification_widget.info.active:hover,
.open > .dropdown-toggle.notification_widget.info:hover,
.notification_widget.info:active:focus,
.notification_widget.info.active:focus,
.open > .dropdown-toggle.notification_widget.info:focus,
.notification_widget.info:active.focus,
.notification_widget.info.active.focus,
.open > .dropdown-toggle.notification_widget.info.focus {
  color: #fff;
  background-color: #269abc;
  border-color: #1b6d85;
}
.notification_widget.info:active,
.notification_widget.info.active,
.open > .dropdown-toggle.notification_widget.info {
  background-image: none;
}
.notification_widget.info.disabled:hover,
.notification_widget.info[disabled]:hover,
fieldset[disabled] .notification_widget.info:hover,
.notification_widget.info.disabled:focus,
.notification_widget.info[disabled]:focus,
fieldset[disabled] .notification_widget.info:focus,
.notification_widget.info.disabled.focus,
.notification_widget.info[disabled].focus,
fieldset[disabled] .notification_widget.info.focus {
  background-color: #5bc0de;
  border-color: #46b8da;
}
.notification_widget.info .badge {
  color: #5bc0de;
  background-color: #fff;
}
.notification_widget.danger {
  color: #fff;
  background-color: #d9534f;
  border-color: #d43f3a;
}
.notification_widget.danger:focus,
.notification_widget.danger.focus {
  color: #fff;
  background-color: #c9302c;
  border-color: #761c19;
}
.notification_widget.danger:hover {
  color: #fff;
  background-color: #c9302c;
  border-color: #ac2925;
}
.notification_widget.danger:active,
.notification_widget.danger.active,
.open > .dropdown-toggle.notification_widget.danger {
  color: #fff;
  background-color: #c9302c;
  border-color: #ac2925;
}
.notification_widget.danger:active:hover,
.notification_widget.danger.active:hover,
.open > .dropdown-toggle.notification_widget.danger:hover,
.notification_widget.danger:active:focus,
.notification_widget.danger.active:focus,
.open > .dropdown-toggle.notification_widget.danger:focus,
.notification_widget.danger:active.focus,
.notification_widget.danger.active.focus,
.open > .dropdown-toggle.notification_widget.danger.focus {
  color: #fff;
  background-color: #ac2925;
  border-color: #761c19;
}
.notification_widget.danger:active,
.notification_widget.danger.active,
.open > .dropdown-toggle.notification_widget.danger {
  background-image: none;
}
.notification_widget.danger.disabled:hover,
.notification_widget.danger[disabled]:hover,
fieldset[disabled] .notification_widget.danger:hover,
.notification_widget.danger.disabled:focus,
.notification_widget.danger[disabled]:focus,
fieldset[disabled] .notification_widget.danger:focus,
.notification_widget.danger.disabled.focus,
.notification_widget.danger[disabled].focus,
fieldset[disabled] .notification_widget.danger.focus {
  background-color: #d9534f;
  border-color: #d43f3a;
}
.notification_widget.danger .badge {
  color: #d9534f;
  background-color: #fff;
}
div#pager {
  background-color: #fff;
  font-size: 14px;
  line-height: 20px;
  overflow: hidden;
  display: none;
  position: fixed;
  bottom: 0px;
  width: 100%;
  max-height: 50%;
  padding-top: 8px;
  -webkit-box-shadow: 0px 0px 12px 1px rgba(87, 87, 87, 0.2);
  box-shadow: 0px 0px 12px 1px rgba(87, 87, 87, 0.2);
  /* Display over codemirror */
  z-index: 100;
  /* Hack which prevents jquery ui resizable from changing top. */
  top: auto !important;
}
div#pager pre {
  line-height: 1.21429em;
  color: #000;
  background-color: #f7f7f7;
  padding: 0.4em;
}
div#pager #pager-button-area {
  position: absolute;
  top: 8px;
  right: 20px;
}
div#pager #pager-contents {
  position: relative;
  overflow: auto;
  width: 100%;
  height: 100%;
}
div#pager #pager-contents #pager-container {
  position: relative;
  padding: 15px 0px;
  box-sizing: border-box;
  -moz-box-sizing: border-box;
  -webkit-box-sizing: border-box;
}
div#pager .ui-resizable-handle {
  top: 0px;
  height: 8px;
  background: #f7f7f7;
  border-top: 1px solid #cfcfcf;
  border-bottom: 1px solid #cfcfcf;
  /* This injects handle bars (a short, wide = symbol) for 
        the resize handle. */
}
div#pager .ui-resizable-handle::after {
  content: '';
  top: 2px;
  left: 50%;
  height: 3px;
  width: 30px;
  margin-left: -15px;
  position: absolute;
  border-top: 1px solid #cfcfcf;
}
.quickhelp {
  /* Old browsers */
  display: -webkit-box;
  -webkit-box-orient: horizontal;
  -webkit-box-align: stretch;
  display: -moz-box;
  -moz-box-orient: horizontal;
  -moz-box-align: stretch;
  display: box;
  box-orient: horizontal;
  box-align: stretch;
  /* Modern browsers */
  display: flex;
  flex-direction: row;
  align-items: stretch;
  line-height: 1.8em;
}
.shortcut_key {
  display: inline-block;
  width: 21ex;
  text-align: right;
  font-family: monospace;
}
.shortcut_descr {
  display: inline-block;
  /* Old browsers */
  -webkit-box-flex: 1;
  -moz-box-flex: 1;
  box-flex: 1;
  /* Modern browsers */
  flex: 1;
}
span.save_widget {
  height: 30px;
  margin-top: 4px;
  display: flex;
  justify-content: flex-start;
  align-items: baseline;
  width: 50%;
  flex: 1;
}
span.save_widget span.filename {
  height: 100%;
  line-height: 1em;
  margin-left: 16px;
  border: none;
  font-size: 146.5%;
  text-overflow: ellipsis;
  overflow: hidden;
  white-space: nowrap;
  border-radius: 2px;
}
span.save_widget span.filename:hover {
  background-color: #e6e6e6;
}
[dir="rtl"] span.save_widget.pull-left {
  float: right !important;
  float: right;
}
[dir="rtl"] span.save_widget span.filename {
  margin-left: 0;
  margin-right: 16px;
}
span.checkpoint_status,
span.autosave_status {
  font-size: small;
  white-space: nowrap;
  padding: 0 5px;
}
@media (max-width: 767px) {
  span.save_widget {
    font-size: small;
    padding: 0 0 0 5px;
  }
  span.checkpoint_status,
  span.autosave_status {
    display: none;
  }
}
@media (min-width: 768px) and (max-width: 991px) {
  span.checkpoint_status {
    display: none;
  }
  span.autosave_status {
    font-size: x-small;
  }
}
.toolbar {
  padding: 0px;
  margin-left: -5px;
  margin-top: 2px;
  margin-bottom: 5px;
  box-sizing: border-box;
  -moz-box-sizing: border-box;
  -webkit-box-sizing: border-box;
}
.toolbar select,
.toolbar label {
  width: auto;
  vertical-align: middle;
  margin-right: 2px;
  margin-bottom: 0px;
  display: inline;
  font-size: 92%;
  margin-left: 0.3em;
  margin-right: 0.3em;
  padding: 0px;
  padding-top: 3px;
}
.toolbar .btn {
  padding: 2px 8px;
}
.toolbar .btn-group {
  margin-top: 0px;
  margin-left: 5px;
}
.toolbar-btn-label {
  margin-left: 6px;
}
#maintoolbar {
  margin-bottom: -3px;
  margin-top: -8px;
  border: 0px;
  min-height: 27px;
  margin-left: 0px;
  padding-top: 11px;
  padding-bottom: 3px;
}
#maintoolbar .navbar-text {
  float: none;
  vertical-align: middle;
  text-align: right;
  margin-left: 5px;
  margin-right: 0px;
  margin-top: 0px;
}
.select-xs {
  height: 24px;
}
[dir="rtl"] .btn-group > .btn,
.btn-group-vertical > .btn {
  float: right;
}
.pulse,
.dropdown-menu > li > a.pulse,
li.pulse > a.dropdown-toggle,
li.pulse.open > a.dropdown-toggle {
  background-color: #F37626;
  color: white;
}
/**
 * Primary styles
 *
 * Author: Jupyter Development Team
 */
/** WARNING IF YOU ARE EDITTING THIS FILE, if this is a .css file, It has a lot
 * of chance of beeing generated from the ../less/[samename].less file, you can
 * try to get back the less file by reverting somme commit in history
 **/
/*
 * We'll try to get something pretty, so we
 * have some strange css to have the scroll bar on
 * the left with fix button on the top right of the tooltip
 */
@-moz-keyframes fadeOut {
  from {
    opacity: 1;
  }
  to {
    opacity: 0;
  }
}
@-webkit-keyframes fadeOut {
  from {
    opacity: 1;
  }
  to {
    opacity: 0;
  }
}
@-moz-keyframes fadeIn {
  from {
    opacity: 0;
  }
  to {
    opacity: 1;
  }
}
@-webkit-keyframes fadeIn {
  from {
    opacity: 0;
  }
  to {
    opacity: 1;
  }
}
/*properties of tooltip after "expand"*/
.bigtooltip {
  overflow: auto;
  height: 200px;
  -webkit-transition-property: height;
  -webkit-transition-duration: 500ms;
  -moz-transition-property: height;
  -moz-transition-duration: 500ms;
  transition-property: height;
  transition-duration: 500ms;
}
/*properties of tooltip before "expand"*/
.smalltooltip {
  -webkit-transition-property: height;
  -webkit-transition-duration: 500ms;
  -moz-transition-property: height;
  -moz-transition-duration: 500ms;
  transition-property: height;
  transition-duration: 500ms;
  text-overflow: ellipsis;
  overflow: hidden;
  height: 80px;
}
.tooltipbuttons {
  position: absolute;
  padding-right: 15px;
  top: 0px;
  right: 0px;
}
.tooltiptext {
  /*avoid the button to overlap on some docstring*/
  padding-right: 30px;
}
.ipython_tooltip {
  max-width: 700px;
  /*fade-in animation when inserted*/
  -webkit-animation: fadeOut 400ms;
  -moz-animation: fadeOut 400ms;
  animation: fadeOut 400ms;
  -webkit-animation: fadeIn 400ms;
  -moz-animation: fadeIn 400ms;
  animation: fadeIn 400ms;
  vertical-align: middle;
  background-color: #f7f7f7;
  overflow: visible;
  border: #ababab 1px solid;
  outline: none;
  padding: 3px;
  margin: 0px;
  padding-left: 7px;
  font-family: monospace;
  min-height: 50px;
  -moz-box-shadow: 0px 6px 10px -1px #adadad;
  -webkit-box-shadow: 0px 6px 10px -1px #adadad;
  box-shadow: 0px 6px 10px -1px #adadad;
  border-radius: 2px;
  position: absolute;
  z-index: 1000;
}
.ipython_tooltip a {
  float: right;
}
.ipython_tooltip .tooltiptext pre {
  border: 0;
  border-radius: 0;
  font-size: 100%;
  background-color: #f7f7f7;
}
.pretooltiparrow {
  left: 0px;
  margin: 0px;
  top: -16px;
  width: 40px;
  height: 16px;
  overflow: hidden;
  position: absolute;
}
.pretooltiparrow:before {
  background-color: #f7f7f7;
  border: 1px #ababab solid;
  z-index: 11;
  content: "";
  position: absolute;
  left: 15px;
  top: 10px;
  width: 25px;
  height: 25px;
  -webkit-transform: rotate(45deg);
  -moz-transform: rotate(45deg);
  -ms-transform: rotate(45deg);
  -o-transform: rotate(45deg);
}
ul.typeahead-list i {
  margin-left: -10px;
  width: 18px;
}
[dir="rtl"] ul.typeahead-list i {
  margin-left: 0;
  margin-right: -10px;
}
ul.typeahead-list {
  max-height: 80vh;
  overflow: auto;
}
ul.typeahead-list > li > a {
  /** Firefox bug **/
  /* see https://github.com/jupyter/notebook/issues/559 */
  white-space: normal;
}
ul.typeahead-list  > li > a.pull-right {
  float: left !important;
  float: left;
}
[dir="rtl"] .typeahead-list {
  text-align: right;
}
.cmd-palette .modal-body {
  padding: 7px;
}
.cmd-palette form {
  background: white;
}
.cmd-palette input {
  outline: none;
}
.no-shortcut {
  min-width: 20px;
  color: transparent;
}
[dir="rtl"] .no-shortcut.pull-right {
  float: left !important;
  float: left;
}
[dir="rtl"] .command-shortcut.pull-right {
  float: left !important;
  float: left;
}
.command-shortcut:before {
  content: "(command mode)";
  padding-right: 3px;
  color: #777777;
}
.edit-shortcut:before {
  content: "(edit)";
  padding-right: 3px;
  color: #777777;
}
[dir="rtl"] .edit-shortcut.pull-right {
  float: left !important;
  float: left;
}
#find-and-replace #replace-preview .match,
#find-and-replace #replace-preview .insert {
  background-color: #BBDEFB;
  border-color: #90CAF9;
  border-style: solid;
  border-width: 1px;
  border-radius: 0px;
}
[dir="ltr"] #find-and-replace .input-group-btn + .form-control {
  border-left: none;
}
[dir="rtl"] #find-and-replace .input-group-btn + .form-control {
  border-right: none;
}
#find-and-replace #replace-preview .replace .match {
  background-color: #FFCDD2;
  border-color: #EF9A9A;
  border-radius: 0px;
}
#find-and-replace #replace-preview .replace .insert {
  background-color: #C8E6C9;
  border-color: #A5D6A7;
  border-radius: 0px;
}
#find-and-replace #replace-preview {
  max-height: 60vh;
  overflow: auto;
}
#find-and-replace #replace-preview pre {
  padding: 5px 10px;
}
.terminal-app {
  background: #EEE;
}
.terminal-app #header {
  background: #fff;
  -webkit-box-shadow: 0px 0px 12px 1px rgba(87, 87, 87, 0.2);
  box-shadow: 0px 0px 12px 1px rgba(87, 87, 87, 0.2);
}
.terminal-app .terminal {
  width: 100%;
  float: left;
  font-family: monospace;
  color: white;
  background: black;
  padding: 0.4em;
  border-radius: 2px;
  -webkit-box-shadow: 0px 0px 12px 1px rgba(87, 87, 87, 0.4);
  box-shadow: 0px 0px 12px 1px rgba(87, 87, 87, 0.4);
}
.terminal-app .terminal,
.terminal-app .terminal dummy-screen {
  line-height: 1em;
  font-size: 14px;
}
.terminal-app .terminal .xterm-rows {
  padding: 10px;
}
.terminal-app .terminal-cursor {
  color: black;
  background: white;
}
.terminal-app #terminado-container {
  margin-top: 20px;
}
/*# sourceMappingURL=style.min.css.map */
    </style>
<style type="text/css">
    .highlight .hll { background-color: #ffffcc }
.highlight  { background: #f8f8f8; }
.highlight .c { color: #408080; font-style: italic } /* Comment */
.highlight .err { border: 1px solid #FF0000 } /* Error */
.highlight .k { color: #008000; font-weight: bold } /* Keyword */
.highlight .o { color: #666666 } /* Operator */
.highlight .ch { color: #408080; font-style: italic } /* Comment.Hashbang */
.highlight .cm { color: #408080; font-style: italic } /* Comment.Multiline */
.highlight .cp { color: #BC7A00 } /* Comment.Preproc */
.highlight .cpf { color: #408080; font-style: italic } /* Comment.PreprocFile */
.highlight .c1 { color: #408080; font-style: italic } /* Comment.Single */
.highlight .cs { color: #408080; font-style: italic } /* Comment.Special */
.highlight .gd { color: #A00000 } /* Generic.Deleted */
.highlight .ge { font-style: italic } /* Generic.Emph */
.highlight .gr { color: #FF0000 } /* Generic.Error */
.highlight .gh { color: #000080; font-weight: bold } /* Generic.Heading */
.highlight .gi { color: #00A000 } /* Generic.Inserted */
.highlight .go { color: #888888 } /* Generic.Output */
.highlight .gp { color: #000080; font-weight: bold } /* Generic.Prompt */
.highlight .gs { font-weight: bold } /* Generic.Strong */
.highlight .gu { color: #800080; font-weight: bold } /* Generic.Subheading */
.highlight .gt { color: #0044DD } /* Generic.Traceback */
.highlight .kc { color: #008000; font-weight: bold } /* Keyword.Constant */
.highlight .kd { color: #008000; font-weight: bold } /* Keyword.Declaration */
.highlight .kn { color: #008000; font-weight: bold } /* Keyword.Namespace */
.highlight .kp { color: #008000 } /* Keyword.Pseudo */
.highlight .kr { color: #008000; font-weight: bold } /* Keyword.Reserved */
.highlight .kt { color: #B00040 } /* Keyword.Type */
.highlight .m { color: #666666 } /* Literal.Number */
.highlight .s { color: #BA2121 } /* Literal.String */
.highlight .na { color: #7D9029 } /* Name.Attribute */
.highlight .nb { color: #008000 } /* Name.Builtin */
.highlight .nc { color: #0000FF; font-weight: bold } /* Name.Class */
.highlight .no { color: #880000 } /* Name.Constant */
.highlight .nd { color: #AA22FF } /* Name.Decorator */
.highlight .ni { color: #999999; font-weight: bold } /* Name.Entity */
.highlight .ne { color: #D2413A; font-weight: bold } /* Name.Exception */
.highlight .nf { color: #0000FF } /* Name.Function */
.highlight .nl { color: #A0A000 } /* Name.Label */
.highlight .nn { color: #0000FF; font-weight: bold } /* Name.Namespace */
.highlight .nt { color: #008000; font-weight: bold } /* Name.Tag */
.highlight .nv { color: #19177C } /* Name.Variable */
.highlight .ow { color: #AA22FF; font-weight: bold } /* Operator.Word */
.highlight .w { color: #bbbbbb } /* Text.Whitespace */
.highlight .mb { color: #666666 } /* Literal.Number.Bin */
.highlight .mf { color: #666666 } /* Literal.Number.Float */
.highlight .mh { color: #666666 } /* Literal.Number.Hex */
.highlight .mi { color: #666666 } /* Literal.Number.Integer */
.highlight .mo { color: #666666 } /* Literal.Number.Oct */
.highlight .sa { color: #BA2121 } /* Literal.String.Affix */
.highlight .sb { color: #BA2121 } /* Literal.String.Backtick */
.highlight .sc { color: #BA2121 } /* Literal.String.Char */
.highlight .dl { color: #BA2121 } /* Literal.String.Delimiter */
.highlight .sd { color: #BA2121; font-style: italic } /* Literal.String.Doc */
.highlight .s2 { color: #BA2121 } /* Literal.String.Double */
.highlight .se { color: #BB6622; font-weight: bold } /* Literal.String.Escape */
.highlight .sh { color: #BA2121 } /* Literal.String.Heredoc */
.highlight .si { color: #BB6688; font-weight: bold } /* Literal.String.Interpol */
.highlight .sx { color: #008000 } /* Literal.String.Other */
.highlight .sr { color: #BB6688 } /* Literal.String.Regex */
.highlight .s1 { color: #BA2121 } /* Literal.String.Single */
.highlight .ss { color: #19177C } /* Literal.String.Symbol */
.highlight .bp { color: #008000 } /* Name.Builtin.Pseudo */
.highlight .fm { color: #0000FF } /* Name.Function.Magic */
.highlight .vc { color: #19177C } /* Name.Variable.Class */
.highlight .vg { color: #19177C } /* Name.Variable.Global */
.highlight .vi { color: #19177C } /* Name.Variable.Instance */
.highlight .vm { color: #19177C } /* Name.Variable.Magic */
.highlight .il { color: #666666 } /* Literal.Number.Integer.Long */
    </style>
<style type="text/css">
    
/* Temporary definitions which will become obsolete with Notebook release 5.0 */
.ansi-black-fg { color: #3E424D; }
.ansi-black-bg { background-color: #3E424D; }
.ansi-black-intense-fg { color: #282C36; }
.ansi-black-intense-bg { background-color: #282C36; }
.ansi-red-fg { color: #E75C58; }
.ansi-red-bg { background-color: #E75C58; }
.ansi-red-intense-fg { color: #B22B31; }
.ansi-red-intense-bg { background-color: #B22B31; }
.ansi-green-fg { color: #00A250; }
.ansi-green-bg { background-color: #00A250; }
.ansi-green-intense-fg { color: #007427; }
.ansi-green-intense-bg { background-color: #007427; }
.ansi-yellow-fg { color: #DDB62B; }
.ansi-yellow-bg { background-color: #DDB62B; }
.ansi-yellow-intense-fg { color: #B27D12; }
.ansi-yellow-intense-bg { background-color: #B27D12; }
.ansi-blue-fg { color: #208FFB; }
.ansi-blue-bg { background-color: #208FFB; }
.ansi-blue-intense-fg { color: #0065CA; }
.ansi-blue-intense-bg { background-color: #0065CA; }
.ansi-magenta-fg { color: #D160C4; }
.ansi-magenta-bg { background-color: #D160C4; }
.ansi-magenta-intense-fg { color: #A03196; }
.ansi-magenta-intense-bg { background-color: #A03196; }
.ansi-cyan-fg { color: #60C6C8; }
.ansi-cyan-bg { background-color: #60C6C8; }
.ansi-cyan-intense-fg { color: #258F8F; }
.ansi-cyan-intense-bg { background-color: #258F8F; }
.ansi-white-fg { color: #C5C1B4; }
.ansi-white-bg { background-color: #C5C1B4; }
.ansi-white-intense-fg { color: #A1A6B2; }
.ansi-white-intense-bg { background-color: #A1A6B2; }

.ansi-bold { font-weight: bold; }

    </style>
<style type="text/css">
    body[data-notebook-name] > #header #header-container:not(.show-panel), /* body has data-notebook-name attribute when 
a notebook is open. this rule won't be applied when the notebook is not open (in 404 view for example) */
body[data-notebook-name] #menubar-container #maintoolbar:not(.show-panel),
body[data-notebook-name] #menubar-container ul.navbar-nav:not(.show-panel) {
  display: none;
}

#menubar.only-panel #menus.navbar-default {
    background: #fff;
    border-color: #fff;
}

.toolbar.with-statusbar{
    margin-top: 3px;
    margin-bottom: 0;
}

    </style>


<style type="text/css">
/* Overrides of notebook CSS for static HTML export */
body {
  overflow: visible;
  padding: 8px;
}

div#notebook {
  overflow: visible;
  border-top: none;
}@media print {
  div.cell {
    display: block;
    page-break-inside: avoid;
  } 
  div.output_wrapper { 
    display: block;
    page-break-inside: avoid; 
  }
  div.output { 
    display: block;
    page-break-inside: avoid; 
  }
}
</style>

<!-- Custom stylesheet, it must be in the same directory as the html file -->
<link rel="stylesheet" href="custom.css">

<!-- Loading mathjax macro -->
<!-- Load mathjax -->
    <script src="https://cdnjs.cloudflare.com/ajax/libs/mathjax/2.7.1/MathJax.js?config=TeX-AMS_HTML"></script>
    <!-- MathJax configuration -->
    <script type="text/x-mathjax-config">
    MathJax.Hub.Config({
        tex2jax: {
            inlineMath: [ ['$','$'], ["\\(","\\)"] ],
            displayMath: [ ['$$','$$'], ["\\[","\\]"] ],
            processEscapes: true,
            processEnvironments: true
        },
        // Center justify equations in code and markdown cells. Elsewhere
        // we use CSS to left justify single line equations in code cells.
        displayAlign: 'center',
        "HTML-CSS": {
            styles: {'.MathJax_Display': {"margin": 0}},
            linebreaks: { automatic: true }
        }
    });
    </script>
    <!-- End of mathjax configuration --></head>
<body>
  <div tabindex="-1" id="notebook" class="border-box-sizing">
    <div class="container" id="notebook-container">

<div class="cell border-box-sizing code_cell rendered">
<div class="input">
<div class="prompt input_prompt">In&nbsp;[1]:</div>
<div class="inner_cell">
    <div class="input_area">
<div class=" highlight hl-ipython3"><pre><span></span><span class="kn">import</span> <span class="nn">matplotlib</span>
<span class="kn">import</span> <span class="nn">pandas</span> <span class="k">as</span> <span class="nn">pd</span>
<span class="kn">import</span> <span class="nn">numpy</span> <span class="k">as</span> <span class="nn">np</span>
<span class="kn">import</span> <span class="nn">requests</span>
<span class="kn">import</span> <span class="nn">tweepy</span>
<span class="kn">import</span> <span class="nn">os</span>
<span class="kn">import</span> <span class="nn">json</span>
<span class="kn">import</span> <span class="nn">time</span>
<span class="kn">import</span> <span class="nn">re</span>
<span class="kn">import</span> <span class="nn">matplotlib.pyplot</span> <span class="k">as</span> <span class="nn">plt</span>
<span class="kn">import</span> <span class="nn">warnings</span>
<span class="kn">import</span> <span class="nn">seaborn</span> <span class="k">as</span> <span class="nn">sns</span>

<span class="o">%</span><span class="k">matplotlib</span> inline
</pre></div>

    </div>
</div>
</div>

</div>
<div class="cell border-box-sizing code_cell rendered">
<div class="input">
<div class="prompt input_prompt">In&nbsp;[2]:</div>
<div class="inner_cell">
    <div class="input_area">
<div class=" highlight hl-ipython3"><pre><span></span><span class="n">df_twitter_master</span> <span class="o">=</span> <span class="n">pd</span><span class="o">.</span><span class="n">read_csv</span><span class="p">(</span><span class="s1">&#39;twitter_archive_master.csv&#39;</span><span class="p">)</span>
</pre></div>

    </div>
</div>
</div>

</div>
<div class="cell border-box-sizing code_cell rendered">
<div class="input">
<div class="prompt input_prompt">In&nbsp;[4]:</div>
<div class="inner_cell">
    <div class="input_area">
<div class=" highlight hl-ipython3"><pre><span></span><span class="c1"># Histogram</span>
<span class="n">df_twitter_master</span><span class="o">.</span><span class="n">hist</span><span class="p">(</span><span class="n">figsize</span><span class="o">=</span><span class="p">(</span><span class="mi">15</span><span class="p">,</span><span class="mi">15</span><span class="p">));</span>
</pre></div>

    </div>
</div>
</div>

<div class="output_wrapper">
<div class="output">


<div class="output_area">

    <div class="prompt"></div>




<div class="output_png output_subarea ">
<img src="data:image/png;base64,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
"
>
</div>

</div>

</div>
</div>

</div>
<div class="cell border-box-sizing code_cell rendered">
<div class="input">
<div class="prompt input_prompt">In&nbsp;[24]:</div>
<div class="inner_cell">
    <div class="input_area">
<div class=" highlight hl-ipython3"><pre><span></span><span class="c1"># Plot total counts for 3 sources in pie chart</span>
<span class="n">plt</span><span class="o">.</span><span class="n">title</span><span class="p">(</span><span class="s2">&quot;Number Of Dogs For Each Stage&quot;</span><span class="p">,</span> <span class="n">size</span><span class="o">=</span><span class="mi">15</span><span class="p">)</span>
<span class="n">df_twitter_master</span><span class="p">[</span><span class="s1">&#39;dog_stage&#39;</span><span class="p">]</span><span class="o">.</span><span class="n">value_counts</span><span class="p">()</span><span class="o">.</span><span class="n">plot</span><span class="p">(</span><span class="n">kind</span><span class="o">=</span><span class="s1">&#39;pie&#39;</span><span class="p">,</span><span class="n">figsize</span><span class="o">=</span><span class="p">(</span><span class="mi">10</span><span class="p">,</span><span class="mi">10</span><span class="p">),</span><span class="n">fontsize</span><span class="o">=</span><span class="mi">15</span><span class="p">)</span>
<span class="n">plt</span><span class="o">.</span><span class="n">ylabel</span><span class="p">(</span><span class="s1">&#39;&#39;</span><span class="p">);</span>
</pre></div>

    </div>
</div>
</div>

<div class="output_wrapper">
<div class="output">


<div class="output_area">

    <div class="prompt"></div>




<div class="output_png output_subarea ">
<img src="data:image/png;base64,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
"
>
</div>

</div>

</div>
</div>

</div>
<div class="cell border-box-sizing code_cell rendered">
<div class="input">
<div class="prompt input_prompt">In&nbsp;[25]:</div>
<div class="inner_cell">
    <div class="input_area">
<div class=" highlight hl-ipython3"><pre><span></span><span class="n">plt</span><span class="o">.</span><span class="n">figure</span><span class="p">(</span><span class="n">figsize</span><span class="o">=</span><span class="p">(</span><span class="mi">15</span><span class="p">,</span><span class="mi">8</span><span class="p">))</span>
<span class="n">plt</span><span class="o">.</span><span class="n">title</span><span class="p">(</span><span class="s2">&quot;Favorite vs. Retweet&quot;</span><span class="p">,</span> <span class="n">size</span><span class="o">=</span><span class="mi">15</span><span class="p">)</span>
<span class="n">sns</span><span class="o">.</span><span class="n">regplot</span><span class="p">(</span><span class="n">x</span><span class="o">=</span><span class="s1">&#39;favorite_count&#39;</span><span class="p">,</span> <span class="n">y</span><span class="o">=</span><span class="s1">&#39;retweet_count&#39;</span><span class="p">,</span> <span class="n">data</span><span class="o">=</span><span class="n">df_twitter_master</span><span class="p">)</span>
<span class="n">plt</span><span class="o">.</span><span class="n">ylabel</span><span class="p">(</span><span class="s2">&quot;Retweet Count&quot;</span><span class="p">,</span> <span class="n">size</span><span class="o">=</span><span class="mi">20</span><span class="p">)</span>
<span class="n">plt</span><span class="o">.</span><span class="n">xlabel</span><span class="p">(</span><span class="s2">&quot;Favorite Count&quot;</span><span class="p">,</span> <span class="n">size</span><span class="o">=</span><span class="mi">20</span><span class="p">);</span>
</pre></div>

    </div>
</div>
</div>

<div class="output_wrapper">
<div class="output">


<div class="output_area">

    <div class="prompt"></div>




<div class="output_png output_subarea ">
<img src="data:image/png;base64,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
"
>
</div>

</div>

</div>
</div>

</div>
<div class="cell border-box-sizing code_cell rendered">
<div class="input">
<div class="prompt input_prompt">In&nbsp;[26]:</div>
<div class="inner_cell">
    <div class="input_area">
<div class=" highlight hl-ipython3"><pre><span></span><span class="c1"># Set the size of A4 paper</span>
<span class="n">plt</span><span class="o">.</span><span class="n">figure</span><span class="p">(</span><span class="n">figsize</span><span class="o">=</span><span class="p">(</span><span class="mi">15</span><span class="p">,</span><span class="mi">8</span><span class="p">))</span>

<span class="c1"># Seaborn Swarmplot &amp; Boxplot</span>
<span class="n">X</span> <span class="o">=</span> <span class="n">df_twitter_master</span><span class="p">[</span><span class="n">df_twitter_master</span><span class="o">.</span><span class="n">dog_stage</span><span class="o">.</span><span class="n">notnull</span><span class="p">()]</span>
<span class="n">sns</span><span class="o">.</span><span class="n">swarmplot</span><span class="p">(</span><span class="n">x</span><span class="o">=</span><span class="s2">&quot;dog_stage&quot;</span><span class="p">,</span> <span class="n">y</span><span class="o">=</span><span class="s2">&quot;favorite_count&quot;</span><span class="p">,</span> <span class="n">data</span><span class="o">=</span><span class="n">X</span><span class="p">,</span> <span class="n">size</span><span class="o">=</span><span class="mi">8</span><span class="p">)</span>
<span class="n">sns</span><span class="o">.</span><span class="n">boxplot</span><span class="p">(</span><span class="n">x</span><span class="o">=</span><span class="s2">&quot;dog_stage&quot;</span><span class="p">,</span> <span class="n">y</span><span class="o">=</span><span class="s2">&quot;favorite_count&quot;</span><span class="p">,</span> <span class="n">data</span><span class="o">=</span><span class="n">X</span><span class="p">)</span>

<span class="c1"># Change label names and fontsizes</span>
<span class="n">plt</span><span class="o">.</span><span class="n">title</span><span class="p">(</span><span class="s2">&quot;favorite count vs. Dogs Stages&quot;</span><span class="p">,</span> <span class="n">size</span><span class="o">=</span><span class="mi">15</span><span class="p">)</span>
<span class="n">plt</span><span class="o">.</span><span class="n">xlabel</span><span class="p">(</span><span class="s1">&#39;Dog Stage&#39;</span><span class="p">,</span> <span class="n">fontsize</span><span class="o">=</span><span class="mi">20</span><span class="p">)</span>
<span class="n">plt</span><span class="o">.</span><span class="n">ylabel</span><span class="p">(</span><span class="s1">&#39;favorite count&#39;</span><span class="p">,</span> <span class="n">fontsize</span><span class="o">=</span><span class="mi">20</span><span class="p">);</span>
</pre></div>

    </div>
</div>
</div>

<div class="output_wrapper">
<div class="output">


<div class="output_area">

    <div class="prompt"></div>




<div class="output_png output_subarea ">
<img src="data:image/png;base64,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
"
>
</div>

</div>

</div>
</div>

</div>
<div class="cell border-box-sizing text_cell rendered"><div class="prompt input_prompt">
</div><div class="inner_cell">
<div class="text_cell_render border-box-sizing rendered_html">
<h4 id="remove-all-rows-with-rating_denominator-and-then-remove-the-column-also,-remove-rating_numerator-value-that-are-&gt;-10">remove all rows with rating_denominator and then remove the column also, remove rating_numerator value that are &gt; 10<a class="anchor-link" href="#remove-all-rows-with-rating_denominator-and-then-remove-the-column-also,-remove-rating_numerator-value-that-are-&gt;-10">&#182;</a></h4>
</div>
</div>
</div>
<div class="cell border-box-sizing code_cell rendered">
<div class="input">
<div class="prompt input_prompt">In&nbsp;[8]:</div>
<div class="inner_cell">
    <div class="input_area">
<div class=" highlight hl-ipython3"><pre><span></span><span class="n">df_twitter_master</span><span class="o">.</span><span class="n">drop</span><span class="p">(</span><span class="n">df_twitter_master</span><span class="p">[</span><span class="n">df_twitter_master</span><span class="o">.</span><span class="n">rating_denominator</span> <span class="o">!=</span> <span class="mi">10</span><span class="p">]</span><span class="o">.</span><span class="n">index</span><span class="p">,</span> <span class="n">inplace</span> <span class="o">=</span> <span class="kc">True</span><span class="p">)</span>
</pre></div>

    </div>
</div>
</div>

</div>
<div class="cell border-box-sizing code_cell rendered">
<div class="input">
<div class="prompt input_prompt">In&nbsp;[9]:</div>
<div class="inner_cell">
    <div class="input_area">
<div class=" highlight hl-ipython3"><pre><span></span><span class="n">df_twitter_master</span><span class="o">.</span><span class="n">drop</span><span class="p">(</span><span class="n">df_twitter_master</span><span class="p">[</span><span class="n">df_twitter_master</span><span class="o">.</span><span class="n">rating_numerator</span> <span class="o">&gt;</span> <span class="mi">15</span><span class="p">]</span><span class="o">.</span><span class="n">index</span><span class="p">,</span> <span class="n">inplace</span> <span class="o">=</span> <span class="kc">True</span><span class="p">)</span>
</pre></div>

    </div>
</div>
</div>

</div>
<div class="cell border-box-sizing code_cell rendered">
<div class="input">
<div class="prompt input_prompt">In&nbsp;[10]:</div>
<div class="inner_cell">
    <div class="input_area">
<div class=" highlight hl-ipython3"><pre><span></span><span class="n">df_twitter_master</span> <span class="o">=</span> <span class="n">df_twitter_master</span><span class="o">.</span><span class="n">drop</span><span class="p">(</span><span class="n">columns</span><span class="o">=</span><span class="p">[</span><span class="s1">&#39;rating_denominator&#39;</span><span class="p">])</span>
</pre></div>

    </div>
</div>
</div>

</div>
<div class="cell border-box-sizing code_cell rendered">
<div class="input">
<div class="prompt input_prompt">In&nbsp;[18]:</div>
<div class="inner_cell">
    <div class="input_area">
<div class=" highlight hl-ipython3"><pre><span></span><span class="n">df_twitter_master</span><span class="o">.</span><span class="n">rename</span><span class="p">(</span><span class="n">index</span><span class="o">=</span><span class="nb">str</span><span class="p">,</span> <span class="n">columns</span><span class="o">=</span><span class="p">{</span><span class="s2">&quot;rating_numerator&quot;</span><span class="p">:</span> <span class="s2">&quot;rating&quot;</span><span class="p">},</span> <span class="n">inplace</span><span class="o">=</span><span class="kc">True</span><span class="p">)</span>
</pre></div>

    </div>
</div>
</div>

</div>
<div class="cell border-box-sizing code_cell rendered">
<div class="input">
<div class="prompt input_prompt">In&nbsp;[23]:</div>
<div class="inner_cell">
    <div class="input_area">
<div class=" highlight hl-ipython3"><pre><span></span><span class="n">plt</span><span class="o">.</span><span class="n">figure</span><span class="p">(</span><span class="n">figsize</span><span class="o">=</span><span class="p">(</span><span class="mi">15</span><span class="p">,</span><span class="mi">8</span><span class="p">))</span>

<span class="c1"># Seaborn Swarmplot &amp; Boxplot</span>
<span class="n">X</span> <span class="o">=</span> <span class="n">df_twitter_master</span><span class="p">[</span><span class="n">df_twitter_master</span><span class="o">.</span><span class="n">dog_stage</span><span class="o">.</span><span class="n">notnull</span><span class="p">()]</span>
<span class="n">sns</span><span class="o">.</span><span class="n">swarmplot</span><span class="p">(</span><span class="n">x</span><span class="o">=</span><span class="s2">&quot;dog_stage&quot;</span><span class="p">,</span> <span class="n">y</span><span class="o">=</span><span class="s2">&quot;rating&quot;</span><span class="p">,</span> <span class="n">data</span><span class="o">=</span><span class="n">X</span><span class="p">,</span> <span class="n">size</span><span class="o">=</span><span class="mi">8</span><span class="p">)</span>
<span class="n">sns</span><span class="o">.</span><span class="n">boxplot</span><span class="p">(</span><span class="n">x</span><span class="o">=</span><span class="s2">&quot;dog_stage&quot;</span><span class="p">,</span> <span class="n">y</span><span class="o">=</span><span class="s2">&quot;rating&quot;</span><span class="p">,</span> <span class="n">data</span><span class="o">=</span><span class="n">X</span><span class="p">)</span>

<span class="c1"># Change label names and fontsizes</span>
<span class="n">plt</span><span class="o">.</span><span class="n">title</span><span class="p">(</span><span class="s2">&quot;Ratings vs. Dogs Stages&quot;</span><span class="p">,</span> <span class="n">size</span><span class="o">=</span><span class="mi">30</span><span class="p">)</span>
<span class="n">plt</span><span class="o">.</span><span class="n">xlabel</span><span class="p">(</span><span class="s1">&#39;Dog Stage&#39;</span><span class="p">,</span> <span class="n">fontsize</span><span class="o">=</span><span class="mi">20</span><span class="p">)</span>
<span class="n">plt</span><span class="o">.</span><span class="n">ylabel</span><span class="p">(</span><span class="s1">&#39;rating&#39;</span><span class="p">,</span> <span class="n">fontsize</span><span class="o">=</span><span class="mi">20</span><span class="p">)</span>
</pre></div>

    </div>
</div>
</div>

<div class="output_wrapper">
<div class="output">


<div class="output_area">

    <div class="prompt output_prompt">Out[23]:</div>




<div class="output_text output_subarea output_execute_result">
<pre>Text(0,0.5,&#39;rating&#39;)</pre>
</div>

</div>

<div class="output_area">

    <div class="prompt"></div>




<div class="output_png output_subarea ">
<img src="data:image/png;base64,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
"
>
</div>

</div>

</div>
</div>

</div>
    </div>
  </div>
</body>

 


</html>
